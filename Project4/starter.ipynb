{
 "cells": [
  {
   "cell_type": "markdown",
   "metadata": {},
   "source": [
    "# Deploy and monitor a machine learning workflow for Image Classification"
   ]
  },
  {
   "cell_type": "markdown",
   "metadata": {},
   "source": [
    "## Setting up this notebook\n",
    "\n",
    "Notes about the instance size and kernel setup: this notebook has been tested on\n",
    "\n",
    "1. The `Python 3 (Data Science)` kernel\n",
    "2. The `ml.t3.medium` Sagemaker notebook instance\n",
    "\n",
    "## Data Staging\n",
    "\n",
    "We'll use a sample dataset called CIFAR to simulate the challenges Scones Unlimited are facing in Image Classification. In order to start working with CIFAR we'll need to:\n",
    "\n",
    "1. Extract the data from a hosting service\n",
    "2. Transform it into a usable shape and format\n",
    "3. Load it into a production system\n",
    "\n",
    "In other words, we're going to do some simple ETL!\n",
    "\n",
    "### 1. Extract the data from the hosting service\n",
    "\n",
    "In the cell below, define a function `extract_cifar_data` that extracts python version of the CIFAR-100 dataset. The CIFAR dataaset is open source and generously hosted by the University of Toronto at: https://www.cs.toronto.edu/~kriz/cifar-100-python.tar.gz "
   ]
  },
  {
   "cell_type": "code",
   "execution_count": 1,
   "metadata": {
    "tags": []
   },
   "outputs": [],
   "source": [
    "import requests\n",
    "\n",
    "def extract_cifar_data(url, filename=\"cifar.tar.gz\"):\n",
    "    \"\"\"A function for extracting the CIFAR-100 dataset and storing it as a gzipped file\n",
    "    \n",
    "    Arguments:\n",
    "    url      -- the URL where the dataset is hosted\n",
    "    filename -- the full path where the dataset will be written\n",
    "    \n",
    "    \"\"\"\n",
    "    \n",
    "    # Todo: request the data from the data url\n",
    "    # Hint: use `requests.get` method\n",
    "    r =requests.get(url) \n",
    "    with open(filename, \"wb\") as file_context:\n",
    "        file_context.write(r.content)\n",
    "    return"
   ]
  },
  {
   "cell_type": "markdown",
   "metadata": {},
   "source": [
    "Let's test it out! Run the following cell and check whether a new file `cifar.tar.gz` is created in the file explorer."
   ]
  },
  {
   "cell_type": "code",
   "execution_count": 2,
   "metadata": {
    "tags": []
   },
   "outputs": [],
   "source": [
    "extract_cifar_data(\"https://www.cs.toronto.edu/~kriz/cifar-100-python.tar.gz\")     "
   ]
  },
  {
   "cell_type": "markdown",
   "metadata": {},
   "source": [
    "### 2. Transform the data into a usable shape and format\n",
    "\n",
    "Clearly, distributing the data as a gzipped archive makes sense for the hosting service! It saves on bandwidth, storage, and it's a widely-used archive format. In fact, it's so widely used that the Python community ships a utility for working with them, `tarfile`, as part of its Standard Library. Execute the following cell to decompress your extracted dataset:"
   ]
  },
  {
   "cell_type": "code",
   "execution_count": 3,
   "metadata": {
    "tags": []
   },
   "outputs": [],
   "source": [
    "import tarfile\n",
    "\n",
    "with tarfile.open(\"cifar.tar.gz\", \"r:gz\") as tar:\n",
    "    tar.extractall()"
   ]
  },
  {
   "cell_type": "markdown",
   "metadata": {},
   "source": [
    "A new folder `cifar-100-python` should be created, containing `meta`, `test`, and `train` files. These files are `pickles` and the [CIFAR homepage](https://www.cs.toronto.edu/~kriz/cifar.html) provides a simple script that can be used to load them. We've adapted the script below for you to run:"
   ]
  },
  {
   "cell_type": "code",
   "execution_count": 4,
   "metadata": {
    "tags": []
   },
   "outputs": [],
   "source": [
    "import pickle\n",
    "\n",
    "with open(\"./cifar-100-python/meta\", \"rb\") as f:\n",
    "    dataset_meta = pickle.load(f, encoding='bytes')\n",
    "\n",
    "with open(\"./cifar-100-python/test\", \"rb\") as f:\n",
    "    dataset_test = pickle.load(f, encoding='bytes')\n",
    "\n",
    "with open(\"./cifar-100-python/train\", \"rb\") as f:\n",
    "    dataset_train = pickle.load(f, encoding='bytes')"
   ]
  },
  {
   "cell_type": "code",
   "execution_count": 5,
   "metadata": {
    "tags": []
   },
   "outputs": [
    {
     "data": {
      "text/plain": [
       "dict_keys([b'filenames', b'batch_label', b'fine_labels', b'coarse_labels', b'data'])"
      ]
     },
     "execution_count": 5,
     "metadata": {},
     "output_type": "execute_result"
    }
   ],
   "source": [
    "# Feel free to explore the datasets\n",
    "\n",
    "dataset_train.keys()"
   ]
  },
  {
   "cell_type": "markdown",
   "metadata": {},
   "source": [
    "As documented on the homepage, `b'data'` contains rows of 3073 unsigned integers, representing three channels (red, green, and blue) for one 32x32 pixel image per row."
   ]
  },
  {
   "cell_type": "code",
   "execution_count": 6,
   "metadata": {
    "tags": []
   },
   "outputs": [
    {
     "data": {
      "text/plain": [
       "3072"
      ]
     },
     "execution_count": 6,
     "metadata": {},
     "output_type": "execute_result"
    }
   ],
   "source": [
    "32*32*3"
   ]
  },
  {
   "cell_type": "markdown",
   "metadata": {},
   "source": [
    "For a simple gut-check, let's transform one of our images. Each 1024 items in a row is a channel (red, green, then blue). Each 32 items in the channel are a row in the 32x32 image. Using python, we can stack these channels into a 32x32x3 array, and save it as a PNG file:"
   ]
  },
  {
   "cell_type": "code",
   "execution_count": 7,
   "metadata": {
    "tags": []
   },
   "outputs": [],
   "source": [
    "import numpy as np\n",
    "\n",
    "# Each 1024 in a row is a channel (red, green, then blue)\n",
    "row = dataset_train[b'data'][0]\n",
    "red, green, blue = row[0:1024], row[1024:2048], row[2048:]\n",
    "\n",
    "# Each 32 items in the channel are a row in the 32x32 image\n",
    "red = red.reshape(32,32)\n",
    "green = green.reshape(32,32)\n",
    "blue = blue.reshape(32,32)\n",
    "\n",
    "# Combine the channels into a 32x32x3 image!\n",
    "combined = np.dstack((red,green,blue))"
   ]
  },
  {
   "cell_type": "markdown",
   "metadata": {},
   "source": [
    "For a more concise version, consider the following:"
   ]
  },
  {
   "cell_type": "code",
   "execution_count": 8,
   "metadata": {
    "tags": []
   },
   "outputs": [],
   "source": [
    "# All in one:\n",
    "test_image = np.dstack((\n",
    "    row[0:1024].reshape(32,32),\n",
    "    row[1024:2048].reshape(32,32),\n",
    "    row[2048:].reshape(32,32)\n",
    "))"
   ]
  },
  {
   "cell_type": "code",
   "execution_count": 9,
   "metadata": {
    "tags": []
   },
   "outputs": [
    {
     "name": "stderr",
     "output_type": "stream",
     "text": [
      "Matplotlib is building the font cache; this may take a moment.\n"
     ]
    },
    {
     "data": {
      "image/png": "[encoded data removed]",
      "text/plain": [
       "<Figure size 640x480 with 1 Axes>"
      ]
     },
     "metadata": {},
     "output_type": "display_data"
    }
   ],
   "source": [
    "import matplotlib.pyplot as plt\n",
    "plt.imshow(test_image);"
   ]
  },
  {
   "cell_type": "markdown",
   "metadata": {},
   "source": [
    "Looks like a cow! Let's check the label. `dataset_meta` contains label names in order, and `dataset_train` has a list of labels for each row."
   ]
  },
  {
   "cell_type": "code",
   "execution_count": 10,
   "metadata": {
    "tags": []
   },
   "outputs": [
    {
     "data": {
      "text/plain": [
       "19"
      ]
     },
     "execution_count": 10,
     "metadata": {},
     "output_type": "execute_result"
    }
   ],
   "source": [
    "dataset_train[b'fine_labels'][0]"
   ]
  },
  {
   "cell_type": "markdown",
   "metadata": {},
   "source": [
    "Our image has a label of `19`, so let's see what the 19th item is in the list of label names."
   ]
  },
  {
   "cell_type": "code",
   "execution_count": 11,
   "metadata": {
    "tags": []
   },
   "outputs": [
    {
     "name": "stdout",
     "output_type": "stream",
     "text": [
      "b'cattle'\n"
     ]
    }
   ],
   "source": [
    "print(dataset_meta[b'fine_label_names'][19])"
   ]
  },
  {
   "cell_type": "markdown",
   "metadata": {},
   "source": [
    "Ok! 'cattle' sounds about right. By the way, using the previous two lines we can do:"
   ]
  },
  {
   "cell_type": "code",
   "execution_count": 12,
   "metadata": {
    "tags": []
   },
   "outputs": [
    {
     "name": "stdout",
     "output_type": "stream",
     "text": [
      "b'cattle'\n"
     ]
    }
   ],
   "source": [
    "n = 0\n",
    "print(dataset_meta[b'fine_label_names'][dataset_train[b'fine_labels'][n]])"
   ]
  },
  {
   "cell_type": "markdown",
   "metadata": {},
   "source": [
    "Now we know how to check labels, is there a way that we can also check file names? `dataset_train` also contains a `b'filenames'` key. Let's see what we have here:"
   ]
  },
  {
   "cell_type": "code",
   "execution_count": 13,
   "metadata": {
    "tags": []
   },
   "outputs": [
    {
     "name": "stdout",
     "output_type": "stream",
     "text": [
      "b'bos_taurus_s_000507.png'\n"
     ]
    }
   ],
   "source": [
    "print(dataset_train[b'filenames'][0])"
   ]
  },
  {
   "cell_type": "markdown",
   "metadata": {},
   "source": [
    "\"Taurus\" is the name of a subspecies of cattle, so this looks like a pretty reasonable filename. To save an image we can also do:"
   ]
  },
  {
   "cell_type": "code",
   "execution_count": 14,
   "metadata": {
    "tags": []
   },
   "outputs": [],
   "source": [
    "plt.imsave(\"file.png\", test_image)"
   ]
  },
  {
   "cell_type": "markdown",
   "metadata": {},
   "source": [
    "Your new PNG file should now appear in the file explorer -- go ahead and pop it open to see!\n",
    "\n",
    "Now that you know how to reshape the images, save them as files, and capture their filenames and labels, let's just capture all the bicycles and motorcycles and save them. Scones Unlimited can use a model that tells these apart to route delivery drivers automatically.\n",
    "\n",
    "In the following cell, identify the label numbers for Bicycles and Motorcycles:"
   ]
  },
  {
   "cell_type": "code",
   "execution_count": 15,
   "metadata": {
    "tags": []
   },
   "outputs": [
    {
     "name": "stdout",
     "output_type": "stream",
     "text": [
      "Bicycle Label: 8\n",
      "Motorcycle Label: 48\n"
     ]
    }
   ],
   "source": [
    "# Todo: Filter the dataset_train and dataset_meta objects to find the label numbers for Bicycle and Motorcycles\n",
    "\n",
    "import pandas as pd\n",
    "\n",
    "# Find the label numbers for Bicycle and Motorcycle\n",
    "bicycle_label = dataset_meta[b'fine_label_names'].index(b'bicycle')\n",
    "motorcycle_label = dataset_meta[b'fine_label_names'].index(b'motorcycle')\n",
    "\n",
    "print(\"Bicycle Label:\", bicycle_label)\n",
    "print(\"Motorcycle Label:\", motorcycle_label)\n"
   ]
  },
  {
   "cell_type": "markdown",
   "metadata": {},
   "source": [
    "Good job! We only need objects with label 8 and 48 -- this drastically simplifies our handling of the data! Below we construct a dataframe for you, and you can safely drop the rows that don't contain observations about bicycles and motorcycles. Fill in the missing lines below to drop all other rows:"
   ]
  },
  {
   "cell_type": "code",
   "execution_count": 16,
   "metadata": {
    "tags": []
   },
   "outputs": [],
   "source": [
    "#Construct the dataframe\n",
    "df_train = pd.DataFrame({\n",
    "    \"filenames\": dataset_train[b'filenames'],\n",
    "    \"labels\": dataset_train[b'fine_labels'],\n",
    "    \"row\": range(len(dataset_train[b'filenames']))\n",
    "})\n",
    "\n",
    "# Drop all rows from df_train where label is not 8 or 48\n",
    "#TODO: Fill in\n",
    "df_train = df_train[(df_train['labels'] == bicycle_label) | (df_train['labels'] == motorcycle_label)]\n",
    "\n",
    "# Decode df_train.filenames so they are regular strings\n",
    "df_train[\"filenames\"] = df_train[\"filenames\"].apply(\n",
    "    lambda x: x.decode(\"utf-8\")\n",
    ")\n",
    "\n",
    "\n",
    "df_test = pd.DataFrame({\n",
    "    \"filenames\": dataset_test[b'filenames'],\n",
    "    \"labels\": dataset_test[b'fine_labels'],\n",
    "    \"row\": range(len(dataset_test[b'filenames']))\n",
    "})\n",
    "\n",
    "# Drop all rows from df_test where label is not 8 or 48\n",
    "#TODO: Fill in\n",
    "df_test = df_test[(df_test['labels'] == bicycle_label) | (df_test['labels'] == motorcycle_label)]\n",
    "\n",
    "# Decode df_test.filenames so they are regular strings\n",
    "df_test[\"filenames\"] = df_test[\"filenames\"].apply(\n",
    "    lambda x: x.decode(\"utf-8\")\n",
    ")"
   ]
  },
  {
   "cell_type": "markdown",
   "metadata": {},
   "source": [
    "Now that the data is filtered for just our classes, we can save all our images."
   ]
  },
  {
   "cell_type": "code",
   "execution_count": 17,
   "metadata": {
    "tags": []
   },
   "outputs": [],
   "source": [
    "!mkdir ./train\n",
    "!mkdir ./test"
   ]
  },
  {
   "cell_type": "markdown",
   "metadata": {},
   "source": [
    "In the previous sections we introduced you to several key snippets of code:\n",
    "\n",
    "1. Grabbing the image data:\n",
    "\n",
    "```python\n",
    "dataset_train[b'data'][0]\n",
    "```\n",
    "\n",
    "2. A simple idiom for stacking the image data into the right shape\n",
    "\n",
    "```python\n",
    "import numpy as np\n",
    "np.dstack((\n",
    "    row[0:1024].reshape(32,32),\n",
    "    row[1024:2048].reshape(32,32),\n",
    "    row[2048:].reshape(32,32)\n",
    "))\n",
    "```\n",
    "\n",
    "3. A simple `matplotlib` utility for saving images\n",
    "\n",
    "```python\n",
    "plt.imsave(path+row['filenames'], target)\n",
    "```\n",
    "\n",
    "Compose these together into a function that saves all the images into the `./test` and `./train` directories. Use the comments in the body of the `save_images` function below to guide your construction of the function:\n"
   ]
  },
  {
   "cell_type": "code",
   "execution_count": 21,
   "metadata": {
    "tags": []
   },
   "outputs": [
    {
     "data": {
      "text/plain": [
       "0"
      ]
     },
     "execution_count": 21,
     "metadata": {},
     "output_type": "execute_result"
    }
   ],
   "source": [
    "def save_images(path, dataset, df):\n",
    "    #Grab the image data in row-major form\n",
    "    for r in df['row']:\n",
    "        img = dataset[b'data'][r]\n",
    "        # Consolidated stacking/reshaping from earlier\n",
    "        target = np.dstack((\n",
    "        img[0:1024].reshape(32,32),\n",
    "        img[1024:2048].reshape(32,32),\n",
    "        img[2048:].reshape(32,32)\n",
    "        ))\n",
    "\n",
    "        # Save the image\n",
    "\n",
    "        plt.imsave(path+df['filenames'][r], target)\n",
    "    # Return any signal data you want for debugging\n",
    "    return 0\n",
    "\n",
    "## TODO: save ALL images using the save_images function\n",
    "save_images(path='./train/', dataset=dataset_train, df=df_train)\n",
    "save_images(path='./test/', dataset=dataset_test, df=df_test)"
   ]
  },
  {
   "cell_type": "markdown",
   "metadata": {},
   "source": [
    "### 3. Load the data\n",
    "\n",
    "Now we can load the data into S3.\n",
    "\n",
    "Using the sagemaker SDK grab the current region, execution role, and bucket."
   ]
  },
  {
   "cell_type": "code",
   "execution_count": 22,
   "metadata": {
    "tags": []
   },
   "outputs": [
    {
     "name": "stdout",
     "output_type": "stream",
     "text": [
      "sagemaker.config INFO - Not applying SDK defaults from location: /etc/xdg/sagemaker/config.yaml\n",
      "sagemaker.config INFO - Not applying SDK defaults from location: /home/ec2-user/.config/sagemaker/config.yaml\n",
      "Default Bucket: sagemaker-us-east-1-048293924935\n",
      "AWS Region: us-east-1\n",
      "RoleArn: arn:aws:iam::048293924935:role/service-role/AmazonSageMaker-ExecutionRole-20240604T114603\n"
     ]
    }
   ],
   "source": [
    "import sagemaker\n",
    "from sagemaker import get_execution_role\n",
    "import boto3\n",
    "\n",
    "session = sagemaker.Session()\n",
    "bucket= session.default_bucket() ## TODO: fill in\n",
    "print(\"Default Bucket: {}\".format(bucket))\n",
    "\n",
    "region = session.boto_region_name ## TODO: fill in\n",
    "print(\"AWS Region: {}\".format(region))\n",
    "\n",
    "role = get_execution_role() ## TODO: fill in\n",
    "print(\"RoleArn: {}\".format(role))"
   ]
  },
  {
   "cell_type": "markdown",
   "metadata": {},
   "source": [
    "With this data we can easily sync your data up into S3!"
   ]
  },
  {
   "cell_type": "code",
   "execution_count": 23,
   "metadata": {
    "tags": []
   },
   "outputs": [
    {
     "name": "stdout",
     "output_type": "stream",
     "text": [
      "upload: train/bicycle_s_000021.png to s3://sagemaker-us-east-1-048293924935/train/bicycle_s_000021.png\n",
      "upload: train/bicycle_s_000124.png to s3://sagemaker-us-east-1-048293924935/train/bicycle_s_000124.png\n",
      "upload: train/bicycle_s_000035.png to s3://sagemaker-us-east-1-048293924935/train/bicycle_s_000035.png\n",
      "upload: train/bicycle_s_000043.png to s3://sagemaker-us-east-1-048293924935/train/bicycle_s_000043.png\n",
      "upload: train/bicycle_s_000017.png to s3://sagemaker-us-east-1-048293924935/train/bicycle_s_000017.png\n",
      "upload: train/bicycle_s_000039.png to s3://sagemaker-us-east-1-048293924935/train/bicycle_s_000039.png\n",
      "upload: train/bicycle_s_000051.png to s3://sagemaker-us-east-1-048293924935/train/bicycle_s_000051.png\n",
      "upload: train/bicycle_s_000137.png to s3://sagemaker-us-east-1-048293924935/train/bicycle_s_000137.png\n",
      "upload: train/bicycle_s_000071.png to s3://sagemaker-us-east-1-048293924935/train/bicycle_s_000071.png\n",
      "upload: train/bicycle_s_000156.png to s3://sagemaker-us-east-1-048293924935/train/bicycle_s_000156.png\n",
      "upload: train/bicycle_s_000066.png to s3://sagemaker-us-east-1-048293924935/train/bicycle_s_000066.png\n",
      "upload: train/bicycle_s_000159.png to s3://sagemaker-us-east-1-048293924935/train/bicycle_s_000159.png\n",
      "upload: train/bicycle_s_000180.png to s3://sagemaker-us-east-1-048293924935/train/bicycle_s_000180.png\n",
      "upload: train/bicycle_s_000099.png to s3://sagemaker-us-east-1-048293924935/train/bicycle_s_000099.png\n",
      "upload: train/bicycle_s_000235.png to s3://sagemaker-us-east-1-048293924935/train/bicycle_s_000235.png\n",
      "upload: train/bicycle_s_000231.png to s3://sagemaker-us-east-1-048293924935/train/bicycle_s_000231.png\n",
      "upload: train/bicycle_s_000038.png to s3://sagemaker-us-east-1-048293924935/train/bicycle_s_000038.png\n",
      "upload: train/bicycle_s_000149.png to s3://sagemaker-us-east-1-048293924935/train/bicycle_s_000149.png\n",
      "upload: train/bicycle_s_000243.png to s3://sagemaker-us-east-1-048293924935/train/bicycle_s_000243.png\n",
      "upload: train/bicycle_s_000279.png to s3://sagemaker-us-east-1-048293924935/train/bicycle_s_000279.png\n",
      "upload: train/bicycle_s_000314.png to s3://sagemaker-us-east-1-048293924935/train/bicycle_s_000314.png\n",
      "upload: train/bicycle_s_000369.png to s3://sagemaker-us-east-1-048293924935/train/bicycle_s_000369.png\n",
      "upload: train/bicycle_s_000147.png to s3://sagemaker-us-east-1-048293924935/train/bicycle_s_000147.png\n",
      "upload: train/bicycle_s_000371.png to s3://sagemaker-us-east-1-048293924935/train/bicycle_s_000371.png\n",
      "upload: train/bicycle_s_000396.png to s3://sagemaker-us-east-1-048293924935/train/bicycle_s_000396.png\n",
      "upload: train/bicycle_s_000392.png to s3://sagemaker-us-east-1-048293924935/train/bicycle_s_000392.png\n",
      "upload: train/bicycle_s_000408.png to s3://sagemaker-us-east-1-048293924935/train/bicycle_s_000408.png\n",
      "upload: train/bicycle_s_000437.png to s3://sagemaker-us-east-1-048293924935/train/bicycle_s_000437.png\n",
      "upload: train/bicycle_s_000463.png to s3://sagemaker-us-east-1-048293924935/train/bicycle_s_000463.png\n",
      "upload: train/bicycle_s_000435.png to s3://sagemaker-us-east-1-048293924935/train/bicycle_s_000435.png\n",
      "upload: train/bicycle_s_000522.png to s3://sagemaker-us-east-1-048293924935/train/bicycle_s_000522.png\n",
      "upload: train/bicycle_s_000467.png to s3://sagemaker-us-east-1-048293924935/train/bicycle_s_000467.png\n",
      "upload: train/bicycle_s_000536.png to s3://sagemaker-us-east-1-048293924935/train/bicycle_s_000536.png\n",
      "upload: train/bicycle_s_000537.png to s3://sagemaker-us-east-1-048293924935/train/bicycle_s_000537.png\n",
      "upload: train/bicycle_s_000399.png to s3://sagemaker-us-east-1-048293924935/train/bicycle_s_000399.png\n",
      "upload: train/bicycle_s_000282.png to s3://sagemaker-us-east-1-048293924935/train/bicycle_s_000282.png\n",
      "upload: train/bicycle_s_000561.png to s3://sagemaker-us-east-1-048293924935/train/bicycle_s_000561.png\n",
      "upload: train/bicycle_s_000491.png to s3://sagemaker-us-east-1-048293924935/train/bicycle_s_000491.png\n",
      "upload: train/bicycle_s_000569.png to s3://sagemaker-us-east-1-048293924935/train/bicycle_s_000569.png\n",
      "upload: train/bicycle_s_000723.png to s3://sagemaker-us-east-1-048293924935/train/bicycle_s_000723.png\n",
      "upload: train/bicycle_s_000668.png to s3://sagemaker-us-east-1-048293924935/train/bicycle_s_000668.png\n",
      "upload: train/bicycle_s_000667.png to s3://sagemaker-us-east-1-048293924935/train/bicycle_s_000667.png\n",
      "upload: train/bicycle_s_000775.png to s3://sagemaker-us-east-1-048293924935/train/bicycle_s_000775.png\n",
      "upload: train/bicycle_s_000753.png to s3://sagemaker-us-east-1-048293924935/train/bicycle_s_000753.png\n",
      "upload: train/bicycle_s_000759.png to s3://sagemaker-us-east-1-048293924935/train/bicycle_s_000759.png\n",
      "upload: train/bicycle_s_000781.png to s3://sagemaker-us-east-1-048293924935/train/bicycle_s_000781.png\n",
      "upload: train/bicycle_s_000782.png to s3://sagemaker-us-east-1-048293924935/train/bicycle_s_000782.png\n",
      "upload: train/bicycle_s_000785.png to s3://sagemaker-us-east-1-048293924935/train/bicycle_s_000785.png\n",
      "upload: train/bicycle_s_000778.png to s3://sagemaker-us-east-1-048293924935/train/bicycle_s_000778.png\n",
      "upload: train/bicycle_s_000774.png to s3://sagemaker-us-east-1-048293924935/train/bicycle_s_000774.png\n",
      "upload: train/bicycle_s_000861.png to s3://sagemaker-us-east-1-048293924935/train/bicycle_s_000861.png\n",
      "upload: train/bicycle_s_000951.png to s3://sagemaker-us-east-1-048293924935/train/bicycle_s_000951.png\n",
      "upload: train/bicycle_s_000546.png to s3://sagemaker-us-east-1-048293924935/train/bicycle_s_000546.png\n",
      "upload: train/bicycle_s_000829.png to s3://sagemaker-us-east-1-048293924935/train/bicycle_s_000829.png\n",
      "upload: train/bicycle_s_000822.png to s3://sagemaker-us-east-1-048293924935/train/bicycle_s_000822.png\n",
      "upload: train/bicycle_s_000996.png to s3://sagemaker-us-east-1-048293924935/train/bicycle_s_000996.png\n",
      "upload: train/bicycle_s_000986.png to s3://sagemaker-us-east-1-048293924935/train/bicycle_s_000986.png\n",
      "upload: train/bicycle_s_001002.png to s3://sagemaker-us-east-1-048293924935/train/bicycle_s_001002.png\n",
      "upload: train/bicycle_s_001111.png to s3://sagemaker-us-east-1-048293924935/train/bicycle_s_001111.png\n",
      "upload: train/bicycle_s_001174.png to s3://sagemaker-us-east-1-048293924935/train/bicycle_s_001174.png\n",
      "upload: train/bicycle_s_000978.png to s3://sagemaker-us-east-1-048293924935/train/bicycle_s_000978.png\n",
      "upload: train/bicycle_s_001205.png to s3://sagemaker-us-east-1-048293924935/train/bicycle_s_001205.png\n",
      "upload: train/bicycle_s_001203.png to s3://sagemaker-us-east-1-048293924935/train/bicycle_s_001203.png\n",
      "upload: train/bicycle_s_001168.png to s3://sagemaker-us-east-1-048293924935/train/bicycle_s_001168.png\n",
      "upload: train/bicycle_s_001348.png to s3://sagemaker-us-east-1-048293924935/train/bicycle_s_001348.png\n",
      "upload: train/bicycle_s_001247.png to s3://sagemaker-us-east-1-048293924935/train/bicycle_s_001247.png\n",
      "upload: train/bicycle_s_001228.png to s3://sagemaker-us-east-1-048293924935/train/bicycle_s_001228.png\n",
      "upload: train/bicycle_s_001402.png to s3://sagemaker-us-east-1-048293924935/train/bicycle_s_001402.png\n",
      "upload: train/bicycle_s_001245.png to s3://sagemaker-us-east-1-048293924935/train/bicycle_s_001245.png\n",
      "upload: train/bicycle_s_001388.png to s3://sagemaker-us-east-1-048293924935/train/bicycle_s_001388.png\n",
      "upload: train/bicycle_s_001409.png to s3://sagemaker-us-east-1-048293924935/train/bicycle_s_001409.png\n",
      "upload: train/bicycle_s_001448.png to s3://sagemaker-us-east-1-048293924935/train/bicycle_s_001448.png\n",
      "upload: train/bicycle_s_001569.png to s3://sagemaker-us-east-1-048293924935/train/bicycle_s_001569.png\n",
      "upload: train/bicycle_s_001452.png to s3://sagemaker-us-east-1-048293924935/train/bicycle_s_001452.png\n",
      "upload: train/bicycle_s_001554.png to s3://sagemaker-us-east-1-048293924935/train/bicycle_s_001554.png\n",
      "upload: train/bicycle_s_001338.png to s3://sagemaker-us-east-1-048293924935/train/bicycle_s_001338.png\n",
      "upload: train/bicycle_s_001470.png to s3://sagemaker-us-east-1-048293924935/train/bicycle_s_001470.png\n",
      "upload: train/bicycle_s_001583.png to s3://sagemaker-us-east-1-048293924935/train/bicycle_s_001583.png\n",
      "upload: train/bicycle_s_001663.png to s3://sagemaker-us-east-1-048293924935/train/bicycle_s_001663.png\n",
      "upload: train/bicycle_s_001642.png to s3://sagemaker-us-east-1-048293924935/train/bicycle_s_001642.png\n",
      "upload: train/bicycle_s_001411.png to s3://sagemaker-us-east-1-048293924935/train/bicycle_s_001411.png\n",
      "upload: train/bicycle_s_001673.png to s3://sagemaker-us-east-1-048293924935/train/bicycle_s_001673.png\n",
      "upload: train/bicycle_s_001748.png to s3://sagemaker-us-east-1-048293924935/train/bicycle_s_001748.png\n",
      "upload: train/bicycle_s_001681.png to s3://sagemaker-us-east-1-048293924935/train/bicycle_s_001681.png\n",
      "upload: train/bicycle_s_001693.png to s3://sagemaker-us-east-1-048293924935/train/bicycle_s_001693.png\n",
      "upload: train/bicycle_s_001904.png to s3://sagemaker-us-east-1-048293924935/train/bicycle_s_001904.png\n",
      "upload: train/bicycle_s_001679.png to s3://sagemaker-us-east-1-048293924935/train/bicycle_s_001679.png\n",
      "upload: train/bicycle_s_001757.png to s3://sagemaker-us-east-1-048293924935/train/bicycle_s_001757.png\n",
      "upload: train/bicycle_s_001687.png to s3://sagemaker-us-east-1-048293924935/train/bicycle_s_001687.png\n",
      "upload: train/bicycle_s_001814.png to s3://sagemaker-us-east-1-048293924935/train/bicycle_s_001814.png\n",
      "upload: train/bicycle_s_001928.png to s3://sagemaker-us-east-1-048293924935/train/bicycle_s_001928.png\n",
      "upload: train/bicycle_s_001688.png to s3://sagemaker-us-east-1-048293924935/train/bicycle_s_001688.png\n",
      "upload: train/bicycle_s_002012.png to s3://sagemaker-us-east-1-048293924935/train/bicycle_s_002012.png\n",
      "upload: train/bicycle_s_002005.png to s3://sagemaker-us-east-1-048293924935/train/bicycle_s_002005.png\n",
      "upload: train/bicycle_s_002132.png to s3://sagemaker-us-east-1-048293924935/train/bicycle_s_002132.png\n",
      "upload: train/bicycle_s_002029.png to s3://sagemaker-us-east-1-048293924935/train/bicycle_s_002029.png\n",
      "upload: train/bicycle_s_002100.png to s3://sagemaker-us-east-1-048293924935/train/bicycle_s_002100.png\n",
      "upload: train/bicycle_s_001956.png to s3://sagemaker-us-east-1-048293924935/train/bicycle_s_001956.png\n",
      "upload: train/bicycle_s_002129.png to s3://sagemaker-us-east-1-048293924935/train/bicycle_s_002129.png\n",
      "upload: train/bicycle_s_002049.png to s3://sagemaker-us-east-1-048293924935/train/bicycle_s_002049.png\n",
      "upload: train/bicycle_s_002153.png to s3://sagemaker-us-east-1-048293924935/train/bicycle_s_002153.png\n",
      "upload: train/bicycle_s_002222.png to s3://sagemaker-us-east-1-048293924935/train/bicycle_s_002222.png\n",
      "upload: train/bicycle_s_002299.png to s3://sagemaker-us-east-1-048293924935/train/bicycle_s_002299.png\n",
      "upload: train/bicycle_s_002258.png to s3://sagemaker-us-east-1-048293924935/train/bicycle_s_002258.png\n",
      "upload: train/bicycle_s_002247.png to s3://sagemaker-us-east-1-048293924935/train/bicycle_s_002247.png\n",
      "upload: train/bicycle_s_002338.png to s3://sagemaker-us-east-1-048293924935/train/bicycle_s_002338.png\n",
      "upload: train/bicycle_s_002400.png to s3://sagemaker-us-east-1-048293924935/train/bicycle_s_002400.png\n",
      "upload: train/bicycle_s_002374.png to s3://sagemaker-us-east-1-048293924935/train/bicycle_s_002374.png\n",
      "upload: train/bicycle_s_002373.png to s3://sagemaker-us-east-1-048293924935/train/bicycle_s_002373.png\n",
      "upload: train/bicycle_s_002237.png to s3://sagemaker-us-east-1-048293924935/train/bicycle_s_002237.png\n",
      "upload: train/bicycle_s_002410.png to s3://sagemaker-us-east-1-048293924935/train/bicycle_s_002410.png\n",
      "upload: train/bicycle_s_002448.png to s3://sagemaker-us-east-1-048293924935/train/bicycle_s_002448.png\n",
      "upload: train/bicycle_s_002436.png to s3://sagemaker-us-east-1-048293924935/train/bicycle_s_002436.png\n",
      "upload: train/bicycle_s_002521.png to s3://sagemaker-us-east-1-048293924935/train/bicycle_s_002521.png\n",
      "upload: train/bicycle_s_002550.png to s3://sagemaker-us-east-1-048293924935/train/bicycle_s_002550.png\n",
      "upload: train/bicycle_s_002569.png to s3://sagemaker-us-east-1-048293924935/train/bicycle_s_002569.png\n",
      "upload: train/bicycle_s_002475.png to s3://sagemaker-us-east-1-048293924935/train/bicycle_s_002475.png\n",
      "upload: train/bicycle_s_002218.png to s3://sagemaker-us-east-1-048293924935/train/bicycle_s_002218.png\n",
      "upload: train/bicycle_s_002669.png to s3://sagemaker-us-east-1-048293924935/train/bicycle_s_002669.png\n",
      "upload: train/bicycle_s_002661.png to s3://sagemaker-us-east-1-048293924935/train/bicycle_s_002661.png\n",
      "upload: train/bicycle_s_002715.png to s3://sagemaker-us-east-1-048293924935/train/bicycle_s_002715.png\n",
      "upload: train/bicycle_s_002711.png to s3://sagemaker-us-east-1-048293924935/train/bicycle_s_002711.png\n",
      "upload: train/bicycle_s_002624.png to s3://sagemaker-us-east-1-048293924935/train/bicycle_s_002624.png\n",
      "upload: train/bicycle_s_002728.png to s3://sagemaker-us-east-1-048293924935/train/bicycle_s_002728.png\n",
      "upload: train/bicycle_s_002759.png to s3://sagemaker-us-east-1-048293924935/train/bicycle_s_002759.png\n",
      "upload: train/bicycle_s_002762.png to s3://sagemaker-us-east-1-048293924935/train/bicycle_s_002762.png\n",
      "upload: train/bicycle_s_002725.png to s3://sagemaker-us-east-1-048293924935/train/bicycle_s_002725.png\n",
      "upload: train/bike_s_000003.png to s3://sagemaker-us-east-1-048293924935/train/bike_s_000003.png\n",
      "upload: train/bicycle_s_002729.png to s3://sagemaker-us-east-1-048293924935/train/bicycle_s_002729.png\n",
      "upload: train/bike_s_000021.png to s3://sagemaker-us-east-1-048293924935/train/bike_s_000021.png\n",
      "upload: train/bike_s_000015.png to s3://sagemaker-us-east-1-048293924935/train/bike_s_000015.png\n",
      "upload: train/bike_s_000005.png to s3://sagemaker-us-east-1-048293924935/train/bike_s_000005.png\n",
      "upload: train/bike_s_000018.png to s3://sagemaker-us-east-1-048293924935/train/bike_s_000018.png\n",
      "upload: train/bike_s_000026.png to s3://sagemaker-us-east-1-048293924935/train/bike_s_000026.png\n",
      "upload: train/bike_s_000024.png to s3://sagemaker-us-east-1-048293924935/train/bike_s_000024.png\n",
      "upload: train/bike_s_000001.png to s3://sagemaker-us-east-1-048293924935/train/bike_s_000001.png\n",
      "upload: train/bike_s_000034.png to s3://sagemaker-us-east-1-048293924935/train/bike_s_000034.png\n",
      "upload: train/bike_s_000035.png to s3://sagemaker-us-east-1-048293924935/train/bike_s_000035.png\n",
      "upload: train/bike_s_000023.png to s3://sagemaker-us-east-1-048293924935/train/bike_s_000023.png\n",
      "upload: train/bike_s_000025.png to s3://sagemaker-us-east-1-048293924935/train/bike_s_000025.png\n",
      "upload: train/bike_s_000121.png to s3://sagemaker-us-east-1-048293924935/train/bike_s_000121.png\n",
      "upload: train/bike_s_000111.png to s3://sagemaker-us-east-1-048293924935/train/bike_s_000111.png\n",
      "upload: train/bike_s_000040.png to s3://sagemaker-us-east-1-048293924935/train/bike_s_000040.png\n",
      "upload: train/bike_s_000154.png to s3://sagemaker-us-east-1-048293924935/train/bike_s_000154.png\n",
      "upload: train/bike_s_000062.png to s3://sagemaker-us-east-1-048293924935/train/bike_s_000062.png\n",
      "upload: train/bike_s_000127.png to s3://sagemaker-us-east-1-048293924935/train/bike_s_000127.png\n",
      "upload: train/bike_s_000051.png to s3://sagemaker-us-east-1-048293924935/train/bike_s_000051.png\n",
      "upload: train/bike_s_000204.png to s3://sagemaker-us-east-1-048293924935/train/bike_s_000204.png\n",
      "upload: train/bike_s_000129.png to s3://sagemaker-us-east-1-048293924935/train/bike_s_000129.png\n",
      "upload: train/bike_s_000162.png to s3://sagemaker-us-east-1-048293924935/train/bike_s_000162.png\n",
      "upload: train/bike_s_000237.png to s3://sagemaker-us-east-1-048293924935/train/bike_s_000237.png\n",
      "upload: train/bike_s_000299.png to s3://sagemaker-us-east-1-048293924935/train/bike_s_000299.png\n",
      "upload: train/bike_s_000164.png to s3://sagemaker-us-east-1-048293924935/train/bike_s_000164.png\n",
      "upload: train/bike_s_000302.png to s3://sagemaker-us-east-1-048293924935/train/bike_s_000302.png\n",
      "upload: train/bike_s_000304.png to s3://sagemaker-us-east-1-048293924935/train/bike_s_000304.png\n",
      "upload: train/bike_s_000364.png to s3://sagemaker-us-east-1-048293924935/train/bike_s_000364.png\n",
      "upload: train/bike_s_000256.png to s3://sagemaker-us-east-1-048293924935/train/bike_s_000256.png\n",
      "upload: train/bike_s_000392.png to s3://sagemaker-us-east-1-048293924935/train/bike_s_000392.png\n",
      "upload: train/bike_s_000390.png to s3://sagemaker-us-east-1-048293924935/train/bike_s_000390.png\n",
      "upload: train/bike_s_000506.png to s3://sagemaker-us-east-1-048293924935/train/bike_s_000506.png\n",
      "upload: train/bike_s_000336.png to s3://sagemaker-us-east-1-048293924935/train/bike_s_000336.png\n",
      "upload: train/bike_s_000397.png to s3://sagemaker-us-east-1-048293924935/train/bike_s_000397.png\n",
      "upload: train/bike_s_000474.png to s3://sagemaker-us-east-1-048293924935/train/bike_s_000474.png\n",
      "upload: train/bike_s_000516.png to s3://sagemaker-us-east-1-048293924935/train/bike_s_000516.png\n",
      "upload: train/bike_s_000544.png to s3://sagemaker-us-east-1-048293924935/train/bike_s_000544.png\n",
      "upload: train/bike_s_000555.png to s3://sagemaker-us-east-1-048293924935/train/bike_s_000555.png\n",
      "upload: train/bike_s_000593.png to s3://sagemaker-us-east-1-048293924935/train/bike_s_000593.png\n",
      "upload: train/bike_s_000722.png to s3://sagemaker-us-east-1-048293924935/train/bike_s_000722.png\n",
      "upload: train/bike_s_000682.png to s3://sagemaker-us-east-1-048293924935/train/bike_s_000682.png\n",
      "upload: train/bike_s_000545.png to s3://sagemaker-us-east-1-048293924935/train/bike_s_000545.png\n",
      "upload: train/bike_s_000657.png to s3://sagemaker-us-east-1-048293924935/train/bike_s_000657.png\n",
      "upload: train/bike_s_000855.png to s3://sagemaker-us-east-1-048293924935/train/bike_s_000855.png\n",
      "upload: train/bike_s_000679.png to s3://sagemaker-us-east-1-048293924935/train/bike_s_000679.png\n",
      "upload: train/bike_s_000522.png to s3://sagemaker-us-east-1-048293924935/train/bike_s_000522.png\n",
      "upload: train/bike_s_000926.png to s3://sagemaker-us-east-1-048293924935/train/bike_s_000926.png\n",
      "upload: train/bike_s_001027.png to s3://sagemaker-us-east-1-048293924935/train/bike_s_001027.png\n",
      "upload: train/bike_s_001072.png to s3://sagemaker-us-east-1-048293924935/train/bike_s_001072.png\n",
      "upload: train/bike_s_001113.png to s3://sagemaker-us-east-1-048293924935/train/bike_s_001113.png\n",
      "upload: train/bike_s_000934.png to s3://sagemaker-us-east-1-048293924935/train/bike_s_000934.png\n",
      "upload: train/bike_s_001078.png to s3://sagemaker-us-east-1-048293924935/train/bike_s_001078.png\n",
      "upload: train/bike_s_001200.png to s3://sagemaker-us-east-1-048293924935/train/bike_s_001200.png\n",
      "upload: train/bike_s_000990.png to s3://sagemaker-us-east-1-048293924935/train/bike_s_000990.png\n",
      "upload: train/bike_s_000628.png to s3://sagemaker-us-east-1-048293924935/train/bike_s_000628.png\n",
      "upload: train/bike_s_001093.png to s3://sagemaker-us-east-1-048293924935/train/bike_s_001093.png\n",
      "upload: train/bike_s_001226.png to s3://sagemaker-us-east-1-048293924935/train/bike_s_001226.png\n",
      "upload: train/bike_s_001131.png to s3://sagemaker-us-east-1-048293924935/train/bike_s_001131.png\n",
      "upload: train/bike_s_001320.png to s3://sagemaker-us-east-1-048293924935/train/bike_s_001320.png\n",
      "upload: train/bike_s_001116.png to s3://sagemaker-us-east-1-048293924935/train/bike_s_001116.png\n",
      "upload: train/bike_s_001375.png to s3://sagemaker-us-east-1-048293924935/train/bike_s_001375.png\n",
      "upload: train/bike_s_001260.png to s3://sagemaker-us-east-1-048293924935/train/bike_s_001260.png\n",
      "upload: train/bike_s_001414.png to s3://sagemaker-us-east-1-048293924935/train/bike_s_001414.png\n",
      "upload: train/bike_s_001572.png to s3://sagemaker-us-east-1-048293924935/train/bike_s_001572.png\n",
      "upload: train/bike_s_001613.png to s3://sagemaker-us-east-1-048293924935/train/bike_s_001613.png\n",
      "upload: train/bike_s_001462.png to s3://sagemaker-us-east-1-048293924935/train/bike_s_001462.png\n",
      "upload: train/bike_s_001517.png to s3://sagemaker-us-east-1-048293924935/train/bike_s_001517.png\n",
      "upload: train/bike_s_001418.png to s3://sagemaker-us-east-1-048293924935/train/bike_s_001418.png\n",
      "upload: train/bike_s_001519.png to s3://sagemaker-us-east-1-048293924935/train/bike_s_001519.png\n",
      "upload: train/bike_s_001679.png to s3://sagemaker-us-east-1-048293924935/train/bike_s_001679.png\n",
      "upload: train/bike_s_001683.png to s3://sagemaker-us-east-1-048293924935/train/bike_s_001683.png\n",
      "upload: train/bike_s_001380.png to s3://sagemaker-us-east-1-048293924935/train/bike_s_001380.png\n",
      "upload: train/bike_s_001739.png to s3://sagemaker-us-east-1-048293924935/train/bike_s_001739.png\n",
      "upload: train/bike_s_001827.png to s3://sagemaker-us-east-1-048293924935/train/bike_s_001827.png\n",
      "upload: train/bike_s_001839.png to s3://sagemaker-us-east-1-048293924935/train/bike_s_001839.png\n",
      "upload: train/bike_s_001761.png to s3://sagemaker-us-east-1-048293924935/train/bike_s_001761.png\n",
      "upload: train/bike_s_001877.png to s3://sagemaker-us-east-1-048293924935/train/bike_s_001877.png\n",
      "upload: train/bike_s_001897.png to s3://sagemaker-us-east-1-048293924935/train/bike_s_001897.png\n",
      "upload: train/bike_s_001847.png to s3://sagemaker-us-east-1-048293924935/train/bike_s_001847.png\n",
      "upload: train/bike_s_001876.png to s3://sagemaker-us-east-1-048293924935/train/bike_s_001876.png\n",
      "upload: train/bike_s_001980.png to s3://sagemaker-us-east-1-048293924935/train/bike_s_001980.png\n",
      "upload: train/bike_s_001928.png to s3://sagemaker-us-east-1-048293924935/train/bike_s_001928.png\n",
      "upload: train/bike_s_001882.png to s3://sagemaker-us-east-1-048293924935/train/bike_s_001882.png\n",
      "upload: train/bike_s_002024.png to s3://sagemaker-us-east-1-048293924935/train/bike_s_002024.png\n",
      "upload: train/bike_s_002033.png to s3://sagemaker-us-east-1-048293924935/train/bike_s_002033.png\n",
      "upload: train/bike_s_001915.png to s3://sagemaker-us-east-1-048293924935/train/bike_s_001915.png\n",
      "upload: train/bike_s_001415.png to s3://sagemaker-us-east-1-048293924935/train/bike_s_001415.png\n",
      "upload: train/bike_s_002042.png to s3://sagemaker-us-east-1-048293924935/train/bike_s_002042.png\n",
      "upload: train/bike_s_001767.png to s3://sagemaker-us-east-1-048293924935/train/bike_s_001767.png\n",
      "upload: train/bike_s_002047.png to s3://sagemaker-us-east-1-048293924935/train/bike_s_002047.png\n",
      "upload: train/bike_s_002090.png to s3://sagemaker-us-east-1-048293924935/train/bike_s_002090.png\n",
      "upload: train/bike_s_001945.png to s3://sagemaker-us-east-1-048293924935/train/bike_s_001945.png\n",
      "upload: train/bike_s_002164.png to s3://sagemaker-us-east-1-048293924935/train/bike_s_002164.png\n",
      "upload: train/bike_s_001592.png to s3://sagemaker-us-east-1-048293924935/train/bike_s_001592.png\n",
      "upload: train/bike_s_002215.png to s3://sagemaker-us-east-1-048293924935/train/bike_s_002215.png\n",
      "upload: train/bike_s_002098.png to s3://sagemaker-us-east-1-048293924935/train/bike_s_002098.png\n",
      "upload: train/bike_s_002139.png to s3://sagemaker-us-east-1-048293924935/train/bike_s_002139.png\n",
      "upload: train/bike_s_002222.png to s3://sagemaker-us-east-1-048293924935/train/bike_s_002222.png\n",
      "upload: train/bike_s_002118.png to s3://sagemaker-us-east-1-048293924935/train/bike_s_002118.png\n",
      "upload: train/bike_s_002203.png to s3://sagemaker-us-east-1-048293924935/train/bike_s_002203.png\n",
      "upload: train/bike_s_002283.png to s3://sagemaker-us-east-1-048293924935/train/bike_s_002283.png\n",
      "upload: train/cycle_s_000042.png to s3://sagemaker-us-east-1-048293924935/train/cycle_s_000042.png\n",
      "upload: train/bike_s_002109.png to s3://sagemaker-us-east-1-048293924935/train/bike_s_002109.png\n",
      "upload: train/bike_s_002277.png to s3://sagemaker-us-east-1-048293924935/train/bike_s_002277.png\n",
      "upload: train/cycle_s_000463.png to s3://sagemaker-us-east-1-048293924935/train/cycle_s_000463.png\n",
      "upload: train/bike_s_002288.png to s3://sagemaker-us-east-1-048293924935/train/bike_s_002288.png\n",
      "upload: train/bike_s_002292.png to s3://sagemaker-us-east-1-048293924935/train/bike_s_002292.png\n",
      "upload: train/cycle_s_000222.png to s3://sagemaker-us-east-1-048293924935/train/cycle_s_000222.png\n",
      "upload: train/cycle_s_000583.png to s3://sagemaker-us-east-1-048293924935/train/cycle_s_000583.png\n",
      "upload: train/cycle_s_000639.png to s3://sagemaker-us-east-1-048293924935/train/cycle_s_000639.png\n",
      "upload: train/cycle_s_000666.png to s3://sagemaker-us-east-1-048293924935/train/cycle_s_000666.png\n",
      "upload: train/cycle_s_000492.png to s3://sagemaker-us-east-1-048293924935/train/cycle_s_000492.png\n",
      "upload: train/cycle_s_000871.png to s3://sagemaker-us-east-1-048293924935/train/cycle_s_000871.png\n",
      "upload: train/cycle_s_000899.png to s3://sagemaker-us-east-1-048293924935/train/cycle_s_000899.png\n",
      "upload: train/cycle_s_000718.png to s3://sagemaker-us-east-1-048293924935/train/cycle_s_000718.png\n",
      "upload: train/cycle_s_001286.png to s3://sagemaker-us-east-1-048293924935/train/cycle_s_001286.png\n",
      "upload: train/cycle_s_001374.png to s3://sagemaker-us-east-1-048293924935/train/cycle_s_001374.png\n",
      "upload: train/cycle_s_000318.png to s3://sagemaker-us-east-1-048293924935/train/cycle_s_000318.png\n",
      "upload: train/cycle_s_001309.png to s3://sagemaker-us-east-1-048293924935/train/cycle_s_001309.png\n",
      "upload: train/cycle_s_001412.png to s3://sagemaker-us-east-1-048293924935/train/cycle_s_001412.png\n",
      "upload: train/cycle_s_001439.png to s3://sagemaker-us-east-1-048293924935/train/cycle_s_001439.png\n",
      "upload: train/cycle_s_001640.png to s3://sagemaker-us-east-1-048293924935/train/cycle_s_001640.png\n",
      "upload: train/cycle_s_001413.png to s3://sagemaker-us-east-1-048293924935/train/cycle_s_001413.png\n",
      "upload: train/cycle_s_001735.png to s3://sagemaker-us-east-1-048293924935/train/cycle_s_001735.png\n",
      "upload: train/cycle_s_001745.png to s3://sagemaker-us-east-1-048293924935/train/cycle_s_001745.png\n",
      "upload: train/cycle_s_001474.png to s3://sagemaker-us-east-1-048293924935/train/cycle_s_001474.png\n",
      "upload: train/cycle_s_001472.png to s3://sagemaker-us-east-1-048293924935/train/cycle_s_001472.png\n",
      "upload: train/cycle_s_001477.png to s3://sagemaker-us-east-1-048293924935/train/cycle_s_001477.png\n",
      "upload: train/cycle_s_002015.png to s3://sagemaker-us-east-1-048293924935/train/cycle_s_002015.png\n",
      "upload: train/cycle_s_001875.png to s3://sagemaker-us-east-1-048293924935/train/cycle_s_001875.png\n",
      "upload: train/cycle_s_002092.png to s3://sagemaker-us-east-1-048293924935/train/cycle_s_002092.png\n",
      "upload: train/cycle_s_002093.png to s3://sagemaker-us-east-1-048293924935/train/cycle_s_002093.png\n",
      "upload: train/cycle_s_002090.png to s3://sagemaker-us-east-1-048293924935/train/cycle_s_002090.png\n",
      "upload: train/cycle_s_002503.png to s3://sagemaker-us-east-1-048293924935/train/cycle_s_002503.png\n",
      "upload: train/cycle_s_002053.png to s3://sagemaker-us-east-1-048293924935/train/cycle_s_002053.png\n",
      "upload: train/cycle_s_002399.png to s3://sagemaker-us-east-1-048293924935/train/cycle_s_002399.png\n",
      "upload: train/cycle_s_001976.png to s3://sagemaker-us-east-1-048293924935/train/cycle_s_001976.png\n",
      "upload: train/cycle_s_002638.png to s3://sagemaker-us-east-1-048293924935/train/cycle_s_002638.png\n",
      "upload: train/cycle_s_002651.png to s3://sagemaker-us-east-1-048293924935/train/cycle_s_002651.png\n",
      "upload: train/cycle_s_002178.png to s3://sagemaker-us-east-1-048293924935/train/cycle_s_002178.png\n",
      "upload: train/cycle_s_002666.png to s3://sagemaker-us-east-1-048293924935/train/cycle_s_002666.png\n",
      "upload: train/cycle_s_002168.png to s3://sagemaker-us-east-1-048293924935/train/cycle_s_002168.png\n",
      "upload: train/cycle_s_002703.png to s3://sagemaker-us-east-1-048293924935/train/cycle_s_002703.png\n",
      "upload: train/cycle_s_002598.png to s3://sagemaker-us-east-1-048293924935/train/cycle_s_002598.png\n",
      "upload: train/cycle_s_002779.png to s3://sagemaker-us-east-1-048293924935/train/cycle_s_002779.png\n",
      "upload: train/cycle_s_002844.png to s3://sagemaker-us-east-1-048293924935/train/cycle_s_002844.png\n",
      "upload: train/cycle_s_002978.png to s3://sagemaker-us-east-1-048293924935/train/cycle_s_002978.png\n",
      "upload: train/cycle_s_002746.png to s3://sagemaker-us-east-1-048293924935/train/cycle_s_002746.png\n",
      "upload: train/cycle_s_003006.png to s3://sagemaker-us-east-1-048293924935/train/cycle_s_003006.png\n",
      "upload: train/cycle_s_003026.png to s3://sagemaker-us-east-1-048293924935/train/cycle_s_003026.png\n",
      "upload: train/cycle_s_002659.png to s3://sagemaker-us-east-1-048293924935/train/cycle_s_002659.png\n",
      "upload: train/cycle_s_003008.png to s3://sagemaker-us-east-1-048293924935/train/cycle_s_003008.png\n",
      "upload: train/cycle_s_002904.png to s3://sagemaker-us-east-1-048293924935/train/cycle_s_002904.png\n",
      "upload: train/cycle_s_002882.png to s3://sagemaker-us-east-1-048293924935/train/cycle_s_002882.png\n",
      "upload: train/cycle_s_003043.png to s3://sagemaker-us-east-1-048293924935/train/cycle_s_003043.png\n",
      "upload: train/cycle_s_003147.png to s3://sagemaker-us-east-1-048293924935/train/cycle_s_003147.png\n",
      "upload: train/cycle_s_003122.png to s3://sagemaker-us-east-1-048293924935/train/cycle_s_003122.png\n",
      "upload: train/cycle_s_003148.png to s3://sagemaker-us-east-1-048293924935/train/cycle_s_003148.png\n",
      "upload: train/dirt_bike_s_000017.png to s3://sagemaker-us-east-1-048293924935/train/dirt_bike_s_000017.png\n",
      "upload: train/dirt_bike_s_000124.png to s3://sagemaker-us-east-1-048293924935/train/dirt_bike_s_000124.png\n",
      "upload: train/cycle_s_003162.png to s3://sagemaker-us-east-1-048293924935/train/cycle_s_003162.png\n",
      "upload: train/dirt_bike_s_000119.png to s3://sagemaker-us-east-1-048293924935/train/dirt_bike_s_000119.png\n",
      "upload: train/minibike_s_000010.png to s3://sagemaker-us-east-1-048293924935/train/minibike_s_000010.png\n",
      "upload: train/dirt_bike_s_000003.png to s3://sagemaker-us-east-1-048293924935/train/dirt_bike_s_000003.png\n",
      "upload: train/dirt_bike_s_000134.png to s3://sagemaker-us-east-1-048293924935/train/dirt_bike_s_000134.png\n",
      "upload: train/dirt_bike_s_000030.png to s3://sagemaker-us-east-1-048293924935/train/dirt_bike_s_000030.png\n",
      "upload: train/dirt_bike_s_000005.png to s3://sagemaker-us-east-1-048293924935/train/dirt_bike_s_000005.png\n",
      "upload: train/dirt_bike_s_000059.png to s3://sagemaker-us-east-1-048293924935/train/dirt_bike_s_000059.png\n",
      "upload: train/minibike_s_000020.png to s3://sagemaker-us-east-1-048293924935/train/minibike_s_000020.png\n",
      "upload: train/minibike_s_000011.png to s3://sagemaker-us-east-1-048293924935/train/minibike_s_000011.png\n",
      "upload: train/minibike_s_000022.png to s3://sagemaker-us-east-1-048293924935/train/minibike_s_000022.png\n",
      "upload: train/minibike_s_000035.png to s3://sagemaker-us-east-1-048293924935/train/minibike_s_000035.png\n",
      "upload: train/minibike_s_000102.png to s3://sagemaker-us-east-1-048293924935/train/minibike_s_000102.png\n",
      "upload: train/minibike_s_000099.png to s3://sagemaker-us-east-1-048293924935/train/minibike_s_000099.png\n",
      "upload: train/minibike_s_000110.png to s3://sagemaker-us-east-1-048293924935/train/minibike_s_000110.png\n",
      "upload: train/minibike_s_000064.png to s3://sagemaker-us-east-1-048293924935/train/minibike_s_000064.png\n",
      "upload: train/minibike_s_000116.png to s3://sagemaker-us-east-1-048293924935/train/minibike_s_000116.png\n",
      "upload: train/minibike_s_000108.png to s3://sagemaker-us-east-1-048293924935/train/minibike_s_000108.png\n",
      "upload: train/minibike_s_000127.png to s3://sagemaker-us-east-1-048293924935/train/minibike_s_000127.png\n",
      "upload: train/minibike_s_000117.png to s3://sagemaker-us-east-1-048293924935/train/minibike_s_000117.png\n",
      "upload: train/minibike_s_000121.png to s3://sagemaker-us-east-1-048293924935/train/minibike_s_000121.png\n",
      "upload: train/minibike_s_000130.png to s3://sagemaker-us-east-1-048293924935/train/minibike_s_000130.png\n",
      "upload: train/minibike_s_000203.png to s3://sagemaker-us-east-1-048293924935/train/minibike_s_000203.png\n",
      "upload: train/minibike_s_000146.png to s3://sagemaker-us-east-1-048293924935/train/minibike_s_000146.png\n",
      "upload: train/minibike_s_000218.png to s3://sagemaker-us-east-1-048293924935/train/minibike_s_000218.png\n",
      "upload: train/minibike_s_000165.png to s3://sagemaker-us-east-1-048293924935/train/minibike_s_000165.png\n",
      "upload: train/minibike_s_000244.png to s3://sagemaker-us-east-1-048293924935/train/minibike_s_000244.png\n",
      "upload: train/minibike_s_000149.png to s3://sagemaker-us-east-1-048293924935/train/minibike_s_000149.png\n",
      "upload: train/minibike_s_000293.png to s3://sagemaker-us-east-1-048293924935/train/minibike_s_000293.png\n",
      "upload: train/minibike_s_000324.png to s3://sagemaker-us-east-1-048293924935/train/minibike_s_000324.png\n",
      "upload: train/minibike_s_000392.png to s3://sagemaker-us-east-1-048293924935/train/minibike_s_000392.png\n",
      "upload: train/minibike_s_000036.png to s3://sagemaker-us-east-1-048293924935/train/minibike_s_000036.png\n",
      "upload: train/minibike_s_000362.png to s3://sagemaker-us-east-1-048293924935/train/minibike_s_000362.png\n",
      "upload: train/minibike_s_000350.png to s3://sagemaker-us-east-1-048293924935/train/minibike_s_000350.png\n",
      "upload: train/minibike_s_000314.png to s3://sagemaker-us-east-1-048293924935/train/minibike_s_000314.png\n",
      "upload: train/minibike_s_000401.png to s3://sagemaker-us-east-1-048293924935/train/minibike_s_000401.png\n",
      "upload: train/minibike_s_000340.png to s3://sagemaker-us-east-1-048293924935/train/minibike_s_000340.png\n",
      "upload: train/minibike_s_000408.png to s3://sagemaker-us-east-1-048293924935/train/minibike_s_000408.png\n",
      "upload: train/minibike_s_000335.png to s3://sagemaker-us-east-1-048293924935/train/minibike_s_000335.png\n",
      "upload: train/minibike_s_000402.png to s3://sagemaker-us-east-1-048293924935/train/minibike_s_000402.png\n",
      "upload: train/minibike_s_000451.png to s3://sagemaker-us-east-1-048293924935/train/minibike_s_000451.png\n",
      "upload: train/minibike_s_000459.png to s3://sagemaker-us-east-1-048293924935/train/minibike_s_000459.png\n",
      "upload: train/minibike_s_000435.png to s3://sagemaker-us-east-1-048293924935/train/minibike_s_000435.png\n",
      "upload: train/minibike_s_000434.png to s3://sagemaker-us-east-1-048293924935/train/minibike_s_000434.png\n",
      "upload: train/minibike_s_000409.png to s3://sagemaker-us-east-1-048293924935/train/minibike_s_000409.png\n",
      "upload: train/minibike_s_000429.png to s3://sagemaker-us-east-1-048293924935/train/minibike_s_000429.png\n",
      "upload: train/minibike_s_000491.png to s3://sagemaker-us-east-1-048293924935/train/minibike_s_000491.png\n",
      "upload: train/minibike_s_000518.png to s3://sagemaker-us-east-1-048293924935/train/minibike_s_000518.png\n",
      "upload: train/minibike_s_000507.png to s3://sagemaker-us-east-1-048293924935/train/minibike_s_000507.png\n",
      "upload: train/minibike_s_000485.png to s3://sagemaker-us-east-1-048293924935/train/minibike_s_000485.png\n",
      "upload: train/minibike_s_000511.png to s3://sagemaker-us-east-1-048293924935/train/minibike_s_000511.png\n",
      "upload: train/minibike_s_000520.png to s3://sagemaker-us-east-1-048293924935/train/minibike_s_000520.png\n",
      "upload: train/minibike_s_000427.png to s3://sagemaker-us-east-1-048293924935/train/minibike_s_000427.png\n",
      "upload: train/minibike_s_000522.png to s3://sagemaker-us-east-1-048293924935/train/minibike_s_000522.png\n",
      "upload: train/minibike_s_000519.png to s3://sagemaker-us-east-1-048293924935/train/minibike_s_000519.png\n",
      "upload: train/minibike_s_000498.png to s3://sagemaker-us-east-1-048293924935/train/minibike_s_000498.png\n",
      "upload: train/minibike_s_000526.png to s3://sagemaker-us-east-1-048293924935/train/minibike_s_000526.png\n",
      "upload: train/minibike_s_000568.png to s3://sagemaker-us-east-1-048293924935/train/minibike_s_000568.png\n",
      "upload: train/minibike_s_000569.png to s3://sagemaker-us-east-1-048293924935/train/minibike_s_000569.png\n",
      "upload: train/minibike_s_000527.png to s3://sagemaker-us-east-1-048293924935/train/minibike_s_000527.png\n",
      "upload: train/minibike_s_000567.png to s3://sagemaker-us-east-1-048293924935/train/minibike_s_000567.png\n",
      "upload: train/minibike_s_000571.png to s3://sagemaker-us-east-1-048293924935/train/minibike_s_000571.png\n",
      "upload: train/minibike_s_000565.png to s3://sagemaker-us-east-1-048293924935/train/minibike_s_000565.png\n",
      "upload: train/minibike_s_000570.png to s3://sagemaker-us-east-1-048293924935/train/minibike_s_000570.png\n",
      "upload: train/minibike_s_000654.png to s3://sagemaker-us-east-1-048293924935/train/minibike_s_000654.png\n",
      "upload: train/minibike_s_000566.png to s3://sagemaker-us-east-1-048293924935/train/minibike_s_000566.png\n",
      "upload: train/minibike_s_000709.png to s3://sagemaker-us-east-1-048293924935/train/minibike_s_000709.png\n",
      "upload: train/minibike_s_000698.png to s3://sagemaker-us-east-1-048293924935/train/minibike_s_000698.png\n",
      "upload: train/minibike_s_000738.png to s3://sagemaker-us-east-1-048293924935/train/minibike_s_000738.png\n",
      "upload: train/minibike_s_000613.png to s3://sagemaker-us-east-1-048293924935/train/minibike_s_000613.png\n",
      "upload: train/minibike_s_000690.png to s3://sagemaker-us-east-1-048293924935/train/minibike_s_000690.png\n",
      "upload: train/minibike_s_000701.png to s3://sagemaker-us-east-1-048293924935/train/minibike_s_000701.png\n",
      "upload: train/minibike_s_000741.png to s3://sagemaker-us-east-1-048293924935/train/minibike_s_000741.png\n",
      "upload: train/minibike_s_000802.png to s3://sagemaker-us-east-1-048293924935/train/minibike_s_000802.png\n",
      "upload: train/minibike_s_000820.png to s3://sagemaker-us-east-1-048293924935/train/minibike_s_000820.png\n",
      "upload: train/minibike_s_000743.png to s3://sagemaker-us-east-1-048293924935/train/minibike_s_000743.png\n",
      "upload: train/minibike_s_000824.png to s3://sagemaker-us-east-1-048293924935/train/minibike_s_000824.png\n",
      "upload: train/minibike_s_000800.png to s3://sagemaker-us-east-1-048293924935/train/minibike_s_000800.png\n",
      "upload: train/minibike_s_000813.png to s3://sagemaker-us-east-1-048293924935/train/minibike_s_000813.png\n",
      "upload: train/minibike_s_000831.png to s3://sagemaker-us-east-1-048293924935/train/minibike_s_000831.png\n",
      "upload: train/minibike_s_000855.png to s3://sagemaker-us-east-1-048293924935/train/minibike_s_000855.png\n",
      "upload: train/minibike_s_000830.png to s3://sagemaker-us-east-1-048293924935/train/minibike_s_000830.png\n",
      "upload: train/minibike_s_000906.png to s3://sagemaker-us-east-1-048293924935/train/minibike_s_000906.png\n",
      "upload: train/minibike_s_000914.png to s3://sagemaker-us-east-1-048293924935/train/minibike_s_000914.png\n",
      "upload: train/minibike_s_000885.png to s3://sagemaker-us-east-1-048293924935/train/minibike_s_000885.png\n",
      "upload: train/minibike_s_000967.png to s3://sagemaker-us-east-1-048293924935/train/minibike_s_000967.png\n",
      "upload: train/minibike_s_000652.png to s3://sagemaker-us-east-1-048293924935/train/minibike_s_000652.png\n",
      "upload: train/minibike_s_001017.png to s3://sagemaker-us-east-1-048293924935/train/minibike_s_001017.png\n",
      "upload: train/minibike_s_001157.png to s3://sagemaker-us-east-1-048293924935/train/minibike_s_001157.png\n",
      "upload: train/minibike_s_001072.png to s3://sagemaker-us-east-1-048293924935/train/minibike_s_001072.png\n",
      "upload: train/minibike_s_000886.png to s3://sagemaker-us-east-1-048293924935/train/minibike_s_000886.png\n",
      "upload: train/minibike_s_001079.png to s3://sagemaker-us-east-1-048293924935/train/minibike_s_001079.png\n",
      "upload: train/minibike_s_001094.png to s3://sagemaker-us-east-1-048293924935/train/minibike_s_001094.png\n",
      "upload: train/minibike_s_001177.png to s3://sagemaker-us-east-1-048293924935/train/minibike_s_001177.png\n",
      "upload: train/minibike_s_001169.png to s3://sagemaker-us-east-1-048293924935/train/minibike_s_001169.png\n",
      "upload: train/minibike_s_000968.png to s3://sagemaker-us-east-1-048293924935/train/minibike_s_000968.png\n",
      "upload: train/minibike_s_001168.png to s3://sagemaker-us-east-1-048293924935/train/minibike_s_001168.png\n",
      "upload: train/minibike_s_001016.png to s3://sagemaker-us-east-1-048293924935/train/minibike_s_001016.png\n",
      "upload: train/minibike_s_001193.png to s3://sagemaker-us-east-1-048293924935/train/minibike_s_001193.png\n",
      "upload: train/minibike_s_001250.png to s3://sagemaker-us-east-1-048293924935/train/minibike_s_001250.png\n",
      "upload: train/minibike_s_001185.png to s3://sagemaker-us-east-1-048293924935/train/minibike_s_001185.png\n",
      "upload: train/minibike_s_001275.png to s3://sagemaker-us-east-1-048293924935/train/minibike_s_001275.png\n",
      "upload: train/minibike_s_001270.png to s3://sagemaker-us-east-1-048293924935/train/minibike_s_001270.png\n",
      "upload: train/minibike_s_001179.png to s3://sagemaker-us-east-1-048293924935/train/minibike_s_001179.png\n",
      "upload: train/minibike_s_001261.png to s3://sagemaker-us-east-1-048293924935/train/minibike_s_001261.png\n",
      "upload: train/minibike_s_001279.png to s3://sagemaker-us-east-1-048293924935/train/minibike_s_001279.png\n",
      "upload: train/minibike_s_001294.png to s3://sagemaker-us-east-1-048293924935/train/minibike_s_001294.png\n",
      "upload: train/minibike_s_001344.png to s3://sagemaker-us-east-1-048293924935/train/minibike_s_001344.png\n",
      "upload: train/minibike_s_001191.png to s3://sagemaker-us-east-1-048293924935/train/minibike_s_001191.png\n",
      "upload: train/minibike_s_001348.png to s3://sagemaker-us-east-1-048293924935/train/minibike_s_001348.png\n",
      "upload: train/minibike_s_001366.png to s3://sagemaker-us-east-1-048293924935/train/minibike_s_001366.png\n",
      "upload: train/minibike_s_001417.png to s3://sagemaker-us-east-1-048293924935/train/minibike_s_001417.png\n",
      "upload: train/minibike_s_001345.png to s3://sagemaker-us-east-1-048293924935/train/minibike_s_001345.png\n",
      "upload: train/minibike_s_001249.png to s3://sagemaker-us-east-1-048293924935/train/minibike_s_001249.png\n",
      "upload: train/minibike_s_001491.png to s3://sagemaker-us-east-1-048293924935/train/minibike_s_001491.png\n",
      "upload: train/minibike_s_001496.png to s3://sagemaker-us-east-1-048293924935/train/minibike_s_001496.png\n",
      "upload: train/minibike_s_001458.png to s3://sagemaker-us-east-1-048293924935/train/minibike_s_001458.png\n",
      "upload: train/minibike_s_001479.png to s3://sagemaker-us-east-1-048293924935/train/minibike_s_001479.png\n",
      "upload: train/minibike_s_001506.png to s3://sagemaker-us-east-1-048293924935/train/minibike_s_001506.png\n",
      "upload: train/minibike_s_001540.png to s3://sagemaker-us-east-1-048293924935/train/minibike_s_001540.png\n",
      "upload: train/minibike_s_001511.png to s3://sagemaker-us-east-1-048293924935/train/minibike_s_001511.png\n",
      "upload: train/minibike_s_001546.png to s3://sagemaker-us-east-1-048293924935/train/minibike_s_001546.png\n",
      "upload: train/minibike_s_001512.png to s3://sagemaker-us-east-1-048293924935/train/minibike_s_001512.png\n",
      "upload: train/minibike_s_001558.png to s3://sagemaker-us-east-1-048293924935/train/minibike_s_001558.png\n",
      "upload: train/minibike_s_001565.png to s3://sagemaker-us-east-1-048293924935/train/minibike_s_001565.png\n",
      "upload: train/minibike_s_001450.png to s3://sagemaker-us-east-1-048293924935/train/minibike_s_001450.png\n",
      "upload: train/minibike_s_001539.png to s3://sagemaker-us-east-1-048293924935/train/minibike_s_001539.png\n",
      "upload: train/minibike_s_001597.png to s3://sagemaker-us-east-1-048293924935/train/minibike_s_001597.png\n",
      "upload: train/minibike_s_001638.png to s3://sagemaker-us-east-1-048293924935/train/minibike_s_001638.png\n",
      "upload: train/minibike_s_001575.png to s3://sagemaker-us-east-1-048293924935/train/minibike_s_001575.png\n",
      "upload: train/minibike_s_001639.png to s3://sagemaker-us-east-1-048293924935/train/minibike_s_001639.png\n",
      "upload: train/minibike_s_001573.png to s3://sagemaker-us-east-1-048293924935/train/minibike_s_001573.png\n",
      "upload: train/minibike_s_001653.png to s3://sagemaker-us-east-1-048293924935/train/minibike_s_001653.png\n",
      "upload: train/minibike_s_001701.png to s3://sagemaker-us-east-1-048293924935/train/minibike_s_001701.png\n",
      "upload: train/minibike_s_001691.png to s3://sagemaker-us-east-1-048293924935/train/minibike_s_001691.png\n",
      "upload: train/minibike_s_001498.png to s3://sagemaker-us-east-1-048293924935/train/minibike_s_001498.png\n",
      "upload: train/minibike_s_001731.png to s3://sagemaker-us-east-1-048293924935/train/minibike_s_001731.png\n",
      "upload: train/minibike_s_001734.png to s3://sagemaker-us-east-1-048293924935/train/minibike_s_001734.png\n",
      "upload: train/minibike_s_001767.png to s3://sagemaker-us-east-1-048293924935/train/minibike_s_001767.png\n",
      "upload: train/minibike_s_001747.png to s3://sagemaker-us-east-1-048293924935/train/minibike_s_001747.png\n",
      "upload: train/minibike_s_001771.png to s3://sagemaker-us-east-1-048293924935/train/minibike_s_001771.png\n",
      "upload: train/minibike_s_001789.png to s3://sagemaker-us-east-1-048293924935/train/minibike_s_001789.png\n",
      "upload: train/minibike_s_001631.png to s3://sagemaker-us-east-1-048293924935/train/minibike_s_001631.png\n",
      "upload: train/minibike_s_001827.png to s3://sagemaker-us-east-1-048293924935/train/minibike_s_001827.png\n",
      "upload: train/minibike_s_001836.png to s3://sagemaker-us-east-1-048293924935/train/minibike_s_001836.png\n",
      "upload: train/minibike_s_001863.png to s3://sagemaker-us-east-1-048293924935/train/minibike_s_001863.png\n",
      "upload: train/minibike_s_001865.png to s3://sagemaker-us-east-1-048293924935/train/minibike_s_001865.png\n",
      "upload: train/minibike_s_001838.png to s3://sagemaker-us-east-1-048293924935/train/minibike_s_001838.png\n",
      "upload: train/minibike_s_001689.png to s3://sagemaker-us-east-1-048293924935/train/minibike_s_001689.png\n",
      "upload: train/minibike_s_001870.png to s3://sagemaker-us-east-1-048293924935/train/minibike_s_001870.png\n",
      "upload: train/minibike_s_001829.png to s3://sagemaker-us-east-1-048293924935/train/minibike_s_001829.png\n",
      "upload: train/minibike_s_001873.png to s3://sagemaker-us-east-1-048293924935/train/minibike_s_001873.png\n",
      "upload: train/minibike_s_001881.png to s3://sagemaker-us-east-1-048293924935/train/minibike_s_001881.png\n",
      "upload: train/minibike_s_001917.png to s3://sagemaker-us-east-1-048293924935/train/minibike_s_001917.png\n",
      "upload: train/minibike_s_001944.png to s3://sagemaker-us-east-1-048293924935/train/minibike_s_001944.png\n",
      "upload: train/minibike_s_001996.png to s3://sagemaker-us-east-1-048293924935/train/minibike_s_001996.png\n",
      "upload: train/minibike_s_002009.png to s3://sagemaker-us-east-1-048293924935/train/minibike_s_002009.png\n",
      "upload: train/minibike_s_001921.png to s3://sagemaker-us-east-1-048293924935/train/minibike_s_001921.png\n",
      "upload: train/minibike_s_001885.png to s3://sagemaker-us-east-1-048293924935/train/minibike_s_001885.png\n",
      "upload: train/minibike_s_002046.png to s3://sagemaker-us-east-1-048293924935/train/minibike_s_002046.png\n",
      "upload: train/minibike_s_001972.png to s3://sagemaker-us-east-1-048293924935/train/minibike_s_001972.png\n",
      "upload: train/minibike_s_001880.png to s3://sagemaker-us-east-1-048293924935/train/minibike_s_001880.png\n",
      "upload: train/minibike_s_002048.png to s3://sagemaker-us-east-1-048293924935/train/minibike_s_002048.png\n",
      "upload: train/minibike_s_001969.png to s3://sagemaker-us-east-1-048293924935/train/minibike_s_001969.png\n",
      "upload: train/minibike_s_002130.png to s3://sagemaker-us-east-1-048293924935/train/minibike_s_002130.png\n",
      "upload: train/minibike_s_002030.png to s3://sagemaker-us-east-1-048293924935/train/minibike_s_002030.png\n",
      "upload: train/minibike_s_002038.png to s3://sagemaker-us-east-1-048293924935/train/minibike_s_002038.png\n",
      "upload: train/minibike_s_002137.png to s3://sagemaker-us-east-1-048293924935/train/minibike_s_002137.png\n",
      "upload: train/minibike_s_002146.png to s3://sagemaker-us-east-1-048293924935/train/minibike_s_002146.png\n",
      "upload: train/minibike_s_002194.png to s3://sagemaker-us-east-1-048293924935/train/minibike_s_002194.png\n",
      "upload: train/minibike_s_002163.png to s3://sagemaker-us-east-1-048293924935/train/minibike_s_002163.png\n",
      "upload: train/minibike_s_002186.png to s3://sagemaker-us-east-1-048293924935/train/minibike_s_002186.png\n",
      "upload: train/minibike_s_002182.png to s3://sagemaker-us-east-1-048293924935/train/minibike_s_002182.png\n",
      "upload: train/minibike_s_002176.png to s3://sagemaker-us-east-1-048293924935/train/minibike_s_002176.png\n",
      "upload: train/minibike_s_002196.png to s3://sagemaker-us-east-1-048293924935/train/minibike_s_002196.png\n",
      "upload: train/minibike_s_002124.png to s3://sagemaker-us-east-1-048293924935/train/minibike_s_002124.png\n",
      "upload: train/minibike_s_002084.png to s3://sagemaker-us-east-1-048293924935/train/minibike_s_002084.png\n",
      "upload: train/moped_s_000004.png to s3://sagemaker-us-east-1-048293924935/train/moped_s_000004.png\n",
      "upload: train/moped_s_000034.png to s3://sagemaker-us-east-1-048293924935/train/moped_s_000034.png\n",
      "upload: train/moped_s_000021.png to s3://sagemaker-us-east-1-048293924935/train/moped_s_000021.png\n",
      "upload: train/minibike_s_002218.png to s3://sagemaker-us-east-1-048293924935/train/minibike_s_002218.png\n",
      "upload: train/moped_s_000009.png to s3://sagemaker-us-east-1-048293924935/train/moped_s_000009.png\n",
      "upload: train/moped_s_000035.png to s3://sagemaker-us-east-1-048293924935/train/moped_s_000035.png\n",
      "upload: train/moped_s_000044.png to s3://sagemaker-us-east-1-048293924935/train/moped_s_000044.png\n",
      "upload: train/moped_s_000065.png to s3://sagemaker-us-east-1-048293924935/train/moped_s_000065.png\n",
      "upload: train/moped_s_000071.png to s3://sagemaker-us-east-1-048293924935/train/moped_s_000071.png\n",
      "upload: train/moped_s_000124.png to s3://sagemaker-us-east-1-048293924935/train/moped_s_000124.png\n",
      "upload: train/minibike_s_002115.png to s3://sagemaker-us-east-1-048293924935/train/minibike_s_002115.png\n",
      "upload: train/moped_s_000030.png to s3://sagemaker-us-east-1-048293924935/train/moped_s_000030.png\n",
      "upload: train/moped_s_000135.png to s3://sagemaker-us-east-1-048293924935/train/moped_s_000135.png\n",
      "upload: train/moped_s_000168.png to s3://sagemaker-us-east-1-048293924935/train/moped_s_000168.png\n",
      "upload: train/moped_s_000237.png to s3://sagemaker-us-east-1-048293924935/train/moped_s_000237.png\n",
      "upload: train/minibike_s_002198.png to s3://sagemaker-us-east-1-048293924935/train/minibike_s_002198.png\n",
      "upload: train/moped_s_000236.png to s3://sagemaker-us-east-1-048293924935/train/moped_s_000236.png\n",
      "upload: train/motorbike_s_000009.png to s3://sagemaker-us-east-1-048293924935/train/motorbike_s_000009.png\n",
      "upload: train/motorbike_s_000021.png to s3://sagemaker-us-east-1-048293924935/train/motorbike_s_000021.png\n",
      "upload: train/moped_s_000119.png to s3://sagemaker-us-east-1-048293924935/train/moped_s_000119.png\n",
      "upload: train/motorbike_s_000035.png to s3://sagemaker-us-east-1-048293924935/train/motorbike_s_000035.png\n",
      "upload: train/motorbike_s_000022.png to s3://sagemaker-us-east-1-048293924935/train/motorbike_s_000022.png\n",
      "upload: train/motorbike_s_000062.png to s3://sagemaker-us-east-1-048293924935/train/motorbike_s_000062.png\n",
      "upload: train/moped_s_000169.png to s3://sagemaker-us-east-1-048293924935/train/moped_s_000169.png\n",
      "upload: train/motorbike_s_000068.png to s3://sagemaker-us-east-1-048293924935/train/motorbike_s_000068.png\n",
      "upload: train/motorbike_s_000058.png to s3://sagemaker-us-east-1-048293924935/train/motorbike_s_000058.png\n",
      "upload: train/motorbike_s_000106.png to s3://sagemaker-us-east-1-048293924935/train/motorbike_s_000106.png\n",
      "upload: train/motorbike_s_000115.png to s3://sagemaker-us-east-1-048293924935/train/motorbike_s_000115.png\n",
      "upload: train/motorbike_s_000041.png to s3://sagemaker-us-east-1-048293924935/train/motorbike_s_000041.png\n",
      "upload: train/motorbike_s_000117.png to s3://sagemaker-us-east-1-048293924935/train/motorbike_s_000117.png\n",
      "upload: train/motorbike_s_000060.png to s3://sagemaker-us-east-1-048293924935/train/motorbike_s_000060.png\n",
      "upload: train/motorbike_s_000124.png to s3://sagemaker-us-east-1-048293924935/train/motorbike_s_000124.png\n",
      "upload: train/motorbike_s_000172.png to s3://sagemaker-us-east-1-048293924935/train/motorbike_s_000172.png\n",
      "upload: train/motorbike_s_000223.png to s3://sagemaker-us-east-1-048293924935/train/motorbike_s_000223.png\n",
      "upload: train/motorbike_s_000134.png to s3://sagemaker-us-east-1-048293924935/train/motorbike_s_000134.png\n",
      "upload: train/motorbike_s_000221.png to s3://sagemaker-us-east-1-048293924935/train/motorbike_s_000221.png\n",
      "upload: train/motorbike_s_000141.png to s3://sagemaker-us-east-1-048293924935/train/motorbike_s_000141.png\n",
      "upload: train/motorbike_s_000254.png to s3://sagemaker-us-east-1-048293924935/train/motorbike_s_000254.png\n",
      "upload: train/motorbike_s_000225.png to s3://sagemaker-us-east-1-048293924935/train/motorbike_s_000225.png\n",
      "upload: train/motorbike_s_000331.png to s3://sagemaker-us-east-1-048293924935/train/motorbike_s_000331.png\n",
      "upload: train/motorbike_s_000361.png to s3://sagemaker-us-east-1-048293924935/train/motorbike_s_000361.png\n",
      "upload: train/motorbike_s_000308.png to s3://sagemaker-us-east-1-048293924935/train/motorbike_s_000308.png\n",
      "upload: train/motorbike_s_000427.png to s3://sagemaker-us-east-1-048293924935/train/motorbike_s_000427.png\n",
      "upload: train/motorbike_s_000119.png to s3://sagemaker-us-east-1-048293924935/train/motorbike_s_000119.png\n",
      "upload: train/motorbike_s_000463.png to s3://sagemaker-us-east-1-048293924935/train/motorbike_s_000463.png\n",
      "upload: train/motorbike_s_000346.png to s3://sagemaker-us-east-1-048293924935/train/motorbike_s_000346.png\n",
      "upload: train/motorbike_s_000501.png to s3://sagemaker-us-east-1-048293924935/train/motorbike_s_000501.png\n",
      "upload: train/motorbike_s_000449.png to s3://sagemaker-us-east-1-048293924935/train/motorbike_s_000449.png\n",
      "upload: train/motorbike_s_000534.png to s3://sagemaker-us-east-1-048293924935/train/motorbike_s_000534.png\n",
      "upload: train/motorbike_s_000362.png to s3://sagemaker-us-east-1-048293924935/train/motorbike_s_000362.png\n",
      "upload: train/motorbike_s_000541.png to s3://sagemaker-us-east-1-048293924935/train/motorbike_s_000541.png\n",
      "upload: train/motorcycle_s_000002.png to s3://sagemaker-us-east-1-048293924935/train/motorcycle_s_000002.png\n",
      "upload: train/motorcycle_s_000004.png to s3://sagemaker-us-east-1-048293924935/train/motorcycle_s_000004.png\n",
      "upload: train/motorbike_s_000578.png to s3://sagemaker-us-east-1-048293924935/train/motorbike_s_000578.png\n",
      "upload: train/motorcycle_s_000022.png to s3://sagemaker-us-east-1-048293924935/train/motorcycle_s_000022.png\n",
      "upload: train/motorcycle_s_000025.png to s3://sagemaker-us-east-1-048293924935/train/motorcycle_s_000025.png\n",
      "upload: train/motorcycle_s_000027.png to s3://sagemaker-us-east-1-048293924935/train/motorcycle_s_000027.png\n",
      "upload: train/motorcycle_s_000026.png to s3://sagemaker-us-east-1-048293924935/train/motorcycle_s_000026.png\n",
      "upload: train/motorcycle_s_000009.png to s3://sagemaker-us-east-1-048293924935/train/motorcycle_s_000009.png\n",
      "upload: train/motorcycle_s_000001.png to s3://sagemaker-us-east-1-048293924935/train/motorcycle_s_000001.png\n",
      "upload: train/motorcycle_s_000029.png to s3://sagemaker-us-east-1-048293924935/train/motorcycle_s_000029.png\n",
      "upload: train/motorcycle_s_000076.png to s3://sagemaker-us-east-1-048293924935/train/motorcycle_s_000076.png\n",
      "upload: train/motorcycle_s_000070.png to s3://sagemaker-us-east-1-048293924935/train/motorcycle_s_000070.png\n",
      "upload: train/motorcycle_s_000050.png to s3://sagemaker-us-east-1-048293924935/train/motorcycle_s_000050.png\n",
      "upload: train/motorcycle_s_000072.png to s3://sagemaker-us-east-1-048293924935/train/motorcycle_s_000072.png\n",
      "upload: train/motorcycle_s_000074.png to s3://sagemaker-us-east-1-048293924935/train/motorcycle_s_000074.png\n",
      "upload: train/motorcycle_s_000127.png to s3://sagemaker-us-east-1-048293924935/train/motorcycle_s_000127.png\n",
      "upload: train/motorcycle_s_000003.png to s3://sagemaker-us-east-1-048293924935/train/motorcycle_s_000003.png\n",
      "upload: train/motorcycle_s_000032.png to s3://sagemaker-us-east-1-048293924935/train/motorcycle_s_000032.png\n",
      "upload: train/motorcycle_s_000154.png to s3://sagemaker-us-east-1-048293924935/train/motorcycle_s_000154.png\n",
      "upload: train/motorcycle_s_000146.png to s3://sagemaker-us-east-1-048293924935/train/motorcycle_s_000146.png\n",
      "upload: train/motorcycle_s_000151.png to s3://sagemaker-us-east-1-048293924935/train/motorcycle_s_000151.png\n",
      "upload: train/motorcycle_s_000126.png to s3://sagemaker-us-east-1-048293924935/train/motorcycle_s_000126.png\n",
      "upload: train/motorcycle_s_000167.png to s3://sagemaker-us-east-1-048293924935/train/motorcycle_s_000167.png\n",
      "upload: train/motorcycle_s_000120.png to s3://sagemaker-us-east-1-048293924935/train/motorcycle_s_000120.png\n",
      "upload: train/motorcycle_s_000136.png to s3://sagemaker-us-east-1-048293924935/train/motorcycle_s_000136.png\n",
      "upload: train/motorcycle_s_000169.png to s3://sagemaker-us-east-1-048293924935/train/motorcycle_s_000169.png\n",
      "upload: train/motorcycle_s_000133.png to s3://sagemaker-us-east-1-048293924935/train/motorcycle_s_000133.png\n",
      "upload: train/motorcycle_s_000207.png to s3://sagemaker-us-east-1-048293924935/train/motorcycle_s_000207.png\n",
      "upload: train/motorcycle_s_000217.png to s3://sagemaker-us-east-1-048293924935/train/motorcycle_s_000217.png\n",
      "upload: train/motorcycle_s_000216.png to s3://sagemaker-us-east-1-048293924935/train/motorcycle_s_000216.png\n",
      "upload: train/motorcycle_s_000144.png to s3://sagemaker-us-east-1-048293924935/train/motorcycle_s_000144.png\n",
      "upload: train/motorcycle_s_000170.png to s3://sagemaker-us-east-1-048293924935/train/motorcycle_s_000170.png\n",
      "upload: train/motorcycle_s_000223.png to s3://sagemaker-us-east-1-048293924935/train/motorcycle_s_000223.png\n",
      "upload: train/motorcycle_s_000219.png to s3://sagemaker-us-east-1-048293924935/train/motorcycle_s_000219.png\n",
      "upload: train/motorcycle_s_000221.png to s3://sagemaker-us-east-1-048293924935/train/motorcycle_s_000221.png\n",
      "upload: train/motorcycle_s_000242.png to s3://sagemaker-us-east-1-048293924935/train/motorcycle_s_000242.png\n",
      "upload: train/motorcycle_s_000253.png to s3://sagemaker-us-east-1-048293924935/train/motorcycle_s_000253.png\n",
      "upload: train/motorcycle_s_000252.png to s3://sagemaker-us-east-1-048293924935/train/motorcycle_s_000252.png\n",
      "upload: train/motorcycle_s_000245.png to s3://sagemaker-us-east-1-048293924935/train/motorcycle_s_000245.png\n",
      "upload: train/motorcycle_s_000249.png to s3://sagemaker-us-east-1-048293924935/train/motorcycle_s_000249.png\n",
      "upload: train/motorcycle_s_000262.png to s3://sagemaker-us-east-1-048293924935/train/motorcycle_s_000262.png\n",
      "upload: train/motorcycle_s_000220.png to s3://sagemaker-us-east-1-048293924935/train/motorcycle_s_000220.png\n",
      "upload: train/motorcycle_s_000256.png to s3://sagemaker-us-east-1-048293924935/train/motorcycle_s_000256.png\n",
      "upload: train/motorcycle_s_000246.png to s3://sagemaker-us-east-1-048293924935/train/motorcycle_s_000246.png\n",
      "upload: train/motorcycle_s_000277.png to s3://sagemaker-us-east-1-048293924935/train/motorcycle_s_000277.png\n",
      "upload: train/motorcycle_s_000291.png to s3://sagemaker-us-east-1-048293924935/train/motorcycle_s_000291.png\n",
      "upload: train/motorcycle_s_000284.png to s3://sagemaker-us-east-1-048293924935/train/motorcycle_s_000284.png\n",
      "upload: train/motorcycle_s_000304.png to s3://sagemaker-us-east-1-048293924935/train/motorcycle_s_000304.png\n",
      "upload: train/motorcycle_s_000319.png to s3://sagemaker-us-east-1-048293924935/train/motorcycle_s_000319.png\n",
      "upload: train/motorcycle_s_000300.png to s3://sagemaker-us-east-1-048293924935/train/motorcycle_s_000300.png\n",
      "upload: train/motorcycle_s_000290.png to s3://sagemaker-us-east-1-048293924935/train/motorcycle_s_000290.png\n",
      "upload: train/motorcycle_s_000312.png to s3://sagemaker-us-east-1-048293924935/train/motorcycle_s_000312.png\n",
      "upload: train/motorcycle_s_000325.png to s3://sagemaker-us-east-1-048293924935/train/motorcycle_s_000325.png\n",
      "upload: train/motorcycle_s_000339.png to s3://sagemaker-us-east-1-048293924935/train/motorcycle_s_000339.png\n",
      "upload: train/motorcycle_s_000340.png to s3://sagemaker-us-east-1-048293924935/train/motorcycle_s_000340.png\n",
      "upload: train/motorcycle_s_000347.png to s3://sagemaker-us-east-1-048293924935/train/motorcycle_s_000347.png\n",
      "upload: train/motorcycle_s_000332.png to s3://sagemaker-us-east-1-048293924935/train/motorcycle_s_000332.png\n",
      "upload: train/motorcycle_s_000346.png to s3://sagemaker-us-east-1-048293924935/train/motorcycle_s_000346.png\n",
      "upload: train/motorcycle_s_000407.png to s3://sagemaker-us-east-1-048293924935/train/motorcycle_s_000407.png\n",
      "upload: train/motorcycle_s_000309.png to s3://sagemaker-us-east-1-048293924935/train/motorcycle_s_000309.png\n",
      "upload: train/motorcycle_s_000418.png to s3://sagemaker-us-east-1-048293924935/train/motorcycle_s_000418.png\n",
      "upload: train/motorcycle_s_000430.png to s3://sagemaker-us-east-1-048293924935/train/motorcycle_s_000430.png\n",
      "upload: train/motorcycle_s_000353.png to s3://sagemaker-us-east-1-048293924935/train/motorcycle_s_000353.png\n",
      "upload: train/motorcycle_s_000423.png to s3://sagemaker-us-east-1-048293924935/train/motorcycle_s_000423.png\n",
      "upload: train/motorcycle_s_000432.png to s3://sagemaker-us-east-1-048293924935/train/motorcycle_s_000432.png\n",
      "upload: train/motorcycle_s_000431.png to s3://sagemaker-us-east-1-048293924935/train/motorcycle_s_000431.png\n",
      "upload: train/motorcycle_s_000440.png to s3://sagemaker-us-east-1-048293924935/train/motorcycle_s_000440.png\n",
      "upload: train/motorcycle_s_000451.png to s3://sagemaker-us-east-1-048293924935/train/motorcycle_s_000451.png\n",
      "upload: train/motorcycle_s_000456.png to s3://sagemaker-us-east-1-048293924935/train/motorcycle_s_000456.png\n",
      "upload: train/motorcycle_s_000459.png to s3://sagemaker-us-east-1-048293924935/train/motorcycle_s_000459.png\n",
      "upload: train/motorcycle_s_000417.png to s3://sagemaker-us-east-1-048293924935/train/motorcycle_s_000417.png\n",
      "upload: train/motorcycle_s_000422.png to s3://sagemaker-us-east-1-048293924935/train/motorcycle_s_000422.png\n",
      "upload: train/motorcycle_s_000320.png to s3://sagemaker-us-east-1-048293924935/train/motorcycle_s_000320.png\n",
      "upload: train/motorcycle_s_000496.png to s3://sagemaker-us-east-1-048293924935/train/motorcycle_s_000496.png\n",
      "upload: train/motorcycle_s_000508.png to s3://sagemaker-us-east-1-048293924935/train/motorcycle_s_000508.png\n",
      "upload: train/motorcycle_s_000447.png to s3://sagemaker-us-east-1-048293924935/train/motorcycle_s_000447.png\n",
      "upload: train/motorcycle_s_000454.png to s3://sagemaker-us-east-1-048293924935/train/motorcycle_s_000454.png\n",
      "upload: train/motorcycle_s_000517.png to s3://sagemaker-us-east-1-048293924935/train/motorcycle_s_000517.png\n",
      "upload: train/motorcycle_s_000486.png to s3://sagemaker-us-east-1-048293924935/train/motorcycle_s_000486.png\n",
      "upload: train/motorcycle_s_000543.png to s3://sagemaker-us-east-1-048293924935/train/motorcycle_s_000543.png\n",
      "upload: train/motorcycle_s_000542.png to s3://sagemaker-us-east-1-048293924935/train/motorcycle_s_000542.png\n",
      "upload: train/motorcycle_s_000545.png to s3://sagemaker-us-east-1-048293924935/train/motorcycle_s_000545.png\n",
      "upload: train/motorcycle_s_000594.png to s3://sagemaker-us-east-1-048293924935/train/motorcycle_s_000594.png\n",
      "upload: train/motorcycle_s_000521.png to s3://sagemaker-us-east-1-048293924935/train/motorcycle_s_000521.png\n",
      "upload: train/motorcycle_s_000580.png to s3://sagemaker-us-east-1-048293924935/train/motorcycle_s_000580.png\n",
      "upload: train/motorcycle_s_000593.png to s3://sagemaker-us-east-1-048293924935/train/motorcycle_s_000593.png\n",
      "upload: train/motorcycle_s_000605.png to s3://sagemaker-us-east-1-048293924935/train/motorcycle_s_000605.png\n",
      "upload: train/motorcycle_s_000622.png to s3://sagemaker-us-east-1-048293924935/train/motorcycle_s_000622.png\n",
      "upload: train/motorcycle_s_000654.png to s3://sagemaker-us-east-1-048293924935/train/motorcycle_s_000654.png\n",
      "upload: train/motorcycle_s_000585.png to s3://sagemaker-us-east-1-048293924935/train/motorcycle_s_000585.png\n",
      "upload: train/motorcycle_s_000669.png to s3://sagemaker-us-east-1-048293924935/train/motorcycle_s_000669.png\n",
      "upload: train/motorcycle_s_000629.png to s3://sagemaker-us-east-1-048293924935/train/motorcycle_s_000629.png\n",
      "upload: train/motorcycle_s_000617.png to s3://sagemaker-us-east-1-048293924935/train/motorcycle_s_000617.png\n",
      "upload: train/motorcycle_s_000686.png to s3://sagemaker-us-east-1-048293924935/train/motorcycle_s_000686.png\n",
      "upload: train/motorcycle_s_000695.png to s3://sagemaker-us-east-1-048293924935/train/motorcycle_s_000695.png\n",
      "upload: train/motorcycle_s_000687.png to s3://sagemaker-us-east-1-048293924935/train/motorcycle_s_000687.png\n",
      "upload: train/motorcycle_s_000696.png to s3://sagemaker-us-east-1-048293924935/train/motorcycle_s_000696.png\n",
      "upload: train/motorcycle_s_000713.png to s3://sagemaker-us-east-1-048293924935/train/motorcycle_s_000713.png\n",
      "upload: train/motorcycle_s_000699.png to s3://sagemaker-us-east-1-048293924935/train/motorcycle_s_000699.png\n",
      "upload: train/motorcycle_s_000700.png to s3://sagemaker-us-east-1-048293924935/train/motorcycle_s_000700.png\n",
      "upload: train/motorcycle_s_000698.png to s3://sagemaker-us-east-1-048293924935/train/motorcycle_s_000698.png\n",
      "upload: train/motorcycle_s_000732.png to s3://sagemaker-us-east-1-048293924935/train/motorcycle_s_000732.png\n",
      "upload: train/motorcycle_s_000772.png to s3://sagemaker-us-east-1-048293924935/train/motorcycle_s_000772.png\n",
      "upload: train/motorcycle_s_000741.png to s3://sagemaker-us-east-1-048293924935/train/motorcycle_s_000741.png\n",
      "upload: train/motorcycle_s_000714.png to s3://sagemaker-us-east-1-048293924935/train/motorcycle_s_000714.png\n",
      "upload: train/motorcycle_s_000724.png to s3://sagemaker-us-east-1-048293924935/train/motorcycle_s_000724.png\n",
      "upload: train/motorcycle_s_000734.png to s3://sagemaker-us-east-1-048293924935/train/motorcycle_s_000734.png\n",
      "upload: train/motorcycle_s_000785.png to s3://sagemaker-us-east-1-048293924935/train/motorcycle_s_000785.png\n",
      "upload: train/motorcycle_s_000787.png to s3://sagemaker-us-east-1-048293924935/train/motorcycle_s_000787.png\n",
      "upload: train/motorcycle_s_000791.png to s3://sagemaker-us-east-1-048293924935/train/motorcycle_s_000791.png\n",
      "upload: train/motorcycle_s_000790.png to s3://sagemaker-us-east-1-048293924935/train/motorcycle_s_000790.png\n",
      "upload: train/motorcycle_s_000796.png to s3://sagemaker-us-east-1-048293924935/train/motorcycle_s_000796.png\n",
      "upload: train/motorcycle_s_000792.png to s3://sagemaker-us-east-1-048293924935/train/motorcycle_s_000792.png\n",
      "upload: train/motorcycle_s_000807.png to s3://sagemaker-us-east-1-048293924935/train/motorcycle_s_000807.png\n",
      "upload: train/motorcycle_s_000894.png to s3://sagemaker-us-east-1-048293924935/train/motorcycle_s_000894.png\n",
      "upload: train/motorcycle_s_000917.png to s3://sagemaker-us-east-1-048293924935/train/motorcycle_s_000917.png\n",
      "upload: train/motorcycle_s_000919.png to s3://sagemaker-us-east-1-048293924935/train/motorcycle_s_000919.png\n",
      "upload: train/motorcycle_s_000922.png to s3://sagemaker-us-east-1-048293924935/train/motorcycle_s_000922.png\n",
      "upload: train/motorcycle_s_000923.png to s3://sagemaker-us-east-1-048293924935/train/motorcycle_s_000923.png\n",
      "upload: train/motorcycle_s_000924.png to s3://sagemaker-us-east-1-048293924935/train/motorcycle_s_000924.png\n",
      "upload: train/motorcycle_s_000887.png to s3://sagemaker-us-east-1-048293924935/train/motorcycle_s_000887.png\n",
      "upload: train/motorcycle_s_000776.png to s3://sagemaker-us-east-1-048293924935/train/motorcycle_s_000776.png\n",
      "upload: train/motorcycle_s_000925.png to s3://sagemaker-us-east-1-048293924935/train/motorcycle_s_000925.png\n",
      "upload: train/motorcycle_s_000933.png to s3://sagemaker-us-east-1-048293924935/train/motorcycle_s_000933.png\n",
      "upload: train/motorcycle_s_000928.png to s3://sagemaker-us-east-1-048293924935/train/motorcycle_s_000928.png\n",
      "upload: train/motorcycle_s_000938.png to s3://sagemaker-us-east-1-048293924935/train/motorcycle_s_000938.png\n",
      "upload: train/motorcycle_s_000834.png to s3://sagemaker-us-east-1-048293924935/train/motorcycle_s_000834.png\n",
      "upload: train/motorcycle_s_000989.png to s3://sagemaker-us-east-1-048293924935/train/motorcycle_s_000989.png\n",
      "upload: train/motorcycle_s_001027.png to s3://sagemaker-us-east-1-048293924935/train/motorcycle_s_001027.png\n",
      "upload: train/motorcycle_s_000941.png to s3://sagemaker-us-east-1-048293924935/train/motorcycle_s_000941.png\n",
      "upload: train/motorcycle_s_000978.png to s3://sagemaker-us-east-1-048293924935/train/motorcycle_s_000978.png\n",
      "upload: train/motorcycle_s_000979.png to s3://sagemaker-us-east-1-048293924935/train/motorcycle_s_000979.png\n",
      "upload: train/motorcycle_s_000991.png to s3://sagemaker-us-east-1-048293924935/train/motorcycle_s_000991.png\n",
      "upload: train/motorcycle_s_001016.png to s3://sagemaker-us-east-1-048293924935/train/motorcycle_s_001016.png\n",
      "upload: train/motorcycle_s_001033.png to s3://sagemaker-us-east-1-048293924935/train/motorcycle_s_001033.png\n",
      "upload: train/motorcycle_s_001017.png to s3://sagemaker-us-east-1-048293924935/train/motorcycle_s_001017.png\n",
      "upload: train/motorcycle_s_001012.png to s3://sagemaker-us-east-1-048293924935/train/motorcycle_s_001012.png\n",
      "upload: train/motorcycle_s_001106.png to s3://sagemaker-us-east-1-048293924935/train/motorcycle_s_001106.png\n",
      "upload: train/motorcycle_s_001176.png to s3://sagemaker-us-east-1-048293924935/train/motorcycle_s_001176.png\n",
      "upload: train/motorcycle_s_001167.png to s3://sagemaker-us-east-1-048293924935/train/motorcycle_s_001167.png\n",
      "upload: train/motorcycle_s_001119.png to s3://sagemaker-us-east-1-048293924935/train/motorcycle_s_001119.png\n",
      "upload: train/motorcycle_s_001064.png to s3://sagemaker-us-east-1-048293924935/train/motorcycle_s_001064.png\n",
      "upload: train/motorcycle_s_001181.png to s3://sagemaker-us-east-1-048293924935/train/motorcycle_s_001181.png\n",
      "upload: train/motorcycle_s_001126.png to s3://sagemaker-us-east-1-048293924935/train/motorcycle_s_001126.png\n",
      "upload: train/motorcycle_s_001063.png to s3://sagemaker-us-east-1-048293924935/train/motorcycle_s_001063.png\n",
      "upload: train/motorcycle_s_001180.png to s3://sagemaker-us-east-1-048293924935/train/motorcycle_s_001180.png\n",
      "upload: train/motorcycle_s_001118.png to s3://sagemaker-us-east-1-048293924935/train/motorcycle_s_001118.png\n",
      "upload: train/motorcycle_s_001196.png to s3://sagemaker-us-east-1-048293924935/train/motorcycle_s_001196.png\n",
      "upload: train/motorcycle_s_001183.png to s3://sagemaker-us-east-1-048293924935/train/motorcycle_s_001183.png\n",
      "upload: train/motorcycle_s_001215.png to s3://sagemaker-us-east-1-048293924935/train/motorcycle_s_001215.png\n",
      "upload: train/motorcycle_s_001182.png to s3://sagemaker-us-east-1-048293924935/train/motorcycle_s_001182.png\n",
      "upload: train/motorcycle_s_001197.png to s3://sagemaker-us-east-1-048293924935/train/motorcycle_s_001197.png\n",
      "upload: train/motorcycle_s_001213.png to s3://sagemaker-us-east-1-048293924935/train/motorcycle_s_001213.png\n",
      "upload: train/motorcycle_s_001237.png to s3://sagemaker-us-east-1-048293924935/train/motorcycle_s_001237.png\n",
      "upload: train/motorcycle_s_001209.png to s3://sagemaker-us-east-1-048293924935/train/motorcycle_s_001209.png\n",
      "upload: train/motorcycle_s_001220.png to s3://sagemaker-us-east-1-048293924935/train/motorcycle_s_001220.png\n",
      "upload: train/motorcycle_s_001236.png to s3://sagemaker-us-east-1-048293924935/train/motorcycle_s_001236.png\n",
      "upload: train/motorcycle_s_001205.png to s3://sagemaker-us-east-1-048293924935/train/motorcycle_s_001205.png\n",
      "upload: train/motorcycle_s_001246.png to s3://sagemaker-us-east-1-048293924935/train/motorcycle_s_001246.png\n",
      "upload: train/motorcycle_s_001244.png to s3://sagemaker-us-east-1-048293924935/train/motorcycle_s_001244.png\n",
      "upload: train/motorcycle_s_001263.png to s3://sagemaker-us-east-1-048293924935/train/motorcycle_s_001263.png\n",
      "upload: train/motorcycle_s_001242.png to s3://sagemaker-us-east-1-048293924935/train/motorcycle_s_001242.png\n",
      "upload: train/motorcycle_s_001247.png to s3://sagemaker-us-east-1-048293924935/train/motorcycle_s_001247.png\n",
      "upload: train/motorcycle_s_001319.png to s3://sagemaker-us-east-1-048293924935/train/motorcycle_s_001319.png\n",
      "upload: train/motorcycle_s_001297.png to s3://sagemaker-us-east-1-048293924935/train/motorcycle_s_001297.png\n",
      "upload: train/motorcycle_s_001273.png to s3://sagemaker-us-east-1-048293924935/train/motorcycle_s_001273.png\n",
      "upload: train/motorcycle_s_001287.png to s3://sagemaker-us-east-1-048293924935/train/motorcycle_s_001287.png\n",
      "upload: train/motorcycle_s_001238.png to s3://sagemaker-us-east-1-048293924935/train/motorcycle_s_001238.png\n",
      "upload: train/motorcycle_s_001360.png to s3://sagemaker-us-east-1-048293924935/train/motorcycle_s_001360.png\n",
      "upload: train/motorcycle_s_001303.png to s3://sagemaker-us-east-1-048293924935/train/motorcycle_s_001303.png\n",
      "upload: train/motorcycle_s_001337.png to s3://sagemaker-us-east-1-048293924935/train/motorcycle_s_001337.png\n",
      "upload: train/motorcycle_s_001368.png to s3://sagemaker-us-east-1-048293924935/train/motorcycle_s_001368.png\n",
      "upload: train/motorcycle_s_001370.png to s3://sagemaker-us-east-1-048293924935/train/motorcycle_s_001370.png\n",
      "upload: train/motorcycle_s_001326.png to s3://sagemaker-us-east-1-048293924935/train/motorcycle_s_001326.png\n",
      "upload: train/motorcycle_s_001397.png to s3://sagemaker-us-east-1-048293924935/train/motorcycle_s_001397.png\n",
      "upload: train/motorcycle_s_001400.png to s3://sagemaker-us-east-1-048293924935/train/motorcycle_s_001400.png\n",
      "upload: train/motorcycle_s_001315.png to s3://sagemaker-us-east-1-048293924935/train/motorcycle_s_001315.png\n",
      "upload: train/motorcycle_s_001407.png to s3://sagemaker-us-east-1-048293924935/train/motorcycle_s_001407.png\n",
      "upload: train/motorcycle_s_001363.png to s3://sagemaker-us-east-1-048293924935/train/motorcycle_s_001363.png\n",
      "upload: train/motorcycle_s_001409.png to s3://sagemaker-us-east-1-048293924935/train/motorcycle_s_001409.png\n",
      "upload: train/motorcycle_s_001392.png to s3://sagemaker-us-east-1-048293924935/train/motorcycle_s_001392.png\n",
      "upload: train/motorcycle_s_001402.png to s3://sagemaker-us-east-1-048293924935/train/motorcycle_s_001402.png\n",
      "upload: train/motorcycle_s_001413.png to s3://sagemaker-us-east-1-048293924935/train/motorcycle_s_001413.png\n",
      "upload: train/motorcycle_s_001492.png to s3://sagemaker-us-east-1-048293924935/train/motorcycle_s_001492.png\n",
      "upload: train/motorcycle_s_001384.png to s3://sagemaker-us-east-1-048293924935/train/motorcycle_s_001384.png\n",
      "upload: train/motorcycle_s_001438.png to s3://sagemaker-us-east-1-048293924935/train/motorcycle_s_001438.png\n",
      "upload: train/motorcycle_s_001527.png to s3://sagemaker-us-east-1-048293924935/train/motorcycle_s_001527.png\n",
      "upload: train/motorcycle_s_001439.png to s3://sagemaker-us-east-1-048293924935/train/motorcycle_s_001439.png\n",
      "upload: train/motorcycle_s_001507.png to s3://sagemaker-us-east-1-048293924935/train/motorcycle_s_001507.png\n",
      "upload: train/motorcycle_s_001435.png to s3://sagemaker-us-east-1-048293924935/train/motorcycle_s_001435.png\n",
      "upload: train/motorcycle_s_001536.png to s3://sagemaker-us-east-1-048293924935/train/motorcycle_s_001536.png\n",
      "upload: train/motorcycle_s_001453.png to s3://sagemaker-us-east-1-048293924935/train/motorcycle_s_001453.png\n",
      "upload: train/motorcycle_s_001520.png to s3://sagemaker-us-east-1-048293924935/train/motorcycle_s_001520.png\n",
      "upload: train/motorcycle_s_001565.png to s3://sagemaker-us-east-1-048293924935/train/motorcycle_s_001565.png\n",
      "upload: train/motorcycle_s_001549.png to s3://sagemaker-us-east-1-048293924935/train/motorcycle_s_001549.png\n",
      "upload: train/motorcycle_s_001584.png to s3://sagemaker-us-east-1-048293924935/train/motorcycle_s_001584.png\n",
      "upload: train/motorcycle_s_001563.png to s3://sagemaker-us-east-1-048293924935/train/motorcycle_s_001563.png\n",
      "upload: train/motorcycle_s_001587.png to s3://sagemaker-us-east-1-048293924935/train/motorcycle_s_001587.png\n",
      "upload: train/motorcycle_s_001580.png to s3://sagemaker-us-east-1-048293924935/train/motorcycle_s_001580.png\n",
      "upload: train/motorcycle_s_001585.png to s3://sagemaker-us-east-1-048293924935/train/motorcycle_s_001585.png\n",
      "upload: train/motorcycle_s_001622.png to s3://sagemaker-us-east-1-048293924935/train/motorcycle_s_001622.png\n",
      "upload: train/motorcycle_s_001610.png to s3://sagemaker-us-east-1-048293924935/train/motorcycle_s_001610.png\n",
      "upload: train/motorcycle_s_001641.png to s3://sagemaker-us-east-1-048293924935/train/motorcycle_s_001641.png\n",
      "upload: train/motorcycle_s_001623.png to s3://sagemaker-us-east-1-048293924935/train/motorcycle_s_001623.png\n",
      "upload: train/motorcycle_s_001693.png to s3://sagemaker-us-east-1-048293924935/train/motorcycle_s_001693.png\n",
      "upload: train/motorcycle_s_001686.png to s3://sagemaker-us-east-1-048293924935/train/motorcycle_s_001686.png\n",
      "upload: train/motorcycle_s_001696.png to s3://sagemaker-us-east-1-048293924935/train/motorcycle_s_001696.png\n",
      "upload: train/motorcycle_s_001699.png to s3://sagemaker-us-east-1-048293924935/train/motorcycle_s_001699.png\n",
      "upload: train/motorcycle_s_001611.png to s3://sagemaker-us-east-1-048293924935/train/motorcycle_s_001611.png\n",
      "upload: train/motorcycle_s_001690.png to s3://sagemaker-us-east-1-048293924935/train/motorcycle_s_001690.png\n",
      "upload: train/motorcycle_s_001710.png to s3://sagemaker-us-east-1-048293924935/train/motorcycle_s_001710.png\n",
      "upload: train/motorcycle_s_001695.png to s3://sagemaker-us-east-1-048293924935/train/motorcycle_s_001695.png\n",
      "upload: train/motorcycle_s_001706.png to s3://sagemaker-us-east-1-048293924935/train/motorcycle_s_001706.png\n",
      "upload: train/motorcycle_s_001753.png to s3://sagemaker-us-east-1-048293924935/train/motorcycle_s_001753.png\n",
      "upload: train/motorcycle_s_001707.png to s3://sagemaker-us-east-1-048293924935/train/motorcycle_s_001707.png\n",
      "upload: train/motorcycle_s_001709.png to s3://sagemaker-us-east-1-048293924935/train/motorcycle_s_001709.png\n",
      "upload: train/motorcycle_s_001765.png to s3://sagemaker-us-east-1-048293924935/train/motorcycle_s_001765.png\n",
      "upload: train/motorcycle_s_001711.png to s3://sagemaker-us-east-1-048293924935/train/motorcycle_s_001711.png\n",
      "upload: train/motorcycle_s_001767.png to s3://sagemaker-us-east-1-048293924935/train/motorcycle_s_001767.png\n",
      "upload: train/motorcycle_s_001714.png to s3://sagemaker-us-east-1-048293924935/train/motorcycle_s_001714.png\n",
      "upload: train/motorcycle_s_001784.png to s3://sagemaker-us-east-1-048293924935/train/motorcycle_s_001784.png\n",
      "upload: train/motorcycle_s_001792.png to s3://sagemaker-us-east-1-048293924935/train/motorcycle_s_001792.png\n",
      "upload: train/motorcycle_s_001790.png to s3://sagemaker-us-east-1-048293924935/train/motorcycle_s_001790.png\n",
      "upload: train/motorcycle_s_001715.png to s3://sagemaker-us-east-1-048293924935/train/motorcycle_s_001715.png\n",
      "upload: train/motorcycle_s_001853.png to s3://sagemaker-us-east-1-048293924935/train/motorcycle_s_001853.png\n",
      "upload: train/motorcycle_s_001778.png to s3://sagemaker-us-east-1-048293924935/train/motorcycle_s_001778.png\n",
      "upload: train/motorcycle_s_001856.png to s3://sagemaker-us-east-1-048293924935/train/motorcycle_s_001856.png\n",
      "upload: train/motorcycle_s_001862.png to s3://sagemaker-us-east-1-048293924935/train/motorcycle_s_001862.png\n",
      "upload: train/motorcycle_s_001878.png to s3://sagemaker-us-east-1-048293924935/train/motorcycle_s_001878.png\n",
      "upload: train/motorcycle_s_001848.png to s3://sagemaker-us-east-1-048293924935/train/motorcycle_s_001848.png\n",
      "upload: train/motorcycle_s_001896.png to s3://sagemaker-us-east-1-048293924935/train/motorcycle_s_001896.png\n",
      "upload: train/motorcycle_s_001920.png to s3://sagemaker-us-east-1-048293924935/train/motorcycle_s_001920.png\n",
      "upload: train/motorcycle_s_001905.png to s3://sagemaker-us-east-1-048293924935/train/motorcycle_s_001905.png\n",
      "upload: train/motorcycle_s_002030.png to s3://sagemaker-us-east-1-048293924935/train/motorcycle_s_002030.png\n",
      "upload: train/motorcycle_s_002066.png to s3://sagemaker-us-east-1-048293924935/train/motorcycle_s_002066.png\n",
      "upload: train/motorcycle_s_002105.png to s3://sagemaker-us-east-1-048293924935/train/motorcycle_s_002105.png\n",
      "upload: train/motorcycle_s_002065.png to s3://sagemaker-us-east-1-048293924935/train/motorcycle_s_002065.png\n",
      "upload: train/motorcycle_s_001973.png to s3://sagemaker-us-east-1-048293924935/train/motorcycle_s_001973.png\n",
      "upload: train/motorcycle_s_002143.png to s3://sagemaker-us-east-1-048293924935/train/motorcycle_s_002143.png\n",
      "upload: train/motorcycle_s_002140.png to s3://sagemaker-us-east-1-048293924935/train/motorcycle_s_002140.png\n",
      "upload: train/motorcycle_s_002031.png to s3://sagemaker-us-east-1-048293924935/train/motorcycle_s_002031.png\n",
      "upload: train/motorcycle_s_002067.png to s3://sagemaker-us-east-1-048293924935/train/motorcycle_s_002067.png\n",
      "upload: train/motorcycle_s_002183.png to s3://sagemaker-us-east-1-048293924935/train/motorcycle_s_002183.png\n",
      "upload: train/motorcycle_s_002192.png to s3://sagemaker-us-east-1-048293924935/train/motorcycle_s_002192.png\n",
      "upload: train/motorcycle_s_002193.png to s3://sagemaker-us-east-1-048293924935/train/motorcycle_s_002193.png\n",
      "upload: train/motorcycle_s_002153.png to s3://sagemaker-us-east-1-048293924935/train/motorcycle_s_002153.png\n",
      "upload: train/motorcycle_s_002197.png to s3://sagemaker-us-east-1-048293924935/train/motorcycle_s_002197.png\n",
      "upload: train/motorcycle_s_002121.png to s3://sagemaker-us-east-1-048293924935/train/motorcycle_s_002121.png\n",
      "upload: train/motorcycle_s_002162.png to s3://sagemaker-us-east-1-048293924935/train/motorcycle_s_002162.png\n",
      "upload: train/motorcycle_s_002215.png to s3://sagemaker-us-east-1-048293924935/train/motorcycle_s_002215.png\n",
      "upload: train/motorcycle_s_002214.png to s3://sagemaker-us-east-1-048293924935/train/motorcycle_s_002214.png\n",
      "upload: train/motorcycle_s_002254.png to s3://sagemaker-us-east-1-048293924935/train/motorcycle_s_002254.png\n",
      "upload: train/motorcycle_s_002236.png to s3://sagemaker-us-east-1-048293924935/train/motorcycle_s_002236.png\n",
      "upload: train/motorcycle_s_002221.png to s3://sagemaker-us-east-1-048293924935/train/motorcycle_s_002221.png\n",
      "upload: train/motorcycle_s_002271.png to s3://sagemaker-us-east-1-048293924935/train/motorcycle_s_002271.png\n",
      "upload: train/motorcycle_s_002237.png to s3://sagemaker-us-east-1-048293924935/train/motorcycle_s_002237.png\n",
      "upload: train/motorcycle_s_002225.png to s3://sagemaker-us-east-1-048293924935/train/motorcycle_s_002225.png\n",
      "upload: train/motorcycle_s_002275.png to s3://sagemaker-us-east-1-048293924935/train/motorcycle_s_002275.png\n",
      "upload: train/motorcycle_s_002222.png to s3://sagemaker-us-east-1-048293924935/train/motorcycle_s_002222.png\n",
      "upload: train/motorcycle_s_002291.png to s3://sagemaker-us-east-1-048293924935/train/motorcycle_s_002291.png\n",
      "upload: train/motorcycle_s_002316.png to s3://sagemaker-us-east-1-048293924935/train/motorcycle_s_002316.png\n",
      "upload: train/motorcycle_s_002298.png to s3://sagemaker-us-east-1-048293924935/train/motorcycle_s_002298.png\n",
      "upload: train/motorcycle_s_002317.png to s3://sagemaker-us-east-1-048293924935/train/motorcycle_s_002317.png\n",
      "upload: train/ordinary_bicycle_s_000023.png to s3://sagemaker-us-east-1-048293924935/train/ordinary_bicycle_s_000023.png\n",
      "upload: train/motorcycle_s_002234.png to s3://sagemaker-us-east-1-048293924935/train/motorcycle_s_002234.png\n",
      "upload: train/ordinary_bicycle_s_000011.png to s3://sagemaker-us-east-1-048293924935/train/ordinary_bicycle_s_000011.png\n",
      "upload: train/ordinary_bicycle_s_000016.png to s3://sagemaker-us-east-1-048293924935/train/ordinary_bicycle_s_000016.png\n",
      "upload: train/ordinary_bicycle_s_000008.png to s3://sagemaker-us-east-1-048293924935/train/ordinary_bicycle_s_000008.png\n",
      "upload: train/ordinary_bicycle_s_000022.png to s3://sagemaker-us-east-1-048293924935/train/ordinary_bicycle_s_000022.png\n",
      "upload: train/ordinary_bicycle_s_000029.png to s3://sagemaker-us-east-1-048293924935/train/ordinary_bicycle_s_000029.png\n",
      "upload: train/ordinary_bicycle_s_000035.png to s3://sagemaker-us-east-1-048293924935/train/ordinary_bicycle_s_000035.png\n",
      "upload: train/ordinary_bicycle_s_000049.png to s3://sagemaker-us-east-1-048293924935/train/ordinary_bicycle_s_000049.png\n",
      "upload: train/ordinary_bicycle_s_000060.png to s3://sagemaker-us-east-1-048293924935/train/ordinary_bicycle_s_000060.png\n",
      "upload: train/ordinary_bicycle_s_000036.png to s3://sagemaker-us-east-1-048293924935/train/ordinary_bicycle_s_000036.png\n",
      "upload: train/ordinary_bicycle_s_000031.png to s3://sagemaker-us-east-1-048293924935/train/ordinary_bicycle_s_000031.png\n",
      "upload: train/ordinary_bicycle_s_000066.png to s3://sagemaker-us-east-1-048293924935/train/ordinary_bicycle_s_000066.png\n",
      "upload: train/ordinary_bicycle_s_000097.png to s3://sagemaker-us-east-1-048293924935/train/ordinary_bicycle_s_000097.png\n",
      "upload: train/ordinary_bicycle_s_000096.png to s3://sagemaker-us-east-1-048293924935/train/ordinary_bicycle_s_000096.png\n",
      "upload: train/ordinary_bicycle_s_000100.png to s3://sagemaker-us-east-1-048293924935/train/ordinary_bicycle_s_000100.png\n",
      "upload: train/ordinary_bicycle_s_000102.png to s3://sagemaker-us-east-1-048293924935/train/ordinary_bicycle_s_000102.png\n",
      "upload: train/ordinary_bicycle_s_000098.png to s3://sagemaker-us-east-1-048293924935/train/ordinary_bicycle_s_000098.png\n",
      "upload: train/ordinary_bicycle_s_000110.png to s3://sagemaker-us-east-1-048293924935/train/ordinary_bicycle_s_000110.png\n",
      "upload: train/ordinary_bicycle_s_000101.png to s3://sagemaker-us-east-1-048293924935/train/ordinary_bicycle_s_000101.png\n",
      "upload: train/ordinary_bicycle_s_000104.png to s3://sagemaker-us-east-1-048293924935/train/ordinary_bicycle_s_000104.png\n",
      "upload: train/ordinary_bicycle_s_000056.png to s3://sagemaker-us-east-1-048293924935/train/ordinary_bicycle_s_000056.png\n",
      "upload: train/ordinary_bicycle_s_000099.png to s3://sagemaker-us-east-1-048293924935/train/ordinary_bicycle_s_000099.png\n",
      "upload: train/ordinary_bicycle_s_000107.png to s3://sagemaker-us-east-1-048293924935/train/ordinary_bicycle_s_000107.png\n",
      "upload: train/ordinary_bicycle_s_000125.png to s3://sagemaker-us-east-1-048293924935/train/ordinary_bicycle_s_000125.png\n",
      "upload: train/ordinary_bicycle_s_000095.png to s3://sagemaker-us-east-1-048293924935/train/ordinary_bicycle_s_000095.png\n",
      "upload: train/ordinary_bicycle_s_000157.png to s3://sagemaker-us-east-1-048293924935/train/ordinary_bicycle_s_000157.png\n",
      "upload: train/ordinary_bicycle_s_000112.png to s3://sagemaker-us-east-1-048293924935/train/ordinary_bicycle_s_000112.png\n",
      "upload: train/ordinary_bicycle_s_000154.png to s3://sagemaker-us-east-1-048293924935/train/ordinary_bicycle_s_000154.png\n",
      "upload: train/ordinary_bicycle_s_000167.png to s3://sagemaker-us-east-1-048293924935/train/ordinary_bicycle_s_000167.png\n",
      "upload: train/ordinary_bicycle_s_000161.png to s3://sagemaker-us-east-1-048293924935/train/ordinary_bicycle_s_000161.png\n",
      "upload: train/ordinary_bicycle_s_000216.png to s3://sagemaker-us-east-1-048293924935/train/ordinary_bicycle_s_000216.png\n",
      "upload: train/ordinary_bicycle_s_000205.png to s3://sagemaker-us-east-1-048293924935/train/ordinary_bicycle_s_000205.png\n",
      "upload: train/ordinary_bicycle_s_000265.png to s3://sagemaker-us-east-1-048293924935/train/ordinary_bicycle_s_000265.png\n",
      "upload: train/ordinary_bicycle_s_000201.png to s3://sagemaker-us-east-1-048293924935/train/ordinary_bicycle_s_000201.png\n",
      "upload: train/ordinary_bicycle_s_000218.png to s3://sagemaker-us-east-1-048293924935/train/ordinary_bicycle_s_000218.png\n",
      "upload: train/ordinary_bicycle_s_000280.png to s3://sagemaker-us-east-1-048293924935/train/ordinary_bicycle_s_000280.png\n",
      "upload: train/ordinary_bicycle_s_000286.png to s3://sagemaker-us-east-1-048293924935/train/ordinary_bicycle_s_000286.png\n",
      "upload: train/ordinary_bicycle_s_000277.png to s3://sagemaker-us-east-1-048293924935/train/ordinary_bicycle_s_000277.png\n",
      "upload: train/ordinary_bicycle_s_000274.png to s3://sagemaker-us-east-1-048293924935/train/ordinary_bicycle_s_000274.png\n",
      "upload: train/ordinary_bicycle_s_000269.png to s3://sagemaker-us-east-1-048293924935/train/ordinary_bicycle_s_000269.png\n",
      "upload: train/ordinary_bicycle_s_000297.png to s3://sagemaker-us-east-1-048293924935/train/ordinary_bicycle_s_000297.png\n",
      "upload: train/ordinary_bicycle_s_000308.png to s3://sagemaker-us-east-1-048293924935/train/ordinary_bicycle_s_000308.png\n",
      "upload: train/ordinary_bicycle_s_000324.png to s3://sagemaker-us-east-1-048293924935/train/ordinary_bicycle_s_000324.png\n",
      "upload: train/ordinary_bicycle_s_000355.png to s3://sagemaker-us-east-1-048293924935/train/ordinary_bicycle_s_000355.png\n",
      "upload: train/ordinary_bicycle_s_000155.png to s3://sagemaker-us-east-1-048293924935/train/ordinary_bicycle_s_000155.png\n",
      "upload: train/ordinary_bicycle_s_000347.png to s3://sagemaker-us-east-1-048293924935/train/ordinary_bicycle_s_000347.png\n",
      "upload: train/ordinary_bicycle_s_000426.png to s3://sagemaker-us-east-1-048293924935/train/ordinary_bicycle_s_000426.png\n",
      "upload: train/ordinary_bicycle_s_000432.png to s3://sagemaker-us-east-1-048293924935/train/ordinary_bicycle_s_000432.png\n",
      "upload: train/ordinary_bicycle_s_000298.png to s3://sagemaker-us-east-1-048293924935/train/ordinary_bicycle_s_000298.png\n",
      "upload: train/ordinary_bicycle_s_000387.png to s3://sagemaker-us-east-1-048293924935/train/ordinary_bicycle_s_000387.png\n",
      "upload: train/ordinary_bicycle_s_000433.png to s3://sagemaker-us-east-1-048293924935/train/ordinary_bicycle_s_000433.png\n",
      "upload: train/ordinary_bicycle_s_000451.png to s3://sagemaker-us-east-1-048293924935/train/ordinary_bicycle_s_000451.png\n",
      "upload: train/safety_bicycle_s_000019.png to s3://sagemaker-us-east-1-048293924935/train/safety_bicycle_s_000019.png\n",
      "upload: train/safety_bicycle_s_000125.png to s3://sagemaker-us-east-1-048293924935/train/safety_bicycle_s_000125.png\n",
      "upload: train/safety_bicycle_s_000092.png to s3://sagemaker-us-east-1-048293924935/train/safety_bicycle_s_000092.png\n",
      "upload: train/ordinary_bicycle_s_000419.png to s3://sagemaker-us-east-1-048293924935/train/ordinary_bicycle_s_000419.png\n",
      "upload: train/safety_bicycle_s_000196.png to s3://sagemaker-us-east-1-048293924935/train/safety_bicycle_s_000196.png\n",
      "upload: train/safety_bicycle_s_000162.png to s3://sagemaker-us-east-1-048293924935/train/safety_bicycle_s_000162.png\n",
      "upload: train/safety_bicycle_s_000140.png to s3://sagemaker-us-east-1-048293924935/train/safety_bicycle_s_000140.png\n",
      "upload: train/safety_bicycle_s_000167.png to s3://sagemaker-us-east-1-048293924935/train/safety_bicycle_s_000167.png\n",
      "upload: train/safety_bicycle_s_000079.png to s3://sagemaker-us-east-1-048293924935/train/safety_bicycle_s_000079.png\n",
      "upload: train/safety_bicycle_s_000193.png to s3://sagemaker-us-east-1-048293924935/train/safety_bicycle_s_000193.png\n",
      "upload: train/safety_bicycle_s_000207.png to s3://sagemaker-us-east-1-048293924935/train/safety_bicycle_s_000207.png\n",
      "upload: train/safety_bicycle_s_000232.png to s3://sagemaker-us-east-1-048293924935/train/safety_bicycle_s_000232.png\n",
      "upload: train/safety_bicycle_s_000255.png to s3://sagemaker-us-east-1-048293924935/train/safety_bicycle_s_000255.png\n",
      "upload: train/safety_bicycle_s_000296.png to s3://sagemaker-us-east-1-048293924935/train/safety_bicycle_s_000296.png\n",
      "upload: train/safety_bicycle_s_000303.png to s3://sagemaker-us-east-1-048293924935/train/safety_bicycle_s_000303.png\n",
      "upload: train/safety_bicycle_s_000239.png to s3://sagemaker-us-east-1-048293924935/train/safety_bicycle_s_000239.png\n",
      "upload: train/safety_bicycle_s_000261.png to s3://sagemaker-us-east-1-048293924935/train/safety_bicycle_s_000261.png\n",
      "upload: train/safety_bicycle_s_000233.png to s3://sagemaker-us-east-1-048293924935/train/safety_bicycle_s_000233.png\n",
      "upload: train/safety_bicycle_s_000348.png to s3://sagemaker-us-east-1-048293924935/train/safety_bicycle_s_000348.png\n",
      "upload: train/safety_bicycle_s_000324.png to s3://sagemaker-us-east-1-048293924935/train/safety_bicycle_s_000324.png\n",
      "upload: train/safety_bicycle_s_000359.png to s3://sagemaker-us-east-1-048293924935/train/safety_bicycle_s_000359.png\n",
      "upload: train/safety_bicycle_s_000322.png to s3://sagemaker-us-east-1-048293924935/train/safety_bicycle_s_000322.png\n",
      "upload: train/safety_bicycle_s_000373.png to s3://sagemaker-us-east-1-048293924935/train/safety_bicycle_s_000373.png\n",
      "upload: train/safety_bicycle_s_000427.png to s3://sagemaker-us-east-1-048293924935/train/safety_bicycle_s_000427.png\n",
      "upload: train/safety_bicycle_s_000500.png to s3://sagemaker-us-east-1-048293924935/train/safety_bicycle_s_000500.png\n",
      "upload: train/safety_bicycle_s_000533.png to s3://sagemaker-us-east-1-048293924935/train/safety_bicycle_s_000533.png\n",
      "upload: train/safety_bicycle_s_000568.png to s3://sagemaker-us-east-1-048293924935/train/safety_bicycle_s_000568.png\n",
      "upload: train/safety_bicycle_s_000660.png to s3://sagemaker-us-east-1-048293924935/train/safety_bicycle_s_000660.png\n",
      "upload: train/safety_bicycle_s_000532.png to s3://sagemaker-us-east-1-048293924935/train/safety_bicycle_s_000532.png\n",
      "upload: train/safety_bicycle_s_000425.png to s3://sagemaker-us-east-1-048293924935/train/safety_bicycle_s_000425.png\n",
      "upload: train/safety_bicycle_s_000728.png to s3://sagemaker-us-east-1-048293924935/train/safety_bicycle_s_000728.png\n",
      "upload: train/safety_bicycle_s_000789.png to s3://sagemaker-us-east-1-048293924935/train/safety_bicycle_s_000789.png\n",
      "upload: train/safety_bicycle_s_000760.png to s3://sagemaker-us-east-1-048293924935/train/safety_bicycle_s_000760.png\n",
      "upload: train/safety_bicycle_s_000655.png to s3://sagemaker-us-east-1-048293924935/train/safety_bicycle_s_000655.png\n",
      "upload: train/safety_bicycle_s_000860.png to s3://sagemaker-us-east-1-048293924935/train/safety_bicycle_s_000860.png\n",
      "upload: train/safety_bicycle_s_001049.png to s3://sagemaker-us-east-1-048293924935/train/safety_bicycle_s_001049.png\n",
      "upload: train/safety_bicycle_s_001028.png to s3://sagemaker-us-east-1-048293924935/train/safety_bicycle_s_001028.png\n",
      "upload: train/safety_bicycle_s_001063.png to s3://sagemaker-us-east-1-048293924935/train/safety_bicycle_s_001063.png\n",
      "upload: train/safety_bicycle_s_001109.png to s3://sagemaker-us-east-1-048293924935/train/safety_bicycle_s_001109.png\n",
      "upload: train/safety_bicycle_s_001026.png to s3://sagemaker-us-east-1-048293924935/train/safety_bicycle_s_001026.png\n",
      "upload: train/safety_bicycle_s_001085.png to s3://sagemaker-us-east-1-048293924935/train/safety_bicycle_s_001085.png\n",
      "upload: train/safety_bicycle_s_001202.png to s3://sagemaker-us-east-1-048293924935/train/safety_bicycle_s_001202.png\n",
      "upload: train/safety_bicycle_s_001029.png to s3://sagemaker-us-east-1-048293924935/train/safety_bicycle_s_001029.png\n",
      "upload: train/safety_bicycle_s_001240.png to s3://sagemaker-us-east-1-048293924935/train/safety_bicycle_s_001240.png\n",
      "upload: train/safety_bicycle_s_001303.png to s3://sagemaker-us-east-1-048293924935/train/safety_bicycle_s_001303.png\n",
      "upload: train/safety_bicycle_s_001320.png to s3://sagemaker-us-east-1-048293924935/train/safety_bicycle_s_001320.png\n",
      "upload: train/safety_bicycle_s_001113.png to s3://sagemaker-us-east-1-048293924935/train/safety_bicycle_s_001113.png\n",
      "upload: train/safety_bicycle_s_001381.png to s3://sagemaker-us-east-1-048293924935/train/safety_bicycle_s_001381.png\n",
      "upload: train/safety_bicycle_s_001254.png to s3://sagemaker-us-east-1-048293924935/train/safety_bicycle_s_001254.png\n",
      "upload: train/safety_bicycle_s_001253.png to s3://sagemaker-us-east-1-048293924935/train/safety_bicycle_s_001253.png\n",
      "upload: train/safety_bicycle_s_001570.png to s3://sagemaker-us-east-1-048293924935/train/safety_bicycle_s_001570.png\n",
      "upload: train/safety_bicycle_s_001651.png to s3://sagemaker-us-east-1-048293924935/train/safety_bicycle_s_001651.png\n",
      "upload: train/safety_bicycle_s_001243.png to s3://sagemaker-us-east-1-048293924935/train/safety_bicycle_s_001243.png\n",
      "upload: train/safety_bicycle_s_001659.png to s3://sagemaker-us-east-1-048293924935/train/safety_bicycle_s_001659.png\n",
      "upload: train/safety_bicycle_s_001608.png to s3://sagemaker-us-east-1-048293924935/train/safety_bicycle_s_001608.png\n",
      "upload: train/safety_bicycle_s_001639.png to s3://sagemaker-us-east-1-048293924935/train/safety_bicycle_s_001639.png\n",
      "upload: train/safety_bike_s_000015.png to s3://sagemaker-us-east-1-048293924935/train/safety_bike_s_000015.png\n",
      "upload: train/safety_bicycle_s_001327.png to s3://sagemaker-us-east-1-048293924935/train/safety_bicycle_s_001327.png\n",
      "upload: train/safety_bike_s_000054.png to s3://sagemaker-us-east-1-048293924935/train/safety_bike_s_000054.png\n",
      "upload: train/safety_bike_s_000009.png to s3://sagemaker-us-east-1-048293924935/train/safety_bike_s_000009.png\n",
      "upload: train/safety_bike_s_000058.png to s3://sagemaker-us-east-1-048293924935/train/safety_bike_s_000058.png\n",
      "upload: train/safety_bicycle_s_001706.png to s3://sagemaker-us-east-1-048293924935/train/safety_bicycle_s_001706.png\n",
      "upload: train/safety_bicycle_s_001699.png to s3://sagemaker-us-east-1-048293924935/train/safety_bicycle_s_001699.png\n",
      "upload: train/safety_bicycle_s_001705.png to s3://sagemaker-us-east-1-048293924935/train/safety_bicycle_s_001705.png\n",
      "upload: train/safety_bike_s_000079.png to s3://sagemaker-us-east-1-048293924935/train/safety_bike_s_000079.png\n",
      "upload: train/safety_bike_s_000100.png to s3://sagemaker-us-east-1-048293924935/train/safety_bike_s_000100.png\n",
      "upload: train/safety_bike_s_000155.png to s3://sagemaker-us-east-1-048293924935/train/safety_bike_s_000155.png\n",
      "upload: train/safety_bike_s_000165.png to s3://sagemaker-us-east-1-048293924935/train/safety_bike_s_000165.png\n",
      "upload: train/safety_bike_s_000198.png to s3://sagemaker-us-east-1-048293924935/train/safety_bike_s_000198.png\n",
      "upload: train/safety_bike_s_000158.png to s3://sagemaker-us-east-1-048293924935/train/safety_bike_s_000158.png\n",
      "upload: train/safety_bike_s_000104.png to s3://sagemaker-us-east-1-048293924935/train/safety_bike_s_000104.png\n",
      "upload: train/safety_bike_s_000173.png to s3://sagemaker-us-east-1-048293924935/train/safety_bike_s_000173.png\n",
      "upload: train/safety_bike_s_000178.png to s3://sagemaker-us-east-1-048293924935/train/safety_bike_s_000178.png\n",
      "upload: train/safety_bike_s_000244.png to s3://sagemaker-us-east-1-048293924935/train/safety_bike_s_000244.png\n",
      "upload: train/safety_bike_s_000160.png to s3://sagemaker-us-east-1-048293924935/train/safety_bike_s_000160.png\n",
      "upload: train/safety_bike_s_000311.png to s3://sagemaker-us-east-1-048293924935/train/safety_bike_s_000311.png\n",
      "upload: train/safety_bike_s_000245.png to s3://sagemaker-us-east-1-048293924935/train/safety_bike_s_000245.png\n",
      "upload: train/safety_bike_s_000482.png to s3://sagemaker-us-east-1-048293924935/train/safety_bike_s_000482.png\n",
      "upload: train/safety_bike_s_000328.png to s3://sagemaker-us-east-1-048293924935/train/safety_bike_s_000328.png\n",
      "upload: train/safety_bike_s_000263.png to s3://sagemaker-us-east-1-048293924935/train/safety_bike_s_000263.png\n",
      "upload: train/safety_bike_s_000277.png to s3://sagemaker-us-east-1-048293924935/train/safety_bike_s_000277.png\n",
      "upload: train/safety_bike_s_000461.png to s3://sagemaker-us-east-1-048293924935/train/safety_bike_s_000461.png\n",
      "upload: train/safety_bike_s_000848.png to s3://sagemaker-us-east-1-048293924935/train/safety_bike_s_000848.png\n",
      "upload: train/safety_bike_s_000914.png to s3://sagemaker-us-east-1-048293924935/train/safety_bike_s_000914.png\n",
      "upload: train/safety_bike_s_000830.png to s3://sagemaker-us-east-1-048293924935/train/safety_bike_s_000830.png\n",
      "upload: train/safety_bike_s_000867.png to s3://sagemaker-us-east-1-048293924935/train/safety_bike_s_000867.png\n",
      "upload: train/safety_bike_s_000381.png to s3://sagemaker-us-east-1-048293924935/train/safety_bike_s_000381.png\n",
      "upload: train/safety_bike_s_000963.png to s3://sagemaker-us-east-1-048293924935/train/safety_bike_s_000963.png\n",
      "upload: train/safety_bike_s_000921.png to s3://sagemaker-us-east-1-048293924935/train/safety_bike_s_000921.png\n",
      "upload: train/safety_bike_s_000989.png to s3://sagemaker-us-east-1-048293924935/train/safety_bike_s_000989.png\n",
      "upload: train/safety_bike_s_000567.png to s3://sagemaker-us-east-1-048293924935/train/safety_bike_s_000567.png\n",
      "upload: train/safety_bike_s_000950.png to s3://sagemaker-us-east-1-048293924935/train/safety_bike_s_000950.png\n",
      "upload: train/safety_bike_s_000934.png to s3://sagemaker-us-east-1-048293924935/train/safety_bike_s_000934.png\n",
      "upload: train/safety_bike_s_001010.png to s3://sagemaker-us-east-1-048293924935/train/safety_bike_s_001010.png\n",
      "upload: train/safety_bike_s_000984.png to s3://sagemaker-us-east-1-048293924935/train/safety_bike_s_000984.png\n",
      "upload: train/safety_bike_s_001257.png to s3://sagemaker-us-east-1-048293924935/train/safety_bike_s_001257.png\n",
      "upload: train/safety_bike_s_001012.png to s3://sagemaker-us-east-1-048293924935/train/safety_bike_s_001012.png\n",
      "upload: train/safety_bike_s_001148.png to s3://sagemaker-us-east-1-048293924935/train/safety_bike_s_001148.png\n",
      "upload: train/safety_bike_s_001338.png to s3://sagemaker-us-east-1-048293924935/train/safety_bike_s_001338.png\n",
      "upload: train/safety_bike_s_001371.png to s3://sagemaker-us-east-1-048293924935/train/safety_bike_s_001371.png\n",
      "upload: train/safety_bike_s_001289.png to s3://sagemaker-us-east-1-048293924935/train/safety_bike_s_001289.png\n",
      "upload: train/safety_bike_s_001474.png to s3://sagemaker-us-east-1-048293924935/train/safety_bike_s_001474.png\n",
      "upload: train/safety_bike_s_001552.png to s3://sagemaker-us-east-1-048293924935/train/safety_bike_s_001552.png\n",
      "upload: train/safety_bike_s_001465.png to s3://sagemaker-us-east-1-048293924935/train/safety_bike_s_001465.png\n",
      "upload: train/safety_bike_s_001608.png to s3://sagemaker-us-east-1-048293924935/train/safety_bike_s_001608.png\n",
      "upload: train/safety_bike_s_001640.png to s3://sagemaker-us-east-1-048293924935/train/safety_bike_s_001640.png\n",
      "upload: train/safety_bike_s_001472.png to s3://sagemaker-us-east-1-048293924935/train/safety_bike_s_001472.png\n",
      "upload: train/safety_bike_s_001355.png to s3://sagemaker-us-east-1-048293924935/train/safety_bike_s_001355.png\n",
      "upload: train/safety_bike_s_001590.png to s3://sagemaker-us-east-1-048293924935/train/safety_bike_s_001590.png\n",
      "upload: train/velocipede_s_000010.png to s3://sagemaker-us-east-1-048293924935/train/velocipede_s_000010.png\n",
      "upload: train/safety_bike_s_001784.png to s3://sagemaker-us-east-1-048293924935/train/safety_bike_s_001784.png\n",
      "upload: train/safety_bike_s_001715.png to s3://sagemaker-us-east-1-048293924935/train/safety_bike_s_001715.png\n",
      "upload: train/safety_bike_s_001560.png to s3://sagemaker-us-east-1-048293924935/train/safety_bike_s_001560.png\n",
      "upload: train/velocipede_s_000012.png to s3://sagemaker-us-east-1-048293924935/train/velocipede_s_000012.png\n",
      "upload: train/velocipede_s_000049.png to s3://sagemaker-us-east-1-048293924935/train/velocipede_s_000049.png\n",
      "upload: train/trail_bike_s_000016.png to s3://sagemaker-us-east-1-048293924935/train/trail_bike_s_000016.png\n",
      "upload: train/velocipede_s_000265.png to s3://sagemaker-us-east-1-048293924935/train/velocipede_s_000265.png\n",
      "upload: train/velocipede_s_000023.png to s3://sagemaker-us-east-1-048293924935/train/velocipede_s_000023.png\n",
      "upload: train/velocipede_s_000282.png to s3://sagemaker-us-east-1-048293924935/train/velocipede_s_000282.png\n",
      "upload: train/velocipede_s_000330.png to s3://sagemaker-us-east-1-048293924935/train/velocipede_s_000330.png\n",
      "upload: train/velocipede_s_000430.png to s3://sagemaker-us-east-1-048293924935/train/velocipede_s_000430.png\n",
      "upload: train/velocipede_s_000021.png to s3://sagemaker-us-east-1-048293924935/train/velocipede_s_000021.png\n",
      "upload: train/safety_bike_s_001659.png to s3://sagemaker-us-east-1-048293924935/train/safety_bike_s_001659.png\n",
      "upload: train/velocipede_s_000485.png to s3://sagemaker-us-east-1-048293924935/train/velocipede_s_000485.png\n",
      "upload: train/velocipede_s_000139.png to s3://sagemaker-us-east-1-048293924935/train/velocipede_s_000139.png\n",
      "upload: train/velocipede_s_000586.png to s3://sagemaker-us-east-1-048293924935/train/velocipede_s_000586.png\n",
      "upload: train/velocipede_s_000825.png to s3://sagemaker-us-east-1-048293924935/train/velocipede_s_000825.png\n",
      "upload: train/velocipede_s_000358.png to s3://sagemaker-us-east-1-048293924935/train/velocipede_s_000358.png\n",
      "upload: train/velocipede_s_000659.png to s3://sagemaker-us-east-1-048293924935/train/velocipede_s_000659.png\n",
      "upload: train/velocipede_s_000670.png to s3://sagemaker-us-east-1-048293924935/train/velocipede_s_000670.png\n",
      "upload: train/velocipede_s_000931.png to s3://sagemaker-us-east-1-048293924935/train/velocipede_s_000931.png\n",
      "upload: train/velocipede_s_000702.png to s3://sagemaker-us-east-1-048293924935/train/velocipede_s_000702.png\n",
      "upload: train/velocipede_s_000989.png to s3://sagemaker-us-east-1-048293924935/train/velocipede_s_000989.png\n",
      "upload: train/velocipede_s_000807.png to s3://sagemaker-us-east-1-048293924935/train/velocipede_s_000807.png\n",
      "upload: train/velocipede_s_001158.png to s3://sagemaker-us-east-1-048293924935/train/velocipede_s_001158.png\n",
      "upload: train/velocipede_s_001056.png to s3://sagemaker-us-east-1-048293924935/train/velocipede_s_001056.png\n",
      "upload: train/velocipede_s_001200.png to s3://sagemaker-us-east-1-048293924935/train/velocipede_s_001200.png\n",
      "upload: train/velocipede_s_001225.png to s3://sagemaker-us-east-1-048293924935/train/velocipede_s_001225.png\n",
      "upload: train/velocipede_s_001166.png to s3://sagemaker-us-east-1-048293924935/train/velocipede_s_001166.png\n",
      "upload: train/velocipede_s_001210.png to s3://sagemaker-us-east-1-048293924935/train/velocipede_s_001210.png\n",
      "upload: train/safety_bike_s_000643.png to s3://sagemaker-us-east-1-048293924935/train/safety_bike_s_000643.png\n",
      "upload: train/velocipede_s_001222.png to s3://sagemaker-us-east-1-048293924935/train/velocipede_s_001222.png\n",
      "upload: train/velocipede_s_001142.png to s3://sagemaker-us-east-1-048293924935/train/velocipede_s_001142.png\n",
      "upload: train/velocipede_s_001244.png to s3://sagemaker-us-east-1-048293924935/train/velocipede_s_001244.png\n",
      "upload: train/velocipede_s_001141.png to s3://sagemaker-us-east-1-048293924935/train/velocipede_s_001141.png\n",
      "upload: train/velocipede_s_001361.png to s3://sagemaker-us-east-1-048293924935/train/velocipede_s_001361.png\n",
      "upload: train/velocipede_s_001279.png to s3://sagemaker-us-east-1-048293924935/train/velocipede_s_001279.png\n",
      "upload: train/velocipede_s_001298.png to s3://sagemaker-us-east-1-048293924935/train/velocipede_s_001298.png\n",
      "upload: train/velocipede_s_001338.png to s3://sagemaker-us-east-1-048293924935/train/velocipede_s_001338.png\n",
      "upload: train/velocipede_s_000949.png to s3://sagemaker-us-east-1-048293924935/train/velocipede_s_000949.png\n",
      "upload: train/velocipede_s_001299.png to s3://sagemaker-us-east-1-048293924935/train/velocipede_s_001299.png\n",
      "upload: train/velocipede_s_001422.png to s3://sagemaker-us-east-1-048293924935/train/velocipede_s_001422.png\n",
      "upload: train/velocipede_s_001358.png to s3://sagemaker-us-east-1-048293924935/train/velocipede_s_001358.png\n",
      "upload: train/velocipede_s_001585.png to s3://sagemaker-us-east-1-048293924935/train/velocipede_s_001585.png\n",
      "upload: train/velocipede_s_001278.png to s3://sagemaker-us-east-1-048293924935/train/velocipede_s_001278.png\n",
      "upload: train/velocipede_s_001514.png to s3://sagemaker-us-east-1-048293924935/train/velocipede_s_001514.png\n",
      "upload: train/velocipede_s_001874.png to s3://sagemaker-us-east-1-048293924935/train/velocipede_s_001874.png\n",
      "upload: train/velocipede_s_001637.png to s3://sagemaker-us-east-1-048293924935/train/velocipede_s_001637.png\n",
      "upload: train/velocipede_s_001883.png to s3://sagemaker-us-east-1-048293924935/train/velocipede_s_001883.png\n",
      "upload: train/velocipede_s_001880.png to s3://sagemaker-us-east-1-048293924935/train/velocipede_s_001880.png\n",
      "upload: train/velocipede_s_001489.png to s3://sagemaker-us-east-1-048293924935/train/velocipede_s_001489.png\n",
      "upload: train/velocipede_s_001882.png to s3://sagemaker-us-east-1-048293924935/train/velocipede_s_001882.png\n",
      "upload: train/velocipede_s_001920.png to s3://sagemaker-us-east-1-048293924935/train/velocipede_s_001920.png\n",
      "upload: train/velocipede_s_001958.png to s3://sagemaker-us-east-1-048293924935/train/velocipede_s_001958.png\n",
      "upload: train/velocipede_s_001935.png to s3://sagemaker-us-east-1-048293924935/train/velocipede_s_001935.png\n",
      "upload: train/velocipede_s_001872.png to s3://sagemaker-us-east-1-048293924935/train/velocipede_s_001872.png\n",
      "upload: train/velocipede_s_001907.png to s3://sagemaker-us-east-1-048293924935/train/velocipede_s_001907.png\n",
      "upload: train/velocipede_s_001870.png to s3://sagemaker-us-east-1-048293924935/train/velocipede_s_001870.png\n",
      "upload: test/bicycle_s_000030.png to s3://sagemaker-us-east-1-048293924935/test/bicycle_s_000030.png\n",
      "upload: test/bicycle_s_000031.png to s3://sagemaker-us-east-1-048293924935/test/bicycle_s_000031.png\n",
      "upload: test/bicycle_s_000513.png to s3://sagemaker-us-east-1-048293924935/test/bicycle_s_000513.png\n",
      "upload: test/bicycle_s_000777.png to s3://sagemaker-us-east-1-048293924935/test/bicycle_s_000777.png\n",
      "upload: test/bicycle_s_000059.png to s3://sagemaker-us-east-1-048293924935/test/bicycle_s_000059.png\n",
      "upload: test/bicycle_s_001107.png to s3://sagemaker-us-east-1-048293924935/test/bicycle_s_001107.png\n",
      "upload: test/bicycle_s_000776.png to s3://sagemaker-us-east-1-048293924935/test/bicycle_s_000776.png\n",
      "upload: test/bicycle_s_000479.png to s3://sagemaker-us-east-1-048293924935/test/bicycle_s_000479.png\n",
      "upload: test/bicycle_s_000977.png to s3://sagemaker-us-east-1-048293924935/test/bicycle_s_000977.png\n",
      "upload: test/bicycle_s_001047.png to s3://sagemaker-us-east-1-048293924935/test/bicycle_s_001047.png\n",
      "upload: test/bicycle_s_001102.png to s3://sagemaker-us-east-1-048293924935/test/bicycle_s_001102.png\n",
      "upload: test/bicycle_s_001789.png to s3://sagemaker-us-east-1-048293924935/test/bicycle_s_001789.png\n",
      "upload: test/bicycle_s_001804.png to s3://sagemaker-us-east-1-048293924935/test/bicycle_s_001804.png\n",
      "upload: test/bicycle_s_001218.png to s3://sagemaker-us-east-1-048293924935/test/bicycle_s_001218.png\n",
      "upload: test/bicycle_s_000779.png to s3://sagemaker-us-east-1-048293924935/test/bicycle_s_000779.png\n",
      "upload: test/bike_s_000071.png to s3://sagemaker-us-east-1-048293924935/test/bike_s_000071.png\n",
      "upload: test/bicycle_s_002735.png to s3://sagemaker-us-east-1-048293924935/test/bicycle_s_002735.png\n",
      "upload: test/bike_s_000041.png to s3://sagemaker-us-east-1-048293924935/test/bike_s_000041.png\n",
      "upload: test/bicycle_s_002458.png to s3://sagemaker-us-east-1-048293924935/test/bicycle_s_002458.png\n",
      "upload: test/bike_s_000643.png to s3://sagemaker-us-east-1-048293924935/test/bike_s_000643.png\n",
      "upload: test/bike_s_000131.png to s3://sagemaker-us-east-1-048293924935/test/bike_s_000131.png\n",
      "upload: test/bike_s_000487.png to s3://sagemaker-us-east-1-048293924935/test/bike_s_000487.png\n",
      "upload: test/bike_s_000163.png to s3://sagemaker-us-east-1-048293924935/test/bike_s_000163.png\n",
      "upload: test/bike_s_000330.png to s3://sagemaker-us-east-1-048293924935/test/bike_s_000330.png\n",
      "upload: test/bike_s_000658.png to s3://sagemaker-us-east-1-048293924935/test/bike_s_000658.png\n",
      "upload: test/bike_s_000694.png to s3://sagemaker-us-east-1-048293924935/test/bike_s_000694.png\n",
      "upload: test/bike_s_000941.png to s3://sagemaker-us-east-1-048293924935/test/bike_s_000941.png\n",
      "upload: test/bike_s_001073.png to s3://sagemaker-us-east-1-048293924935/test/bike_s_001073.png\n",
      "upload: test/bike_s_001068.png to s3://sagemaker-us-east-1-048293924935/test/bike_s_001068.png\n",
      "upload: test/bike_s_000801.png to s3://sagemaker-us-east-1-048293924935/test/bike_s_000801.png\n",
      "upload: test/bike_s_000457.png to s3://sagemaker-us-east-1-048293924935/test/bike_s_000457.png\n",
      "upload: test/bike_s_001159.png to s3://sagemaker-us-east-1-048293924935/test/bike_s_001159.png\n",
      "upload: test/bike_s_001738.png to s3://sagemaker-us-east-1-048293924935/test/bike_s_001738.png\n",
      "upload: test/bike_s_001852.png to s3://sagemaker-us-east-1-048293924935/test/bike_s_001852.png\n",
      "upload: test/bike_s_002009.png to s3://sagemaker-us-east-1-048293924935/test/bike_s_002009.png\n",
      "upload: test/bike_s_002208.png to s3://sagemaker-us-east-1-048293924935/test/bike_s_002208.png\n",
      "upload: test/bike_s_001216.png to s3://sagemaker-us-east-1-048293924935/test/bike_s_001216.png\n",
      "upload: test/cycle_s_000010.png to s3://sagemaker-us-east-1-048293924935/test/cycle_s_000010.png\n",
      "upload: test/bike_s_002116.png to s3://sagemaker-us-east-1-048293924935/test/bike_s_002116.png\n",
      "upload: test/cycle_s_000068.png to s3://sagemaker-us-east-1-048293924935/test/cycle_s_000068.png\n",
      "upload: test/bike_s_001784.png to s3://sagemaker-us-east-1-048293924935/test/bike_s_001784.png\n",
      "upload: test/cycle_s_001214.png to s3://sagemaker-us-east-1-048293924935/test/cycle_s_001214.png\n",
      "upload: test/cycle_s_001297.png to s3://sagemaker-us-east-1-048293924935/test/cycle_s_001297.png\n",
      "upload: test/cycle_s_000970.png to s3://sagemaker-us-east-1-048293924935/test/cycle_s_000970.png\n",
      "upload: test/bike_s_001342.png to s3://sagemaker-us-east-1-048293924935/test/bike_s_001342.png\n",
      "upload: test/cycle_s_001648.png to s3://sagemaker-us-east-1-048293924935/test/cycle_s_001648.png\n",
      "upload: test/cycle_s_001915.png to s3://sagemaker-us-east-1-048293924935/test/cycle_s_001915.png\n",
      "upload: test/cycle_s_001044.png to s3://sagemaker-us-east-1-048293924935/test/cycle_s_001044.png\n",
      "upload: test/cycle_s_001306.png to s3://sagemaker-us-east-1-048293924935/test/cycle_s_001306.png\n",
      "upload: test/cycle_s_001953.png to s3://sagemaker-us-east-1-048293924935/test/cycle_s_001953.png\n",
      "upload: test/cycle_s_002613.png to s3://sagemaker-us-east-1-048293924935/test/cycle_s_002613.png\n",
      "upload: test/minibike_s_000052.png to s3://sagemaker-us-east-1-048293924935/test/minibike_s_000052.png\n",
      "upload: test/minibike_s_000254.png to s3://sagemaker-us-east-1-048293924935/test/minibike_s_000254.png\n",
      "upload: test/cycle_s_002305.png to s3://sagemaker-us-east-1-048293924935/test/cycle_s_002305.png\n",
      "upload: test/cycle_s_002661.png to s3://sagemaker-us-east-1-048293924935/test/cycle_s_002661.png\n",
      "upload: test/minibike_s_000055.png to s3://sagemaker-us-east-1-048293924935/test/minibike_s_000055.png\n",
      "upload: test/dirt_bike_s_000001.png to s3://sagemaker-us-east-1-048293924935/test/dirt_bike_s_000001.png\n",
      "upload: test/minibike_s_000290.png to s3://sagemaker-us-east-1-048293924935/test/minibike_s_000290.png\n",
      "upload: test/minibike_s_000288.png to s3://sagemaker-us-east-1-048293924935/test/minibike_s_000288.png\n",
      "upload: test/minibike_s_000075.png to s3://sagemaker-us-east-1-048293924935/test/minibike_s_000075.png\n",
      "upload: test/minibike_s_000505.png to s3://sagemaker-us-east-1-048293924935/test/minibike_s_000505.png\n",
      "upload: test/minibike_s_000497.png to s3://sagemaker-us-east-1-048293924935/test/minibike_s_000497.png\n",
      "upload: test/minibike_s_000309.png to s3://sagemaker-us-east-1-048293924935/test/minibike_s_000309.png\n",
      "upload: test/minibike_s_000573.png to s3://sagemaker-us-east-1-048293924935/test/minibike_s_000573.png\n",
      "upload: test/minibike_s_000398.png to s3://sagemaker-us-east-1-048293924935/test/minibike_s_000398.png\n",
      "upload: test/minibike_s_000880.png to s3://sagemaker-us-east-1-048293924935/test/minibike_s_000880.png\n",
      "upload: test/minibike_s_000828.png to s3://sagemaker-us-east-1-048293924935/test/minibike_s_000828.png\n",
      "upload: test/minibike_s_000960.png to s3://sagemaker-us-east-1-048293924935/test/minibike_s_000960.png\n",
      "upload: test/minibike_s_000792.png to s3://sagemaker-us-east-1-048293924935/test/minibike_s_000792.png\n",
      "upload: test/minibike_s_000913.png to s3://sagemaker-us-east-1-048293924935/test/minibike_s_000913.png\n",
      "upload: test/minibike_s_001089.png to s3://sagemaker-us-east-1-048293924935/test/minibike_s_001089.png\n",
      "upload: test/minibike_s_000801.png to s3://sagemaker-us-east-1-048293924935/test/minibike_s_000801.png\n",
      "upload: test/minibike_s_000947.png to s3://sagemaker-us-east-1-048293924935/test/minibike_s_000947.png\n",
      "upload: test/cycle_s_002964.png to s3://sagemaker-us-east-1-048293924935/test/cycle_s_002964.png\n",
      "upload: test/minibike_s_001547.png to s3://sagemaker-us-east-1-048293924935/test/minibike_s_001547.png\n",
      "upload: test/minibike_s_001651.png to s3://sagemaker-us-east-1-048293924935/test/minibike_s_001651.png\n",
      "upload: test/minibike_s_001867.png to s3://sagemaker-us-east-1-048293924935/test/minibike_s_001867.png\n",
      "upload: test/minibike_s_001732.png to s3://sagemaker-us-east-1-048293924935/test/minibike_s_001732.png\n",
      "upload: test/minibike_s_001441.png to s3://sagemaker-us-east-1-048293924935/test/minibike_s_001441.png\n",
      "upload: test/minibike_s_001473.png to s3://sagemaker-us-east-1-048293924935/test/minibike_s_001473.png\n",
      "upload: test/minibike_s_001605.png to s3://sagemaker-us-east-1-048293924935/test/minibike_s_001605.png\n",
      "upload: test/minibike_s_002173.png to s3://sagemaker-us-east-1-048293924935/test/minibike_s_002173.png\n",
      "upload: test/minibike_s_001893.png to s3://sagemaker-us-east-1-048293924935/test/minibike_s_001893.png\n",
      "upload: test/minibike_s_002230.png to s3://sagemaker-us-east-1-048293924935/test/minibike_s_002230.png\n",
      "upload: test/minibike_s_002051.png to s3://sagemaker-us-east-1-048293924935/test/minibike_s_002051.png\n",
      "upload: test/minibike_s_002227.png to s3://sagemaker-us-east-1-048293924935/test/minibike_s_002227.png\n",
      "upload: test/moped_s_000064.png to s3://sagemaker-us-east-1-048293924935/test/moped_s_000064.png\n",
      "upload: test/moped_s_000033.png to s3://sagemaker-us-east-1-048293924935/test/moped_s_000033.png\n",
      "upload: test/motorbike_s_000005.png to s3://sagemaker-us-east-1-048293924935/test/motorbike_s_000005.png\n",
      "upload: test/moped_s_000306.png to s3://sagemaker-us-east-1-048293924935/test/moped_s_000306.png\n",
      "upload: test/motorbike_s_000126.png to s3://sagemaker-us-east-1-048293924935/test/motorbike_s_000126.png\n",
      "upload: test/motorbike_s_000333.png to s3://sagemaker-us-east-1-048293924935/test/motorbike_s_000333.png\n",
      "upload: test/moped_s_000007.png to s3://sagemaker-us-east-1-048293924935/test/moped_s_000007.png\n",
      "upload: test/motorbike_s_000433.png to s3://sagemaker-us-east-1-048293924935/test/motorbike_s_000433.png\n",
      "upload: test/motorbike_s_000121.png to s3://sagemaker-us-east-1-048293924935/test/motorbike_s_000121.png\n",
      "upload: test/motorbike_s_000324.png to s3://sagemaker-us-east-1-048293924935/test/motorbike_s_000324.png\n",
      "upload: test/motorbike_s_000135.png to s3://sagemaker-us-east-1-048293924935/test/motorbike_s_000135.png\n",
      "upload: test/motorbike_s_000465.png to s3://sagemaker-us-east-1-048293924935/test/motorbike_s_000465.png\n",
      "upload: test/motorbike_s_000629.png to s3://sagemaker-us-east-1-048293924935/test/motorbike_s_000629.png\n",
      "upload: test/motorcycle_s_000042.png to s3://sagemaker-us-east-1-048293924935/test/motorcycle_s_000042.png\n",
      "upload: test/motorcycle_s_000040.png to s3://sagemaker-us-east-1-048293924935/test/motorcycle_s_000040.png\n",
      "upload: test/motorcycle_s_000211.png to s3://sagemaker-us-east-1-048293924935/test/motorcycle_s_000211.png\n",
      "upload: test/motorcycle_s_000171.png to s3://sagemaker-us-east-1-048293924935/test/motorcycle_s_000171.png\n",
      "upload: test/motorcycle_s_000049.png to s3://sagemaker-us-east-1-048293924935/test/motorcycle_s_000049.png\n",
      "upload: test/motorcycle_s_000060.png to s3://sagemaker-us-east-1-048293924935/test/motorcycle_s_000060.png\n",
      "upload: test/motorcycle_s_000141.png to s3://sagemaker-us-east-1-048293924935/test/motorcycle_s_000141.png\n",
      "upload: test/motorcycle_s_000323.png to s3://sagemaker-us-east-1-048293924935/test/motorcycle_s_000323.png\n",
      "upload: test/motorcycle_s_000222.png to s3://sagemaker-us-east-1-048293924935/test/motorcycle_s_000222.png\n",
      "upload: test/motorcycle_s_000352.png to s3://sagemaker-us-east-1-048293924935/test/motorcycle_s_000352.png\n",
      "upload: test/motorcycle_s_000139.png to s3://sagemaker-us-east-1-048293924935/test/motorcycle_s_000139.png\n",
      "upload: test/motorcycle_s_000446.png to s3://sagemaker-us-east-1-048293924935/test/motorcycle_s_000446.png\n",
      "upload: test/motorcycle_s_000063.png to s3://sagemaker-us-east-1-048293924935/test/motorcycle_s_000063.png\n",
      "upload: test/motorcycle_s_000007.png to s3://sagemaker-us-east-1-048293924935/test/motorcycle_s_000007.png\n",
      "upload: test/motorcycle_s_000494.png to s3://sagemaker-us-east-1-048293924935/test/motorcycle_s_000494.png\n",
      "upload: test/motorcycle_s_000450.png to s3://sagemaker-us-east-1-048293924935/test/motorcycle_s_000450.png\n",
      "upload: test/motorcycle_s_000530.png to s3://sagemaker-us-east-1-048293924935/test/motorcycle_s_000530.png\n",
      "upload: test/motorcycle_s_000512.png to s3://sagemaker-us-east-1-048293924935/test/motorcycle_s_000512.png\n",
      "upload: test/motorcycle_s_000615.png to s3://sagemaker-us-east-1-048293924935/test/motorcycle_s_000615.png\n",
      "upload: test/motorcycle_s_000485.png to s3://sagemaker-us-east-1-048293924935/test/motorcycle_s_000485.png\n",
      "upload: test/motorcycle_s_000606.png to s3://sagemaker-us-east-1-048293924935/test/motorcycle_s_000606.png\n",
      "upload: test/motorcycle_s_000679.png to s3://sagemaker-us-east-1-048293924935/test/motorcycle_s_000679.png\n",
      "upload: test/motorcycle_s_000602.png to s3://sagemaker-us-east-1-048293924935/test/motorcycle_s_000602.png\n",
      "upload: test/motorcycle_s_000427.png to s3://sagemaker-us-east-1-048293924935/test/motorcycle_s_000427.png\n",
      "upload: test/motorcycle_s_000739.png to s3://sagemaker-us-east-1-048293924935/test/motorcycle_s_000739.png\n",
      "upload: test/motorcycle_s_000685.png to s3://sagemaker-us-east-1-048293924935/test/motorcycle_s_000685.png\n",
      "upload: test/motorcycle_s_000797.png to s3://sagemaker-us-east-1-048293924935/test/motorcycle_s_000797.png\n",
      "upload: test/motorcycle_s_000878.png to s3://sagemaker-us-east-1-048293924935/test/motorcycle_s_000878.png\n",
      "upload: test/motorcycle_s_001164.png to s3://sagemaker-us-east-1-048293924935/test/motorcycle_s_001164.png\n",
      "upload: test/motorcycle_s_000876.png to s3://sagemaker-us-east-1-048293924935/test/motorcycle_s_000876.png\n",
      "upload: test/motorcycle_s_000963.png to s3://sagemaker-us-east-1-048293924935/test/motorcycle_s_000963.png\n",
      "upload: test/motorcycle_s_000866.png to s3://sagemaker-us-east-1-048293924935/test/motorcycle_s_000866.png\n",
      "upload: test/motorcycle_s_001385.png to s3://sagemaker-us-east-1-048293924935/test/motorcycle_s_001385.png\n",
      "upload: test/motorcycle_s_001269.png to s3://sagemaker-us-east-1-048293924935/test/motorcycle_s_001269.png\n",
      "upload: test/motorcycle_s_001261.png to s3://sagemaker-us-east-1-048293924935/test/motorcycle_s_001261.png\n",
      "upload: test/motorcycle_s_000825.png to s3://sagemaker-us-east-1-048293924935/test/motorcycle_s_000825.png\n",
      "upload: test/motorcycle_s_001508.png to s3://sagemaker-us-east-1-048293924935/test/motorcycle_s_001508.png\n",
      "upload: test/motorcycle_s_001687.png to s3://sagemaker-us-east-1-048293924935/test/motorcycle_s_001687.png\n",
      "upload: test/motorcycle_s_001519.png to s3://sagemaker-us-east-1-048293924935/test/motorcycle_s_001519.png\n",
      "upload: test/motorcycle_s_001936.png to s3://sagemaker-us-east-1-048293924935/test/motorcycle_s_001936.png\n",
      "upload: test/motorcycle_s_001892.png to s3://sagemaker-us-east-1-048293924935/test/motorcycle_s_001892.png\n",
      "upload: test/motorcycle_s_001906.png to s3://sagemaker-us-east-1-048293924935/test/motorcycle_s_001906.png\n",
      "upload: test/motorcycle_s_001348.png to s3://sagemaker-us-east-1-048293924935/test/motorcycle_s_001348.png\n",
      "upload: test/motorcycle_s_001782.png to s3://sagemaker-us-east-1-048293924935/test/motorcycle_s_001782.png\n",
      "upload: test/motorcycle_s_001679.png to s3://sagemaker-us-east-1-048293924935/test/motorcycle_s_001679.png\n",
      "upload: test/motorcycle_s_001249.png to s3://sagemaker-us-east-1-048293924935/test/motorcycle_s_001249.png\n",
      "upload: test/motorcycle_s_001955.png to s3://sagemaker-us-east-1-048293924935/test/motorcycle_s_001955.png\n",
      "upload: test/motorcycle_s_002126.png to s3://sagemaker-us-east-1-048293924935/test/motorcycle_s_002126.png\n",
      "upload: test/ordinary_bicycle_s_000158.png to s3://sagemaker-us-east-1-048293924935/test/ordinary_bicycle_s_000158.png\n",
      "upload: test/motorcycle_s_002177.png to s3://sagemaker-us-east-1-048293924935/test/motorcycle_s_002177.png\n",
      "upload: test/motorcycle_s_001960.png to s3://sagemaker-us-east-1-048293924935/test/motorcycle_s_001960.png\n",
      "upload: test/motorcycle_s_002112.png to s3://sagemaker-us-east-1-048293924935/test/motorcycle_s_002112.png\n",
      "upload: test/ordinary_bicycle_s_000105.png to s3://sagemaker-us-east-1-048293924935/test/ordinary_bicycle_s_000105.png\n",
      "upload: test/motorcycle_s_002026.png to s3://sagemaker-us-east-1-048293924935/test/motorcycle_s_002026.png\n",
      "upload: test/ordinary_bicycle_s_000169.png to s3://sagemaker-us-east-1-048293924935/test/ordinary_bicycle_s_000169.png\n",
      "upload: test/motorcycle_s_001971.png to s3://sagemaker-us-east-1-048293924935/test/motorcycle_s_001971.png\n",
      "upload: test/ordinary_bicycle_s_000113.png to s3://sagemaker-us-east-1-048293924935/test/ordinary_bicycle_s_000113.png\n",
      "upload: test/ordinary_bicycle_s_000431.png to s3://sagemaker-us-east-1-048293924935/test/ordinary_bicycle_s_000431.png\n",
      "upload: test/ordinary_bicycle_s_000437.png to s3://sagemaker-us-east-1-048293924935/test/ordinary_bicycle_s_000437.png\n",
      "upload: test/safety_bicycle_s_000235.png to s3://sagemaker-us-east-1-048293924935/test/safety_bicycle_s_000235.png\n",
      "upload: test/ordinary_bicycle_s_000284.png to s3://sagemaker-us-east-1-048293924935/test/ordinary_bicycle_s_000284.png\n",
      "upload: test/safety_bicycle_s_001153.png to s3://sagemaker-us-east-1-048293924935/test/safety_bicycle_s_001153.png\n",
      "upload: test/safety_bicycle_s_000280.png to s3://sagemaker-us-east-1-048293924935/test/safety_bicycle_s_000280.png\n",
      "upload: test/safety_bicycle_s_000315.png to s3://sagemaker-us-east-1-048293924935/test/safety_bicycle_s_000315.png\n",
      "upload: test/safety_bicycle_s_001322.png to s3://sagemaker-us-east-1-048293924935/test/safety_bicycle_s_001322.png\n",
      "upload: test/safety_bicycle_s_001575.png to s3://sagemaker-us-east-1-048293924935/test/safety_bicycle_s_001575.png\n",
      "upload: test/safety_bicycle_s_001286.png to s3://sagemaker-us-east-1-048293924935/test/safety_bicycle_s_001286.png\n",
      "upload: test/safety_bike_s_000192.png to s3://sagemaker-us-east-1-048293924935/test/safety_bike_s_000192.png\n",
      "upload: test/safety_bike_s_000438.png to s3://sagemaker-us-east-1-048293924935/test/safety_bike_s_000438.png\n",
      "upload: test/safety_bike_s_000541.png to s3://sagemaker-us-east-1-048293924935/test/safety_bike_s_000541.png\n",
      "upload: test/safety_bike_s_000699.png to s3://sagemaker-us-east-1-048293924935/test/safety_bike_s_000699.png\n",
      "upload: test/safety_bike_s_000390.png to s3://sagemaker-us-east-1-048293924935/test/safety_bike_s_000390.png\n",
      "upload: test/safety_bike_s_000540.png to s3://sagemaker-us-east-1-048293924935/test/safety_bike_s_000540.png\n",
      "upload: test/safety_bike_s_000791.png to s3://sagemaker-us-east-1-048293924935/test/safety_bike_s_000791.png\n",
      "upload: test/safety_bike_s_000488.png to s3://sagemaker-us-east-1-048293924935/test/safety_bike_s_000488.png\n",
      "upload: test/ordinary_bicycle_s_000350.png to s3://sagemaker-us-east-1-048293924935/test/ordinary_bicycle_s_000350.png\n",
      "upload: test/safety_bike_s_001132.png to s3://sagemaker-us-east-1-048293924935/test/safety_bike_s_001132.png\n",
      "upload: test/safety_bike_s_001088.png to s3://sagemaker-us-east-1-048293924935/test/safety_bike_s_001088.png\n",
      "upload: test/velocipede_s_000001.png to s3://sagemaker-us-east-1-048293924935/test/velocipede_s_000001.png\n",
      "upload: test/safety_bike_s_001690.png to s3://sagemaker-us-east-1-048293924935/test/safety_bike_s_001690.png\n",
      "upload: test/velocipede_s_000041.png to s3://sagemaker-us-east-1-048293924935/test/velocipede_s_000041.png\n",
      "upload: test/safety_bike_s_001481.png to s3://sagemaker-us-east-1-048293924935/test/safety_bike_s_001481.png\n",
      "upload: test/trail_bike_s_000073.png to s3://sagemaker-us-east-1-048293924935/test/trail_bike_s_000073.png\n",
      "upload: test/velocipede_s_000292.png to s3://sagemaker-us-east-1-048293924935/test/velocipede_s_000292.png\n",
      "upload: test/velocipede_s_000863.png to s3://sagemaker-us-east-1-048293924935/test/velocipede_s_000863.png\n",
      "upload: test/safety_bike_s_001253.png to s3://sagemaker-us-east-1-048293924935/test/safety_bike_s_001253.png\n",
      "upload: test/safety_bike_s_001087.png to s3://sagemaker-us-east-1-048293924935/test/safety_bike_s_001087.png\n",
      "upload: test/velocipede_s_000106.png to s3://sagemaker-us-east-1-048293924935/test/velocipede_s_000106.png\n",
      "upload: test/velocipede_s_001201.png to s3://sagemaker-us-east-1-048293924935/test/velocipede_s_001201.png\n",
      "upload: test/velocipede_s_000369.png to s3://sagemaker-us-east-1-048293924935/test/velocipede_s_000369.png\n",
      "upload: test/velocipede_s_001277.png to s3://sagemaker-us-east-1-048293924935/test/velocipede_s_001277.png\n",
      "upload: test/velocipede_s_001355.png to s3://sagemaker-us-east-1-048293924935/test/velocipede_s_001355.png\n",
      "upload: test/safety_bike_s_001065.png to s3://sagemaker-us-east-1-048293924935/test/safety_bike_s_001065.png\n",
      "upload: test/velocipede_s_001232.png to s3://sagemaker-us-east-1-048293924935/test/velocipede_s_001232.png\n",
      "upload: test/velocipede_s_001379.png to s3://sagemaker-us-east-1-048293924935/test/velocipede_s_001379.png\n",
      "upload: test/velocipede_s_001335.png to s3://sagemaker-us-east-1-048293924935/test/velocipede_s_001335.png\n",
      "upload: test/velocipede_s_001633.png to s3://sagemaker-us-east-1-048293924935/test/velocipede_s_001633.png\n",
      "upload: test/velocipede_s_001790.png to s3://sagemaker-us-east-1-048293924935/test/velocipede_s_001790.png\n",
      "upload: test/velocipede_s_001744.png to s3://sagemaker-us-east-1-048293924935/test/velocipede_s_001744.png\n",
      "upload: test/velocipede_s_001699.png to s3://sagemaker-us-east-1-048293924935/test/velocipede_s_001699.png\n",
      "upload: test/velocipede_s_001466.png to s3://sagemaker-us-east-1-048293924935/test/velocipede_s_001466.png\n"
     ]
    }
   ],
   "source": [
    "import os\n",
    "\n",
    "os.environ[\"DEFAULT_S3_BUCKET\"] = bucket\n",
    "!aws s3 sync ./train s3://${DEFAULT_S3_BUCKET}/train/\n",
    "!aws s3 sync ./test s3://${DEFAULT_S3_BUCKET}/test/"
   ]
  },
  {
   "cell_type": "markdown",
   "metadata": {},
   "source": [
    "And that's it! You can check the bucket and verify that the items were uploaded.\n",
    "\n",
    "## Model Training\n",
    "\n",
    "For Image Classification, Sagemaker [also expects metadata](https://docs.aws.amazon.com/sagemaker/latest/dg/image-classification.html) e.g. in the form of TSV files with labels and filepaths. We can generate these using our Pandas DataFrames from earlier:"
   ]
  },
  {
   "cell_type": "code",
   "execution_count": 24,
   "metadata": {
    "tags": []
   },
   "outputs": [],
   "source": [
    "def to_metadata_file(df, prefix):\n",
    "    df[\"s3_path\"] = df[\"filenames\"]\n",
    "    df[\"labels\"] = df[\"labels\"].apply(lambda x: 0 if x==8 else 1)\n",
    "    return df[[\"row\", \"labels\", \"s3_path\"]].to_csv(\n",
    "        f\"{prefix}.lst\", sep=\"\\t\", index=False, header=False\n",
    "    )\n",
    "    \n",
    "to_metadata_file(df_train.copy(), \"train\")\n",
    "to_metadata_file(df_test.copy(), \"test\")"
   ]
  },
  {
   "cell_type": "markdown",
   "metadata": {},
   "source": [
    "We can also upload our manifest files:"
   ]
  },
  {
   "cell_type": "code",
   "execution_count": 25,
   "metadata": {
    "tags": []
   },
   "outputs": [],
   "source": [
    "import boto3\n",
    "\n",
    "# Upload files\n",
    "boto3.Session().resource('s3').Bucket(\n",
    "    bucket).Object('train.lst').upload_file('./train.lst')\n",
    "boto3.Session().resource('s3').Bucket(\n",
    "    bucket).Object('test.lst').upload_file('./test.lst')"
   ]
  },
  {
   "cell_type": "markdown",
   "metadata": {},
   "source": [
    "Using the `bucket` and `region` info we can get the latest prebuilt container to run our training job, and define an output location on our s3 bucket for the model. Use the `image_uris` function from the SageMaker SDK to retrieve the latest `image-classification` image below:"
   ]
  },
  {
   "cell_type": "code",
   "execution_count": 26,
   "metadata": {
    "tags": []
   },
   "outputs": [],
   "source": [
    "# Use the image_uris function to retrieve the latest 'image-classification' image \n",
    "from sagemaker import image_uris\n",
    "algo_image =  image_uris.retrieve(framework='image-classification',region=region) ## TODO: fill in\n",
    "s3_output_location = f\"s3://{bucket}/models/image_model\""
   ]
  },
  {
   "cell_type": "markdown",
   "metadata": {},
   "source": [
    "We're ready to create an estimator! Create an estimator `img_classifier_model` that uses one instance of `ml.p3.2xlarge`. Ensure that y ou use the output location we defined above - we'll be referring to that later!"
   ]
  },
  {
   "cell_type": "code",
   "execution_count": 27,
   "metadata": {
    "tags": []
   },
   "outputs": [],
   "source": [
    "img_classifier_model=sagemaker.estimator.Estimator(\n",
    "    ## TODO: define your estimator options\n",
    "    algo_image,\n",
    "    role,\n",
    "    instance_count=1,                  # How many compute instances\n",
    "    instance_type='ml.p3.2xlarge',      # What kind of compute instances\n",
    "    output_path='s3://{}/{}/output'.format(session.default_bucket(), 'project'),\n",
    "    sagemaker_session=session)"
   ]
  },
  {
   "cell_type": "markdown",
   "metadata": {},
   "source": [
    "We can also set a few key hyperparameters and define the inputs for our model:"
   ]
  },
  {
   "cell_type": "code",
   "execution_count": 28,
   "metadata": {
    "tags": []
   },
   "outputs": [],
   "source": [
    "img_classifier_model.set_hyperparameters(\n",
    "    image_shape='3,32,32', # TODO: Fill in\n",
    "    num_classes=2 , # TODO: Fill in\n",
    "    num_training_samples=len(df_train) # TODO: fill in\n",
    ")"
   ]
  },
  {
   "cell_type": "markdown",
   "metadata": {},
   "source": [
    "The `image-classification` image uses four input channels with very specific input parameters. For convenience, we've provided them below:"
   ]
  },
  {
   "cell_type": "code",
   "execution_count": 29,
   "metadata": {
    "tags": []
   },
   "outputs": [],
   "source": [
    "from sagemaker.debugger import Rule, rule_configs\n",
    "from sagemaker.session import TrainingInput\n",
    "model_inputs = {\n",
    "        \"train\": sagemaker.inputs.TrainingInput(\n",
    "            s3_data=f\"s3://{bucket}/train/\",\n",
    "            content_type=\"application/x-image\"\n",
    "        ),\n",
    "        \"validation\": sagemaker.inputs.TrainingInput(\n",
    "            s3_data=f\"s3://{bucket}/test/\",\n",
    "            content_type=\"application/x-image\"\n",
    "        ),\n",
    "        \"train_lst\": sagemaker.inputs.TrainingInput(\n",
    "            s3_data=f\"s3://{bucket}/train.lst\",\n",
    "            content_type=\"application/x-image\"\n",
    "        ),\n",
    "        \"validation_lst\": sagemaker.inputs.TrainingInput(\n",
    "            s3_data=f\"s3://{bucket}/test.lst\",\n",
    "            content_type=\"application/x-image\"\n",
    "        )\n",
    "}"
   ]
  },
  {
   "cell_type": "markdown",
   "metadata": {},
   "source": [
    "Great, now we can train the model using the model_inputs. In the cell below, call the `fit` method on our model,:"
   ]
  },
  {
   "cell_type": "code",
   "execution_count": 30,
   "metadata": {
    "tags": []
   },
   "outputs": [
    {
     "name": "stderr",
     "output_type": "stream",
     "text": [
      "INFO:sagemaker:Creating training-job with name: image-classification-2024-06-04-19-07-29-005\n"
     ]
    },
    {
     "name": "stdout",
     "output_type": "stream",
     "text": [
      "2024-06-04 19:07:29 Starting - Starting the training job...\n",
      "2024-06-04 19:07:29 Pending - Training job waiting for capacity......\n",
      "2024-06-04 19:08:46 Pending - Preparing the instances for training...\n",
      "2024-06-04 19:09:20 Downloading - Downloading input data...\n",
      "2024-06-04 19:09:40 Downloading - Downloading the training image........................\n",
      "2024-06-04 19:13:46 Training - Training image download completed. Training in progress...\u001b[34mDocker entrypoint called with argument(s): train\u001b[0m\n",
      "\u001b[34mRunning default environment configuration script\u001b[0m\n",
      "\u001b[34mNvidia gpu devices, drivers and cuda toolkit versions (only available on hosts with GPU):\u001b[0m\n",
      "\u001b[34mTue Jun  4 19:14:10 2024       \u001b[0m\n",
      "\u001b[34m+---------------------------------------------------------------------------------------+\u001b[0m\n",
      "\u001b[34m| NVIDIA-SMI 535.161.08             Driver Version: 535.161.08   CUDA Version: 12.2     |\u001b[0m\n",
      "\u001b[34m|-----------------------------------------+----------------------+----------------------+\u001b[0m\n",
      "\u001b[34m| GPU  Name                 Persistence-M | Bus-Id        Disp.A | Volatile Uncorr. ECC |\u001b[0m\n",
      "\u001b[34m| Fan  Temp   Perf          Pwr:Usage/Cap |         Memory-Usage | GPU-Util  Compute M. |\u001b[0m\n",
      "\u001b[34m|                                         |                      |               MIG M. |\u001b[0m\n",
      "\u001b[34m|=========================================+======================+======================|\u001b[0m\n",
      "\u001b[34m|   0  Tesla V100-SXM2-16GB           On  | 00000000:00:1E.0 Off |                    0 |\u001b[0m\n",
      "\u001b[34m| N/A   42C    P0              26W / 300W |      0MiB / 16384MiB |      0%      Default |\u001b[0m\n",
      "\u001b[34m|                                         |                      |                  N/A |\u001b[0m\n",
      "\u001b[34m+-----------------------------------------+----------------------+----------------------+\n",
      "                                                                                         \u001b[0m\n",
      "\u001b[34m+---------------------------------------------------------------------------------------+\u001b[0m\n",
      "\u001b[34m| Processes:                                                                            |\u001b[0m\n",
      "\u001b[34m|  GPU   GI   CI        PID   Type   Process name                            GPU Memory |\u001b[0m\n",
      "\u001b[34m|        ID   ID                                                             Usage      |\u001b[0m\n",
      "\u001b[34m|=======================================================================================|\u001b[0m\n",
      "\u001b[34m|  No running processes found                                                           |\u001b[0m\n",
      "\u001b[34m+---------------------------------------------------------------------------------------+\u001b[0m\n",
      "\u001b[34mChecking for nvidia driver and cuda compatibility.\u001b[0m\n",
      "\u001b[34mCUDA Compatibility driver provided.\u001b[0m\n",
      "\u001b[34mProceeding with compatibility check between driver, cuda-toolkit and cuda-compat.\u001b[0m\n",
      "\u001b[34mDetected cuda-toolkit version: 11.1.\u001b[0m\n",
      "\u001b[34mDetected cuda-compat version: 455.32.00.\u001b[0m\n",
      "\u001b[34mDetected Nvidia driver version: 535.161.08.\u001b[0m\n",
      "\u001b[34mNvidia driver compatible with cuda-toolkit. Disabling cuda-compat.\u001b[0m\n",
      "\u001b[34m/opt/amazon/lib/python3.8/site-packages/mxnet/model.py:97: SyntaxWarning: \"is\" with a literal. Did you mean \"==\"?\n",
      "  if num_device is 1 and 'dist' not in kvstore:\u001b[0m\n",
      "\u001b[34m[06/04/2024 19:14:13 INFO 140467942721344] Reading default configuration from /opt/amazon/lib/python3.8/site-packages/image_classification/default-input.json: {'use_pretrained_model': 0, 'num_layers': 152, 'epochs': 30, 'learning_rate': 0.1, 'lr_scheduler_factor': 0.1, 'optimizer': 'sgd', 'momentum': 0, 'weight_decay': 0.0001, 'beta_1': 0.9, 'beta_2': 0.999, 'eps': 1e-08, 'gamma': 0.9, 'mini_batch_size': 32, 'image_shape': '3,224,224', 'precision_dtype': 'float32'}\u001b[0m\n",
      "\u001b[34m[06/04/2024 19:14:13 INFO 140467942721344] Merging with provided configuration from /opt/ml/input/config/hyperparameters.json: {'image_shape': '3,32,32', 'num_classes': '2', 'num_training_samples': '1000'}\u001b[0m\n",
      "\u001b[34m[06/04/2024 19:14:13 INFO 140467942721344] Final configuration: {'use_pretrained_model': 0, 'num_layers': 152, 'epochs': 30, 'learning_rate': 0.1, 'lr_scheduler_factor': 0.1, 'optimizer': 'sgd', 'momentum': 0, 'weight_decay': 0.0001, 'beta_1': 0.9, 'beta_2': 0.999, 'eps': 1e-08, 'gamma': 0.9, 'mini_batch_size': 32, 'image_shape': '3,32,32', 'precision_dtype': 'float32', 'num_classes': '2', 'num_training_samples': '1000'}\u001b[0m\n",
      "\u001b[34m[06/04/2024 19:14:13 INFO 140467942721344] Searching for .lst files in /opt/ml/input/data/train_lst.\u001b[0m\n",
      "\u001b[34m[06/04/2024 19:14:13 INFO 140467942721344] Creating record files for train.lst\u001b[0m\n",
      "\u001b[34m[06/04/2024 19:14:13 INFO 140467942721344] Done creating record files...\u001b[0m\n",
      "\u001b[34m[06/04/2024 19:14:13 INFO 140467942721344] Searching for .lst files in /opt/ml/input/data/validation_lst.\u001b[0m\n",
      "\u001b[34m[06/04/2024 19:14:13 INFO 140467942721344] Creating record files for test.lst\u001b[0m\n",
      "\u001b[34m[06/04/2024 19:14:13 INFO 140467942721344] Done creating record files...\u001b[0m\n",
      "\u001b[34m[06/04/2024 19:14:13 INFO 140467942721344] use_pretrained_model: 0\u001b[0m\n",
      "\u001b[34m[06/04/2024 19:14:13 INFO 140467942721344] multi_label: 0\u001b[0m\n",
      "\u001b[34m[06/04/2024 19:14:13 INFO 140467942721344] Performing random weight initialization\u001b[0m\n",
      "\u001b[34m[06/04/2024 19:14:13 INFO 140467942721344] ---- Parameters ----\u001b[0m\n",
      "\u001b[34m[06/04/2024 19:14:13 INFO 140467942721344] num_layers: 152\u001b[0m\n",
      "\u001b[34m[06/04/2024 19:14:13 INFO 140467942721344] data type: <class 'numpy.float32'>\u001b[0m\n",
      "\u001b[34m[06/04/2024 19:14:13 INFO 140467942721344] epochs: 30\u001b[0m\n",
      "\u001b[34m[06/04/2024 19:14:13 INFO 140467942721344] optimizer: sgd\u001b[0m\n",
      "\u001b[34m[06/04/2024 19:14:13 INFO 140467942721344] momentum: 0.9\u001b[0m\n",
      "\u001b[34m[06/04/2024 19:14:13 INFO 140467942721344] weight_decay: 0.0001\u001b[0m\n",
      "\u001b[34m[06/04/2024 19:14:13 INFO 140467942721344] learning_rate: 0.1\u001b[0m\n",
      "\u001b[34m[06/04/2024 19:14:13 INFO 140467942721344] num_training_samples: 1000\u001b[0m\n",
      "\u001b[34m[06/04/2024 19:14:13 INFO 140467942721344] mini_batch_size: 32\u001b[0m\n",
      "\u001b[34m[06/04/2024 19:14:13 INFO 140467942721344] image_shape: 3,32,32\u001b[0m\n",
      "\u001b[34m[06/04/2024 19:14:13 INFO 140467942721344] num_classes: 2\u001b[0m\n",
      "\u001b[34m[06/04/2024 19:14:13 INFO 140467942721344] augmentation_type: None\u001b[0m\n",
      "\u001b[34m[06/04/2024 19:14:13 INFO 140467942721344] kv_store: device\u001b[0m\n",
      "\u001b[34m[06/04/2024 19:14:13 INFO 140467942721344] checkpoint_frequency not set, will store the best model\u001b[0m\n",
      "\u001b[34m[06/04/2024 19:14:13 INFO 140467942721344] --------------------\u001b[0m\n",
      "\u001b[34m/opt/amazon/python3.8/lib/python3.8/subprocess.py:848: RuntimeWarning: line buffering (buffering=1) isn't supported in binary mode, the default buffer size will be used\n",
      "  self.stdout = io.open(c2pread, 'rb', bufsize)\u001b[0m\n",
      "\u001b[34m[06/04/2024 19:14:14 INFO 140467942721344] Setting number of threads: 7\u001b[0m\n",
      "\u001b[34m[19:14:18] /opt/brazil-pkg-cache/packages/AIAlgorithmsMXNet/AIAlgorithmsMXNet-1.4.x_ecl_Cuda_11.1.x.379.0/AL2_x86_64/generic-flavor/src/src/operator/nn/./cudnn/./cudnn_algoreg-inl.h:97: Running performance tests to find the best convolution algorithm, this can take a while... (setting env variable MXNET_CUDNN_AUTOTUNE_DEFAULT to 0 to disable)\u001b[0m\n",
      "\u001b[34m[06/04/2024 19:14:23 INFO 140467942721344] Epoch[0] Batch [20]#011Speed: 122.561 samples/sec#011accuracy=0.558036\u001b[0m\n",
      "\u001b[34m[06/04/2024 19:14:25 INFO 140467942721344] Epoch[0] Train-accuracy=0.580645\u001b[0m\n",
      "\u001b[34m[06/04/2024 19:14:25 INFO 140467942721344] Epoch[0] Time cost=6.894\u001b[0m\n",
      "\u001b[34m[06/04/2024 19:14:25 INFO 140467942721344] Epoch[0] Validation-accuracy=0.494792\u001b[0m\n",
      "\u001b[34m[06/04/2024 19:14:25 INFO 140467942721344] Storing the best model with validation accuracy: 0.494792\u001b[0m\n",
      "\u001b[34m[06/04/2024 19:14:26 INFO 140467942721344] Saved checkpoint to \"/opt/ml/model/image-classification-0001.params\"\u001b[0m\n",
      "\u001b[34m[06/04/2024 19:14:29 INFO 140467942721344] Epoch[1] Batch [20]#011Speed: 183.370 samples/sec#011accuracy=0.645833\u001b[0m\n",
      "\u001b[34m[06/04/2024 19:14:31 INFO 140467942721344] Epoch[1] Train-accuracy=0.620968\u001b[0m\n",
      "\u001b[34m[06/04/2024 19:14:31 INFO 140467942721344] Epoch[1] Time cost=5.177\u001b[0m\n",
      "\u001b[34m[06/04/2024 19:14:31 INFO 140467942721344] Epoch[1] Validation-accuracy=0.630208\u001b[0m\n",
      "\u001b[34m[06/04/2024 19:14:32 INFO 140467942721344] Storing the best model with validation accuracy: 0.630208\u001b[0m\n",
      "\u001b[34m[06/04/2024 19:14:32 INFO 140467942721344] Saved checkpoint to \"/opt/ml/model/image-classification-0002.params\"\u001b[0m\n",
      "\u001b[34m[06/04/2024 19:14:35 INFO 140467942721344] Epoch[2] Batch [20]#011Speed: 189.091 samples/sec#011accuracy=0.639881\u001b[0m\n",
      "\u001b[34m[06/04/2024 19:14:37 INFO 140467942721344] Epoch[2] Train-accuracy=0.664315\u001b[0m\n",
      "\u001b[34m[06/04/2024 19:14:37 INFO 140467942721344] Epoch[2] Time cost=5.049\u001b[0m\n",
      "\u001b[34m[06/04/2024 19:14:38 INFO 140467942721344] Epoch[2] Validation-accuracy=0.671875\u001b[0m\n",
      "\u001b[34m[06/04/2024 19:14:38 INFO 140467942721344] Storing the best model with validation accuracy: 0.671875\u001b[0m\n",
      "\u001b[34m[06/04/2024 19:14:38 INFO 140467942721344] Saved checkpoint to \"/opt/ml/model/image-classification-0003.params\"\u001b[0m\n",
      "\u001b[34m[06/04/2024 19:14:42 INFO 140467942721344] Epoch[3] Batch [20]#011Speed: 188.987 samples/sec#011accuracy=0.730655\u001b[0m\n",
      "\u001b[34m[06/04/2024 19:14:43 INFO 140467942721344] Epoch[3] Train-accuracy=0.757056\u001b[0m\n",
      "\u001b[34m[06/04/2024 19:14:43 INFO 140467942721344] Epoch[3] Time cost=5.059\u001b[0m\n",
      "\u001b[34m[06/04/2024 19:14:44 INFO 140467942721344] Epoch[3] Validation-accuracy=0.772321\u001b[0m\n",
      "\u001b[34m[06/04/2024 19:14:44 INFO 140467942721344] Storing the best model with validation accuracy: 0.772321\u001b[0m\n",
      "\u001b[34m[06/04/2024 19:14:45 INFO 140467942721344] Saved checkpoint to \"/opt/ml/model/image-classification-0004.params\"\u001b[0m\n",
      "\u001b[34m[06/04/2024 19:14:48 INFO 140467942721344] Epoch[4] Batch [20]#011Speed: 187.608 samples/sec#011accuracy=0.638393\u001b[0m\n",
      "\u001b[34m[06/04/2024 19:14:50 INFO 140467942721344] Epoch[4] Train-accuracy=0.622984\u001b[0m\n",
      "\u001b[34m[06/04/2024 19:14:50 INFO 140467942721344] Epoch[4] Time cost=5.070\u001b[0m\n",
      "\u001b[34m[06/04/2024 19:14:50 INFO 140467942721344] Epoch[4] Validation-accuracy=0.578125\u001b[0m\n",
      "\u001b[34m[06/04/2024 19:14:54 INFO 140467942721344] Epoch[5] Batch [20]#011Speed: 188.516 samples/sec#011accuracy=0.752976\u001b[0m\n",
      "\u001b[34m[06/04/2024 19:14:56 INFO 140467942721344] Epoch[5] Train-accuracy=0.737903\u001b[0m\n",
      "\u001b[34m[06/04/2024 19:14:56 INFO 140467942721344] Epoch[5] Time cost=5.052\u001b[0m\n",
      "\u001b[34m[06/04/2024 19:14:56 INFO 140467942721344] Epoch[5] Validation-accuracy=0.677083\u001b[0m\n",
      "\u001b[34m[06/04/2024 19:15:00 INFO 140467942721344] Epoch[6] Batch [20]#011Speed: 188.241 samples/sec#011accuracy=0.778274\u001b[0m\n",
      "\u001b[34m[06/04/2024 19:15:02 INFO 140467942721344] Epoch[6] Train-accuracy=0.789315\u001b[0m\n",
      "\u001b[34m[06/04/2024 19:15:02 INFO 140467942721344] Epoch[6] Time cost=5.107\u001b[0m\n",
      "\u001b[34m[06/04/2024 19:15:02 INFO 140467942721344] Epoch[6] Validation-accuracy=0.734375\u001b[0m\n",
      "\u001b[34m[06/04/2024 19:15:06 INFO 140467942721344] Epoch[7] Batch [20]#011Speed: 187.479 samples/sec#011accuracy=0.770833\u001b[0m\n",
      "\u001b[34m[06/04/2024 19:15:08 INFO 140467942721344] Epoch[7] Train-accuracy=0.772177\u001b[0m\n",
      "\u001b[34m[06/04/2024 19:15:08 INFO 140467942721344] Epoch[7] Time cost=5.078\u001b[0m\n",
      "\u001b[34m[06/04/2024 19:15:08 INFO 140467942721344] Epoch[7] Validation-accuracy=0.785714\u001b[0m\n",
      "\u001b[34m[06/04/2024 19:15:08 INFO 140467942721344] Storing the best model with validation accuracy: 0.785714\u001b[0m\n",
      "\u001b[34m[06/04/2024 19:15:09 INFO 140467942721344] Saved checkpoint to \"/opt/ml/model/image-classification-0008.params\"\u001b[0m\n",
      "\u001b[34m[06/04/2024 19:15:12 INFO 140467942721344] Epoch[8] Batch [20]#011Speed: 186.639 samples/sec#011accuracy=0.793155\u001b[0m\n",
      "\u001b[34m[06/04/2024 19:15:14 INFO 140467942721344] Epoch[8] Train-accuracy=0.800403\u001b[0m\n",
      "\u001b[34m[06/04/2024 19:15:14 INFO 140467942721344] Epoch[8] Time cost=5.097\u001b[0m\n",
      "\u001b[34m[06/04/2024 19:15:14 INFO 140467942721344] Epoch[8] Validation-accuracy=0.822917\u001b[0m\n",
      "\u001b[34m[06/04/2024 19:15:15 INFO 140467942721344] Storing the best model with validation accuracy: 0.822917\u001b[0m\n",
      "\u001b[34m[06/04/2024 19:15:15 INFO 140467942721344] Saved checkpoint to \"/opt/ml/model/image-classification-0009.params\"\u001b[0m\n",
      "\u001b[34m[06/04/2024 19:15:19 INFO 140467942721344] Epoch[9] Batch [20]#011Speed: 187.875 samples/sec#011accuracy=0.811012\u001b[0m\n",
      "\u001b[34m[06/04/2024 19:15:20 INFO 140467942721344] Epoch[9] Train-accuracy=0.817540\u001b[0m\n",
      "\u001b[34m[06/04/2024 19:15:20 INFO 140467942721344] Epoch[9] Time cost=5.058\u001b[0m\n",
      "\u001b[34m[06/04/2024 19:15:21 INFO 140467942721344] Epoch[9] Validation-accuracy=0.822917\u001b[0m\n",
      "\u001b[34m[06/04/2024 19:15:25 INFO 140467942721344] Epoch[10] Batch [20]#011Speed: 188.147 samples/sec#011accuracy=0.821429\u001b[0m\n",
      "\u001b[34m[06/04/2024 19:15:26 INFO 140467942721344] Epoch[10] Train-accuracy=0.821573\u001b[0m\n",
      "\u001b[34m[06/04/2024 19:15:26 INFO 140467942721344] Epoch[10] Time cost=5.053\u001b[0m\n",
      "\u001b[34m[06/04/2024 19:15:27 INFO 140467942721344] Epoch[10] Validation-accuracy=0.822917\u001b[0m\n",
      "\u001b[34m[06/04/2024 19:15:31 INFO 140467942721344] Epoch[11] Batch [20]#011Speed: 188.003 samples/sec#011accuracy=0.825893\u001b[0m\n",
      "\u001b[34m[06/04/2024 19:15:32 INFO 140467942721344] Epoch[11] Train-accuracy=0.834677\u001b[0m\n",
      "\u001b[34m[06/04/2024 19:15:32 INFO 140467942721344] Epoch[11] Time cost=5.049\u001b[0m\n",
      "\u001b[34m[06/04/2024 19:15:33 INFO 140467942721344] Epoch[11] Validation-accuracy=0.799107\u001b[0m\n",
      "\u001b[34m[06/04/2024 19:15:37 INFO 140467942721344] Epoch[12] Batch [20]#011Speed: 187.417 samples/sec#011accuracy=0.858631\u001b[0m\n",
      "\u001b[34m[06/04/2024 19:15:38 INFO 140467942721344] Epoch[12] Train-accuracy=0.866935\u001b[0m\n",
      "\u001b[34m[06/04/2024 19:15:38 INFO 140467942721344] Epoch[12] Time cost=5.078\u001b[0m\n",
      "\u001b[34m[06/04/2024 19:15:39 INFO 140467942721344] Epoch[12] Validation-accuracy=0.875000\u001b[0m\n",
      "\u001b[34m[06/04/2024 19:15:39 INFO 140467942721344] Storing the best model with validation accuracy: 0.875000\u001b[0m\n",
      "\u001b[34m[06/04/2024 19:15:39 INFO 140467942721344] Saved checkpoint to \"/opt/ml/model/image-classification-0013.params\"\u001b[0m\n",
      "\u001b[34m[06/04/2024 19:15:43 INFO 140467942721344] Epoch[13] Batch [20]#011Speed: 189.289 samples/sec#011accuracy=0.854167\u001b[0m\n",
      "\u001b[34m[06/04/2024 19:15:44 INFO 140467942721344] Epoch[13] Train-accuracy=0.860887\u001b[0m\n",
      "\u001b[34m[06/04/2024 19:15:44 INFO 140467942721344] Epoch[13] Time cost=5.073\u001b[0m\n",
      "\u001b[34m[06/04/2024 19:15:45 INFO 140467942721344] Epoch[13] Validation-accuracy=0.854167\u001b[0m\n",
      "\u001b[34m[06/04/2024 19:15:49 INFO 140467942721344] Epoch[14] Batch [20]#011Speed: 189.857 samples/sec#011accuracy=0.898810\u001b[0m\n",
      "\u001b[34m[06/04/2024 19:15:50 INFO 140467942721344] Epoch[14] Train-accuracy=0.893145\u001b[0m\n",
      "\u001b[34m[06/04/2024 19:15:50 INFO 140467942721344] Epoch[14] Time cost=5.029\u001b[0m\n",
      "\u001b[34m[06/04/2024 19:15:51 INFO 140467942721344] Epoch[14] Validation-accuracy=0.765625\u001b[0m\n",
      "\u001b[34m[06/04/2024 19:15:55 INFO 140467942721344] Epoch[15] Batch [20]#011Speed: 188.086 samples/sec#011accuracy=0.869048\u001b[0m\n",
      "\u001b[34m[06/04/2024 19:15:56 INFO 140467942721344] Epoch[15] Train-accuracy=0.854839\u001b[0m\n",
      "\u001b[34m[06/04/2024 19:15:56 INFO 140467942721344] Epoch[15] Time cost=5.073\u001b[0m\n",
      "\u001b[34m[06/04/2024 19:15:57 INFO 140467942721344] Epoch[15] Validation-accuracy=0.745536\u001b[0m\n",
      "\u001b[34m[06/04/2024 19:16:01 INFO 140467942721344] Epoch[16] Batch [20]#011Speed: 187.717 samples/sec#011accuracy=0.910714\u001b[0m\n",
      "\u001b[34m[06/04/2024 19:16:03 INFO 140467942721344] Epoch[16] Train-accuracy=0.908266\u001b[0m\n",
      "\u001b[34m[06/04/2024 19:16:03 INFO 140467942721344] Epoch[16] Time cost=5.143\u001b[0m\n",
      "\u001b[34m[06/04/2024 19:16:03 INFO 140467942721344] Epoch[16] Validation-accuracy=0.734375\u001b[0m\n",
      "\u001b[34m[06/04/2024 19:16:07 INFO 140467942721344] Epoch[17] Batch [20]#011Speed: 189.790 samples/sec#011accuracy=0.904762\u001b[0m\n",
      "\u001b[34m[06/04/2024 19:16:09 INFO 140467942721344] Epoch[17] Train-accuracy=0.910282\u001b[0m\n",
      "\u001b[34m[06/04/2024 19:16:09 INFO 140467942721344] Epoch[17] Time cost=5.039\u001b[0m\n",
      "\u001b[34m[06/04/2024 19:16:09 INFO 140467942721344] Epoch[17] Validation-accuracy=0.807292\u001b[0m\n",
      "\u001b[34m[06/04/2024 19:16:13 INFO 140467942721344] Epoch[18] Batch [20]#011Speed: 186.861 samples/sec#011accuracy=0.880952\u001b[0m\n",
      "\u001b[34m[06/04/2024 19:16:15 INFO 140467942721344] Epoch[18] Train-accuracy=0.890121\u001b[0m\n",
      "\u001b[34m[06/04/2024 19:16:15 INFO 140467942721344] Epoch[18] Time cost=5.079\u001b[0m\n",
      "\u001b[34m[06/04/2024 19:16:15 INFO 140467942721344] Epoch[18] Validation-accuracy=0.822917\u001b[0m\n",
      "\u001b[34m[06/04/2024 19:16:19 INFO 140467942721344] Epoch[19] Batch [20]#011Speed: 189.551 samples/sec#011accuracy=0.947917\u001b[0m\n",
      "\u001b[34m[06/04/2024 19:16:21 INFO 140467942721344] Epoch[19] Train-accuracy=0.945565\u001b[0m\n",
      "\u001b[34m[06/04/2024 19:16:21 INFO 140467942721344] Epoch[19] Time cost=5.035\u001b[0m\n",
      "\u001b[34m[06/04/2024 19:16:21 INFO 140467942721344] Epoch[19] Validation-accuracy=0.861607\u001b[0m\n",
      "\u001b[34m[06/04/2024 19:16:25 INFO 140467942721344] Epoch[20] Batch [20]#011Speed: 188.039 samples/sec#011accuracy=0.950893\u001b[0m\n",
      "\u001b[34m[06/04/2024 19:16:27 INFO 140467942721344] Epoch[20] Train-accuracy=0.945565\u001b[0m\n",
      "\u001b[34m[06/04/2024 19:16:27 INFO 140467942721344] Epoch[20] Time cost=5.073\u001b[0m\n",
      "\u001b[34m[06/04/2024 19:16:27 INFO 140467942721344] Epoch[20] Validation-accuracy=0.843750\u001b[0m\n",
      "\u001b[34m[06/04/2024 19:16:31 INFO 140467942721344] Epoch[21] Batch [20]#011Speed: 189.760 samples/sec#011accuracy=0.941964\u001b[0m\n",
      "\u001b[34m[06/04/2024 19:16:33 INFO 140467942721344] Epoch[21] Train-accuracy=0.944556\u001b[0m\n",
      "\u001b[34m[06/04/2024 19:16:33 INFO 140467942721344] Epoch[21] Time cost=5.026\u001b[0m\n",
      "\u001b[34m[06/04/2024 19:16:33 INFO 140467942721344] Epoch[21] Validation-accuracy=0.843750\u001b[0m\n",
      "\u001b[34m[06/04/2024 19:16:37 INFO 140467942721344] Epoch[22] Batch [20]#011Speed: 188.395 samples/sec#011accuracy=0.958333\u001b[0m\n",
      "\u001b[34m[06/04/2024 19:16:39 INFO 140467942721344] Epoch[22] Train-accuracy=0.951613\u001b[0m\n",
      "\u001b[34m[06/04/2024 19:16:39 INFO 140467942721344] Epoch[22] Time cost=5.054\u001b[0m\n",
      "\u001b[34m[06/04/2024 19:16:39 INFO 140467942721344] Epoch[22] Validation-accuracy=0.828125\u001b[0m\n",
      "\u001b[34m[06/04/2024 19:16:43 INFO 140467942721344] Epoch[23] Batch [20]#011Speed: 188.200 samples/sec#011accuracy=0.953869\u001b[0m\n",
      "\u001b[34m[06/04/2024 19:16:45 INFO 140467942721344] Epoch[23] Train-accuracy=0.951613\u001b[0m\n",
      "\u001b[34m[06/04/2024 19:16:45 INFO 140467942721344] Epoch[23] Time cost=5.068\u001b[0m\n",
      "\u001b[34m[06/04/2024 19:16:45 INFO 140467942721344] Epoch[23] Validation-accuracy=0.808036\u001b[0m\n",
      "\u001b[34m[06/04/2024 19:16:49 INFO 140467942721344] Epoch[24] Batch [20]#011Speed: 186.748 samples/sec#011accuracy=0.940476\u001b[0m\n",
      "\u001b[34m[06/04/2024 19:16:51 INFO 140467942721344] Epoch[24] Train-accuracy=0.953629\u001b[0m\n",
      "\u001b[34m[06/04/2024 19:16:51 INFO 140467942721344] Epoch[24] Time cost=5.097\u001b[0m\n",
      "\u001b[34m[06/04/2024 19:16:51 INFO 140467942721344] Epoch[24] Validation-accuracy=0.880208\u001b[0m\n",
      "\u001b[34m[06/04/2024 19:16:51 INFO 140467942721344] Storing the best model with validation accuracy: 0.880208\u001b[0m\n",
      "\u001b[34m[06/04/2024 19:16:52 INFO 140467942721344] Saved checkpoint to \"/opt/ml/model/image-classification-0025.params\"\u001b[0m\n",
      "\u001b[34m[06/04/2024 19:16:55 INFO 140467942721344] Epoch[25] Batch [20]#011Speed: 188.271 samples/sec#011accuracy=0.983631\u001b[0m\n",
      "\u001b[34m[06/04/2024 19:16:57 INFO 140467942721344] Epoch[25] Train-accuracy=0.983871\u001b[0m\n",
      "\u001b[34m[06/04/2024 19:16:57 INFO 140467942721344] Epoch[25] Time cost=5.058\u001b[0m\n",
      "\u001b[34m[06/04/2024 19:16:57 INFO 140467942721344] Epoch[25] Validation-accuracy=0.812500\u001b[0m\n",
      "\u001b[34m[06/04/2024 19:17:01 INFO 140467942721344] Epoch[26] Batch [20]#011Speed: 188.493 samples/sec#011accuracy=0.955357\u001b[0m\n",
      "\u001b[34m[06/04/2024 19:17:03 INFO 140467942721344] Epoch[26] Train-accuracy=0.957661\u001b[0m\n",
      "\u001b[34m[06/04/2024 19:17:03 INFO 140467942721344] Epoch[26] Time cost=5.128\u001b[0m\n",
      "\u001b[34m[06/04/2024 19:17:03 INFO 140467942721344] Epoch[26] Validation-accuracy=0.859375\u001b[0m\n",
      "\u001b[34m[06/04/2024 19:17:07 INFO 140467942721344] Epoch[27] Batch [20]#011Speed: 187.847 samples/sec#011accuracy=0.988095\u001b[0m\n",
      "\u001b[34m[06/04/2024 19:17:09 INFO 140467942721344] Epoch[27] Train-accuracy=0.980847\u001b[0m\n",
      "\u001b[34m[06/04/2024 19:17:09 INFO 140467942721344] Epoch[27] Time cost=5.077\u001b[0m\n",
      "\u001b[34m[06/04/2024 19:17:09 INFO 140467942721344] Epoch[27] Validation-accuracy=0.830357\u001b[0m\n",
      "\u001b[34m[06/04/2024 19:17:13 INFO 140467942721344] Epoch[28] Batch [20]#011Speed: 187.808 samples/sec#011accuracy=0.988095\u001b[0m\n",
      "\u001b[34m[06/04/2024 19:17:15 INFO 140467942721344] Epoch[28] Train-accuracy=0.979839\u001b[0m\n",
      "\u001b[34m[06/04/2024 19:17:15 INFO 140467942721344] Epoch[28] Time cost=5.068\u001b[0m\n",
      "\u001b[34m[06/04/2024 19:17:15 INFO 140467942721344] Epoch[28] Validation-accuracy=0.838542\u001b[0m\n",
      "\n",
      "2024-06-04 19:17:27 Uploading - Uploading generated training model\u001b[34m[06/04/2024 19:17:19 INFO 140467942721344] Epoch[29] Batch [20]#011Speed: 190.066 samples/sec#011accuracy=0.983631\u001b[0m\n",
      "\u001b[34m[06/04/2024 19:17:21 INFO 140467942721344] Epoch[29] Train-accuracy=0.981855\u001b[0m\n",
      "\u001b[34m[06/04/2024 19:17:21 INFO 140467942721344] Epoch[29] Time cost=5.029\u001b[0m\n",
      "\u001b[34m[06/04/2024 19:17:21 INFO 140467942721344] Epoch[29] Validation-accuracy=0.843750\u001b[0m\n",
      "\n",
      "2024-06-04 19:17:45 Completed - Training job completed\n",
      "Training seconds: 505\n",
      "Billable seconds: 505\n"
     ]
    }
   ],
   "source": [
    "## TODO: train your model\n",
    "img_classifier_model.fit(model_inputs)"
   ]
  },
  {
   "cell_type": "markdown",
   "metadata": {},
   "source": [
    "If all goes well, you'll end up with a model topping out above `.8` validation accuracy. With only 1000 training samples in the CIFAR dataset, that's pretty good. We could definitely pursue data augmentation & gathering more samples to help us improve further, but for now let's proceed to deploy our model.\n",
    "\n",
    "### Getting ready to deploy\n",
    "\n",
    "To begin with, let's configure Model Monitor to track our deployment. We'll define a `DataCaptureConfig` below:"
   ]
  },
  {
   "cell_type": "code",
   "execution_count": 31,
   "metadata": {
    "tags": []
   },
   "outputs": [],
   "source": [
    "from sagemaker.model_monitor import DataCaptureConfig\n",
    "\n",
    "data_capture_config = DataCaptureConfig(\n",
    "    ## TODO: Set config options\n",
    "    destination_s3_uri=f\"s3://{bucket}/data_capture\",\n",
    "    enable_capture=True,\n",
    "    sampling_percentage=100,\n",
    ")"
   ]
  },
  {
   "cell_type": "markdown",
   "metadata": {},
   "source": [
    "Note the `destination_s3_uri` parameter: At the end of the project, we can explore the `data_capture` directory in S3 to find crucial data about the inputs and outputs Model Monitor has observed on our model endpoint over time.\n",
    "\n",
    "With that done, deploy your model on a single `ml.m5.xlarge` instance with the data capture config attached:"
   ]
  },
  {
   "cell_type": "code",
   "execution_count": 32,
   "metadata": {
    "tags": []
   },
   "outputs": [
    {
     "name": "stderr",
     "output_type": "stream",
     "text": [
      "INFO:sagemaker:Creating model with name: image-classification-2024-06-04-19-20-32-078\n",
      "INFO:sagemaker:Creating endpoint-config with name image-classification-2024-06-04-19-20-32-078\n",
      "INFO:sagemaker:Creating endpoint with name image-classification-2024-06-04-19-20-32-078\n"
     ]
    },
    {
     "name": "stdout",
     "output_type": "stream",
     "text": [
      "------------!image-classification-2024-06-04-19-20-32-078\n"
     ]
    }
   ],
   "source": [
    "deployment = img_classifier_model.deploy(\n",
    "    ## TODO: fill in deployment options\n",
    "    data_capture_config=data_capture_config,\n",
    "    initial_instance_count=1, \n",
    "    instance_type='ml.m5.xlarge',\n",
    "    )\n",
    "\n",
    "endpoint = deployment.endpoint_name\n",
    "print(endpoint)"
   ]
  },
  {
   "cell_type": "markdown",
   "metadata": {},
   "source": [
    "Note the endpoint name for later as well.\n",
    "\n",
    "Next, instantiate a Predictor:"
   ]
  },
  {
   "cell_type": "code",
   "execution_count": 33,
   "metadata": {
    "tags": []
   },
   "outputs": [],
   "source": [
    "predictor = sagemaker.predictor.Predictor(endpoint,\n",
    "                                          sagemaker_session=session,\n",
    "                                          )## TODO: fill in"
   ]
  },
  {
   "cell_type": "markdown",
   "metadata": {},
   "source": [
    "In the code snippet below we are going to prepare one of your saved images for prediction. Use the predictor to process the `payload`."
   ]
  },
  {
   "cell_type": "code",
   "execution_count": 34,
   "metadata": {
    "tags": []
   },
   "outputs": [],
   "source": [
    "from sagemaker.serializers import IdentitySerializer\n",
    "import base64\n",
    "\n",
    "predictor.serializer = IdentitySerializer(\"image/png\")\n",
    "with open(\"./test/bicycle_s_001789.png\", \"rb\") as f:\n",
    "    payload = f.read()\n",
    "\n",
    "    \n",
    "inference = predictor.predict(payload)## TODO: Process the payload with your predictor"
   ]
  },
  {
   "cell_type": "markdown",
   "metadata": {},
   "source": [
    "Your `inference` object is an array of two values, the predicted probability value for each of your classes (bicycle and motorcycle respectively.) So, for example, a value of `b'[0.91, 0.09]'` indicates the probability of being a bike is 91% and being a motorcycle is 9%."
   ]
  },
  {
   "cell_type": "code",
   "execution_count": 35,
   "metadata": {
    "tags": []
   },
   "outputs": [
    {
     "name": "stdout",
     "output_type": "stream",
     "text": [
      "b'[0.9691318869590759, 0.03086812049150467]'\n"
     ]
    }
   ],
   "source": [
    "print(inference)"
   ]
  },
  {
   "cell_type": "markdown",
   "metadata": {},
   "source": [
    "### Draft Lambdas and Step Function Workflow\n",
    "\n",
    "Your operations team uses Step Functions to orchestrate serverless workflows. One of the nice things about Step Functions is that [workflows can call other workflows](https://docs.aws.amazon.com/step-functions/latest/dg/connect-stepfunctions.html), so the team can easily plug your workflow into the broader production architecture for Scones Unlimited.\n",
    "\n",
    "In this next stage you're going to write and deploy three Lambda functions, and then use the Step Functions visual editor to chain them together! Our functions are going to work with a simple data object:\n",
    "\n",
    "```python\n",
    "{\n",
    "    \"inferences\": [], # Output of predictor.predict\n",
    "    \"s3_key\": \"\", # Source data S3 key\n",
    "    \"s3_bucket\": \"\", # Source data S3 bucket\n",
    "    \"image_data\": \"\"  # base64 encoded string containing the image data\n",
    "}\n",
    "```\n",
    "\n",
    "A good test object that you can use for Lambda tests and Step Function executions, throughout the next section, might look like this:\n",
    "\n",
    "```python\n",
    "{\n",
    "  \"image_data\": \"\",\n",
    "  \"s3_bucket\": MY_BUCKET_NAME, # Fill in with your bucket\n",
    "  \"s3_key\": \"test/bicycle_s_000513.png\"\n",
    "}\n",
    "```\n",
    "\n",
    "Using these fields, your functions can read and write the necessary data to execute your workflow. Let's start with the first function. Your first Lambda function will copy an object from S3, base64 encode it, and then return it to the step function as `image_data` in an event.\n",
    "\n",
    "Go to the Lambda dashboard and create a new Lambda function with a descriptive name like \"serializeImageData\" and select thr 'Python 3.8' runtime. Add the same permissions as the SageMaker role you created earlier. (Reminder: you do this in the Configuration tab under \"Permissions\"). Once you're ready, use the starter code below to craft your Lambda handler:\n",
    "\n",
    "```python\n",
    "import json\n",
    "import boto3\n",
    "import base64\n",
    "\n",
    "s3 = boto3.client('s3')\n",
    "\n",
    "def lambda_handler(event, context):\n",
    "    \"\"\"A function to serialize target data from S3\"\"\"\n",
    "    \n",
    "    # Get the s3 address from the Step Function event input\n",
    "    key = ## TODO: fill in\n",
    "    bucket = ## TODO: fill in\n",
    "    \n",
    "    # Download the data from s3 to /tmp/image.png\n",
    "    ## TODO: fill in\n",
    "    \n",
    "    # We read the data from a file\n",
    "    with open(\"/tmp/image.png\", \"rb\") as f:\n",
    "        image_data = base64.b64encode(f.read())\n",
    "\n",
    "    # Pass the data back to the Step Function\n",
    "    print(\"Event:\", event.keys())\n",
    "    return {\n",
    "        'statusCode': 200,\n",
    "        'body': {\n",
    "            \"image_data\": image_data,\n",
    "            \"s3_bucket\": bucket,\n",
    "            \"s3_key\": key,\n",
    "            \"inferences\": []\n",
    "        }\n",
    "    }\n",
    "```\n",
    "\n",
    "The next function is responsible for the classification part - we're going to take the image output from the previous function, decode it, and then pass inferences back to the the Step Function.\n",
    "\n",
    "Because this Lambda will have runtime dependencies (i.e. the SageMaker SDK) you'll need to package them in your function. *Key reading:* https://docs.aws.amazon.com/lambda/latest/dg/python-package-create.html#python-package-create-with-dependency\n",
    "\n",
    "Create a new Lambda function with the same rights and a descriptive name, then fill in the starter code below for your classifier Lambda.\n",
    "\n",
    "```python\n",
    "import json\n",
    "import sagemaker\n",
    "import base64\n",
    "from sagemaker.serializers import IdentitySerializer\n",
    "\n",
    "# Fill this in with the name of your deployed model\n",
    "ENDPOINT = ## TODO: fill in\n",
    "\n",
    "def lambda_handler(event, context):\n",
    "\n",
    "    # Decode the image data\n",
    "    image = base64.b64decode(## TODO: fill in)\n",
    "\n",
    "    # Instantiate a Predictor\n",
    "    predictor = ## TODO: fill in\n",
    "\n",
    "    # For this model the IdentitySerializer needs to be \"image/png\"\n",
    "    predictor.serializer = IdentitySerializer(\"image/png\")\n",
    "    \n",
    "    # Make a prediction:\n",
    "    inferences = ## TODO: fill in\n",
    "    \n",
    "    # We return the data back to the Step Function    \n",
    "    event[\"inferences\"] = inferences.decode('utf-8')\n",
    "    return {\n",
    "        'statusCode': 200,\n",
    "        'body': json.dumps(event)\n",
    "    }\n",
    "```\n",
    "\n",
    "Finally, we need to filter low-confidence inferences. Define a threshold between 1.00 and 0.000 for your model: what is reasonble for you? If the model predicts at `.70` for it's highest confidence label, do we want to pass that inference along to downstream systems? Make one last Lambda function and tee up the same permissions:\n",
    "\n",
    "```python\n",
    "import json\n",
    "\n",
    "\n",
    "THRESHOLD = .93\n",
    "\n",
    "\n",
    "def lambda_handler(event, context):\n",
    "    \n",
    "    # Grab the inferences from the event\n",
    "    inferences = ## TODO: fill in\n",
    "    \n",
    "    # Check if any values in our inferences are above THRESHOLD\n",
    "    meets_threshold = ## TODO: fill in\n",
    "    \n",
    "    # If our threshold is met, pass our data back out of the\n",
    "    # Step Function, else, end the Step Function with an error\n",
    "    if meets_threshold:\n",
    "        pass\n",
    "    else:\n",
    "        raise(\"THRESHOLD_CONFIDENCE_NOT_MET\")\n",
    "\n",
    "    return {\n",
    "        'statusCode': 200,\n",
    "        'body': json.dumps(event)\n",
    "    }\n",
    "```\n",
    "Once you have tested the lambda functions, save the code for each lambda function in a python script called 'lambda.py'.\n",
    "\n",
    "With your lambdas in place, you can use the Step Functions visual editor to construct a workflow that chains them together. In the Step Functions console you'll have the option to author a Standard step function *Visually*.\n",
    "\n",
    "When the visual editor opens, you'll have many options to add transitions in your workflow. We're going to keep it simple and have just one: to invoke Lambda functions. Add three of them chained together. For each one, you'll be able to select the Lambda functions you just created in the proper order, filter inputs and outputs, and give them descriptive names.\n",
    "\n",
    "Make sure that you:\n",
    "\n",
    "1. Are properly filtering the inputs and outputs of your invokations (e.g. `$.body`)\n",
    "2. Take care to remove the error handling from the last function - it's supposed to \"fail loudly\" for your operations colleagues!\n",
    "\n",
    "Take a screenshot of your working step function in action and export the step function as JSON for your submission package."
   ]
  },
  {
   "cell_type": "markdown",
   "metadata": {},
   "source": [
    "\n",
    "Great! Now you can use the files in `./test` as test files for our workflow. Depending on our threshold, our workflow should reliably pass predictions about images from `./test` on to downstream systems, while erroring out for inferences below our confidence threshold!\n",
    "\n",
    "### Testing and Evaluation\n",
    "\n",
    "Do several step function invokations using data from the `./test` folder. This process should give you confidence that the workflow both *succeeds* AND *fails* as expected. In addition, SageMaker Model Monitor will generate recordings of your data and inferences which we can visualize.\n",
    "\n",
    "Here's a function that can help you generate test inputs for your invokations:"
   ]
  },
  {
   "cell_type": "code",
   "execution_count": 37,
   "metadata": {
    "tags": []
   },
   "outputs": [
    {
     "data": {
      "text/plain": [
       "'{\"image_data\": \"\", \"s3_bucket\": \"sagemaker-us-east-1-048293924935\", \"s3_key\": \"train/velocipede_s_000282.png\"}'"
      ]
     },
     "execution_count": 37,
     "metadata": {},
     "output_type": "execute_result"
    }
   ],
   "source": [
    "import random\n",
    "import boto3\n",
    "import json\n",
    "\n",
    "\n",
    "def generate_test_case():\n",
    "    # Setup s3 in boto3\n",
    "    s3 = boto3.resource('s3')\n",
    "    \n",
    "    # Randomly pick from sfn or test folders in our bucket\n",
    "    objects = s3.Bucket(bucket).objects.filter()\n",
    "    \n",
    "    # Grab any random object key from that folder!\n",
    "    obj = random.choice([x.key for x in objects])\n",
    "    \n",
    "    return json.dumps({\n",
    "        \"image_data\": \"\",\n",
    "        \"s3_bucket\": bucket,\n",
    "        \"s3_key\": obj\n",
    "    })\n",
    "generate_test_case()"
   ]
  },
  {
   "cell_type": "markdown",
   "metadata": {},
   "source": [
    "In the Step Function dashboard for your new function, you can create new executions and copy in the generated test cases. Do several executions so that you can generate data you can evaluate and visualize.\n",
    "\n",
    "Once you've done several executions, let's visualize the record of our inferences. Pull in the JSONLines data from your inferences like so:"
   ]
  },
  {
   "cell_type": "code",
   "execution_count": 43,
   "metadata": {
    "tags": []
   },
   "outputs": [
    {
     "data": {
      "text/plain": [
       "['captured_data/AllTraffic/2024/06/04/19/30-07-353-73dcf08a-24d0-498f-a3f1-68e75c145541.jsonl']"
      ]
     },
     "execution_count": 43,
     "metadata": {},
     "output_type": "execute_result"
    }
   ],
   "source": [
    "from sagemaker.s3 import S3Downloader\n",
    "\n",
    "# In S3 your data will be saved to a datetime-aware path\n",
    "# Find a path related to a datetime you're interested in\n",
    "data_path = \"s3://sagemaker-us-east-1-048293924935/data_capture/image-classification-2024-06-04-19-20-32-078/\"## TODO: fill in the path to your captured data\n",
    "\n",
    "S3Downloader.download(data_path, \"captured_data\")\n",
    "\n",
    "# Feel free to repeat this multiple times and pull in more data"
   ]
  },
  {
   "cell_type": "markdown",
   "metadata": {},
   "source": [
    "The data are in JSONLines format, where multiple valid JSON objects are stacked on top of eachother in a single `jsonl` file. We'll import an open-source library, `jsonlines` that was purpose built for parsing this format."
   ]
  },
  {
   "cell_type": "code",
   "execution_count": 44,
   "metadata": {
    "tags": []
   },
   "outputs": [
    {
     "name": "stdout",
     "output_type": "stream",
     "text": [
      "Collecting jsonlines\n",
      "  Downloading jsonlines-4.0.0-py3-none-any.whl.metadata (1.6 kB)\n",
      "Requirement already satisfied: attrs>=19.2.0 in /home/ec2-user/anaconda3/envs/python3/lib/python3.10/site-packages (from jsonlines) (23.2.0)\n",
      "Downloading jsonlines-4.0.0-py3-none-any.whl (8.7 kB)\n",
      "Installing collected packages: jsonlines\n",
      "Successfully installed jsonlines-4.0.0\n"
     ]
    }
   ],
   "source": [
    "!pip install jsonlines\n",
    "import jsonlines"
   ]
  },
  {
   "cell_type": "code",
   "execution_count": null,
   "metadata": {},
   "outputs": [],
   "source": [
    "import os\n",
    "\n",
    "# List the file names we downloaded\n",
    "file_handles = os.listdir(\"./captured_data\")\n",
    "\n",
    "# Dump all the data into an array\n",
    "json_data = []\n",
    "for jsonl in file_handles:\n",
    "    with jsonlines.open(f\"./captured_data/{jsonl}\") as f:\n",
    "        json_data.append(f.read())"
   ]
  },
  {
   "cell_type": "code",
   "execution_count": 47,
   "metadata": {
    "tags": []
   },
   "outputs": [
    {
     "name": "stdout",
     "output_type": "stream",
     "text": [
      "[{'captureData': {'endpointInput': {'observedContentType': 'image/png', 'mode': 'INPUT', 'data': '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', 'encoding': 'BASE64'}, 'endpointOutput': {'observedContentType': 'application/json', 'mode': 'OUTPUT', 'data': '[0.9691318869590759, 0.03086812049150467]', 'encoding': 'JSON'}}, 'eventMetadata': {'eventId': 'caa8fbba-93f4-426b-a3ac-cbf90570968f', 'inferenceTime': '2024-06-04T19:30:07Z'}, 'eventVersion': '0'}]\n"
     ]
    }
   ],
   "source": [
    "import os\n",
    "import jsonlines\n",
    "from sagemaker.s3 import S3Downloader\n",
    "\n",
    "data_path = \"s3://sagemaker-us-east-1-048293924935/data_capture/image-classification-2024-06-04-19-20-32-078/\"\n",
    "\n",
    "# Download the data to a local directory\n",
    "local_data_dir = \"captured_data\"\n",
    "S3Downloader.download(data_path, local_data_dir)\n",
    "\n",
    "file_handles = []\n",
    "for root, dirs, files in os.walk(local_data_dir):\n",
    "    for file in files:\n",
    "        file_handles.append(os.path.join(root, file))\n",
    "\n",
    "json_data = []\n",
    "\n",
    "for file_path in file_handles:\n",
    "    if file_path.endswith('.jsonl'):\n",
    "        with jsonlines.open(file_path) as reader:\n",
    "            for obj in reader:\n",
    "                json_data.append(obj)\n",
    "\n",
    "print(json_data)"
   ]
  },
  {
   "cell_type": "markdown",
   "metadata": {},
   "source": [
    "The data should now be a list of dictionaries, with significant nesting. We'll give you an example of some code that grabs data out of the objects and visualizes it:"
   ]
  },
  {
   "cell_type": "code",
   "execution_count": 48,
   "metadata": {
    "tags": []
   },
   "outputs": [
    {
     "data": {
      "text/plain": [
       "([0.9691318869590759, 0.03086812049150467], '2024-06-04T19:30:07Z')"
      ]
     },
     "execution_count": 48,
     "metadata": {},
     "output_type": "execute_result"
    }
   ],
   "source": [
    "# Define how we'll get our data\n",
    "def simple_getter(obj):\n",
    "    inferences = obj[\"captureData\"][\"endpointOutput\"][\"data\"]\n",
    "    timestamp = obj[\"eventMetadata\"][\"inferenceTime\"]\n",
    "    return json.loads(inferences), timestamp\n",
    "\n",
    "simple_getter(json_data[0])"
   ]
  },
  {
   "cell_type": "markdown",
   "metadata": {},
   "source": [
    "Finally, here's an example of a visualization you can build with this data. In this last part, you will take some time and build your own - the captured data has the input images, the resulting inferences, and the timestamps."
   ]
  },
  {
   "cell_type": "code",
   "execution_count": 49,
   "metadata": {
    "tags": []
   },
   "outputs": [
    {
     "name": "stderr",
     "output_type": "stream",
     "text": [
      "INFO:matplotlib.category:Using categorical units to plot a list of strings that are all parsable as floats or dates. If these strings should be plotted as numbers, cast to the appropriate data type before plotting.\n",
      "INFO:matplotlib.category:Using categorical units to plot a list of strings that are all parsable as floats or dates. If these strings should be plotted as numbers, cast to the appropriate data type before plotting.\n"
     ]
    },
    {
     "data": {
      "image/png": "[encoded data removed]",
      "text/plain": [
       "<Figure size 640x480 with 1 Axes>"
      ]
     },
     "metadata": {},
     "output_type": "display_data"
    }
   ],
   "source": [
    "# Populate the data for the x and y axis\n",
    "import matplotlib.pyplot as plt\n",
    "x = []\n",
    "y = []\n",
    "for obj in json_data:\n",
    "    inference, timestamp = simple_getter(obj)\n",
    "    \n",
    "    y.append(max(inference))\n",
    "    x.append(timestamp)\n",
    "\n",
    "# Todo: here is an visualization example, take some time to build another visual that helps monitor the result\n",
    "# Plot the data\n",
    "plt.scatter(x, y, c=['r' if k<.94 else 'b' for k in y ])\n",
    "plt.axhline(y=0.94, color='g', linestyle='--')\n",
    "plt.ylim(bottom=.88)\n",
    "\n",
    "# Add labels\n",
    "plt.ylabel(\"Confidence\")\n",
    "plt.suptitle(\"Observed Recent Inferences\", size=14)\n",
    "plt.title(\"Pictured with confidence threshold for production use\", size=10)\n",
    "\n",
    "# Give it some pizzaz!\n",
    "plt.style.use(\"Solarize_Light2\")\n",
    "plt.gcf().autofmt_xdate()"
   ]
  },
  {
   "cell_type": "markdown",
   "metadata": {
    "tags": []
   },
   "source": [
    "### Todo: build your own visualization\n"
   ]
  },
  {
   "cell_type": "code",
   "execution_count": 50,
   "metadata": {
    "tags": []
   },
   "outputs": [],
   "source": [
    "import os\n",
    "import jsonlines\n",
    "from sagemaker.s3 import S3Downloader\n",
    "\n",
    "data_path = \"s3://sagemaker-us-east-1-048293924935/data_capture/image-classification-2024-06-04-19-20-32-078/\" \n",
    "\n",
    "# Download the data to a local directory\n",
    "local_data_dir = \"captured_data\"\n",
    "S3Downloader.download(data_path, local_data_dir)\n",
    "\n",
    "file_handles = []\n",
    "for root, dirs, files in os.walk(local_data_dir):\n",
    "    for file in files:\n",
    "        file_handles.append(os.path.join(root, file))\n",
    "\n",
    "json_data = []\n",
    "\n",
    "for file_path in file_handles:\n",
    "    if file_path.endswith('.jsonl'):\n",
    "        with jsonlines.open(file_path) as reader:\n",
    "            for obj in reader:\n",
    "                json_data.append(obj)"
   ]
  },
  {
   "cell_type": "code",
   "execution_count": 51,
   "metadata": {
    "tags": []
   },
   "outputs": [
    {
     "data": {
      "image/png": "[encoded data removed]",
      "text/plain": [
       "<Figure size 500x500 with 1 Axes>"
      ]
     },
     "metadata": {},
     "output_type": "display_data"
    }
   ],
   "source": [
    "import matplotlib.pyplot as plt\n",
    "import seaborn as sns\n",
    "import json\n",
    "\n",
    "def simple_getter(obj):\n",
    "    inferences = obj[\"captureData\"][\"endpointOutput\"][\"data\"]\n",
    "    timestamp = obj[\"eventMetadata\"][\"inferenceTime\"]\n",
    "    return json.loads(inferences), timestamp\n",
    "\n",
    "\n",
    "x = []\n",
    "y = []\n",
    "y0 = []\n",
    "for obj in json_data:\n",
    "    inference, timestamp = simple_getter(obj)\n",
    "    y.append(max(inference))\n",
    "    y0.append(min(inference))\n",
    "    x.append(timestamp)\n",
    "\n",
    "# Todo: here is an visualization example, take some time to build another visual that helps monitor the result\n",
    "# Plot the data\n",
    "sns.displot(data=y, kde=True)\n",
    "\n",
    "# Add labels\n",
    "plt.ylabel(\"Counts\")\n",
    "plt.xlabel('Inference')\n",
    "plt.suptitle(\"Observed Recent Inferences distribution\", size=14)\n",
    "plt.title(\"Pictured with confidence threshold for production use\", size=10)\n",
    "\n",
    "# Give it some pizzaz!\n",
    "plt.style.use(\"Solarize_Light2\")\n",
    "plt.gcf().autofmt_xdate()"
   ]
  },
  {
   "cell_type": "code",
   "execution_count": 52,
   "metadata": {
    "tags": []
   },
   "outputs": [
    {
     "data": {
      "image/png": "[encoded data removed]",
      "text/plain": [
       "<Figure size 640x480 with 1 Axes>"
      ]
     },
     "metadata": {},
     "output_type": "display_data"
    }
   ],
   "source": [
    "sns.boxenplot(x=y)\n",
    "plt.xlabel('Confidence')\n",
    "plt.ylabel('Inference')\n",
    "plt.show()"
   ]
  },
  {
   "cell_type": "code",
   "execution_count": 53,
   "metadata": {
    "tags": []
   },
   "outputs": [
    {
     "data": {
      "image/png": "[encoded data removed]",
      "text/plain": [
       "<Figure size 600x600 with 3 Axes>"
      ]
     },
     "metadata": {},
     "output_type": "display_data"
    }
   ],
   "source": [
    "g = sns.JointGrid( x=y0, y=y)\n",
    "g.plot_joint(sns.scatterplot, s=100, alpha=.5)\n",
    "g.plot_marginals(sns.histplot, kde=True)\n",
    "g.set_axis_labels('Min Inference', 'Max Inference')\n",
    "plt.show()"
   ]
  },
  {
   "cell_type": "markdown",
   "metadata": {},
   "source": [
    "### Congratulations!\n",
    "\n",
    "You've reached the end of the project. In this project you created an event-drivent ML workflow that can be incorporated into the Scones Unlimited production architecture. You used the SageMaker Estimator API to deploy your SageMaker Model and Endpoint, and you used AWS Lambda and Step Functions to orchestrate your ML workflow. Using SageMaker Model Monitor, you instrumented and observed your Endpoint, and at the end of the project you built a visualization to help stakeholders understand the performance of the Endpoint over time. If you're up for it, you can even go further with these stretch goals:\n",
    "\n",
    "* Extend your workflow to incorporate more classes: the CIFAR dataset includes other vehicles that Scones Unlimited can identify with this model.\n",
    "* Modify your event driven workflow: can you rewrite your Lambda functions so that the workflow can process multiple image inputs in parallel? Can the Step Function \"fan out\" to accomodate this new workflow?\n",
    "* Consider the test data generator we provided for you. Can we use it to create a \"dummy data\" generator, to simulate a continuous stream of input data? Or a big paralell load of data?\n",
    "* What if we want to get notified every time our step function errors out? Can we use the Step Functions visual editor in conjunction with a service like SNS to accomplish this? Try it out!\n",
    "\n",
    "\n"
   ]
  }
 ],
 "metadata": {
  "instance_type": "ml.t3.medium",
  "kernelspec": {
   "display_name": "conda_python3",
   "language": "python",
   "name": "conda_python3"
  },
  "language_info": {
   "codemirror_mode": {
    "name": "ipython",
    "version": 3
   },
   "file_extension": ".py",
   "mimetype": "text/x-python",
   "name": "python",
   "nbconvert_exporter": "python",
   "pygments_lexer": "ipython3",
   "version": "3.10.14"
  }
 },
 "nbformat": 4,
 "nbformat_minor": 4
}
