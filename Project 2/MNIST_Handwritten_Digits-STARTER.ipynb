{
 "cells": [
  {
   "cell_type": "markdown",
   "metadata": {},
   "source": [
    "# Introduction\n",
    "\n",
    "In this project, you will build a neural network of your own design to evaluate the MNIST dataset.\n",
    "\n",
    "Some of the benchmark results on MNIST include can be found [on Yann LeCun's page](https://webcache.googleusercontent.com/search?q=cache:stAVPik6onEJ:yann.lecun.com/exdb/mnist) and include:\n",
    "\n",
    "88% [Lecun et al., 1998](https://hal.science/hal-03926082/document)\n",
    "\n",
    "95.3% [Lecun et al., 1998](https://hal.science/hal-03926082v1/document)\n",
    "\n",
    "99.65% [Ciresan et al., 2011](http://people.idsia.ch/~juergen/ijcai2011.pdf)\n",
    "\n",
    "\n",
    "MNIST is a great dataset for sanity checking your models, since the accuracy levels achieved by large convolutional neural networks and small linear models are both quite high. This makes it important to be familiar with the data.\n",
    "\n",
    "## Installation"
   ]
  },
  {
   "cell_type": "code",
   "execution_count": 5,
   "metadata": {},
   "outputs": [],
   "source": [
    "# Update the PATH to include the user installation directory. \n",
    "import os\n",
    "os.environ['PATH'] = f\"{os.environ['PATH']}:/root/.local/bin\"\n",
    "\n",
    "# Restart the Kernel before you move on to the next step."
   ]
  },
  {
   "cell_type": "markdown",
   "metadata": {},
   "source": [
    "#### Important: Restart the Kernel before you move on to the next step."
   ]
  },
  {
   "cell_type": "code",
   "execution_count": 1,
   "metadata": {},
   "outputs": [
    {
     "name": "stdout",
     "output_type": "stream",
     "text": [
      "Defaulting to user installation because normal site-packages is not writeable\n",
      "Requirement already satisfied: opencv-python-headless==4.5.3.56 in /root/.local/lib/python3.7/site-packages (from -r requirements.txt (line 1)) (4.5.3.56)\n",
      "Requirement already satisfied: matplotlib==3.4.3 in /opt/conda/lib/python3.7/site-packages (from -r requirements.txt (line 2)) (3.4.3)\n",
      "Requirement already satisfied: numpy==1.21.2 in /opt/conda/lib/python3.7/site-packages (from -r requirements.txt (line 3)) (1.21.2)\n",
      "Requirement already satisfied: pillow==7.0.0 in /opt/conda/lib/python3.7/site-packages (from -r requirements.txt (line 4)) (7.0.0)\n",
      "Requirement already satisfied: bokeh==2.1.1 in /root/.local/lib/python3.7/site-packages (from -r requirements.txt (line 5)) (2.1.1)\n",
      "Requirement already satisfied: torch==1.11.0 in /opt/conda/lib/python3.7/site-packages (from -r requirements.txt (line 6)) (1.11.0)\n",
      "Requirement already satisfied: torchvision==0.12.0 in /root/.local/lib/python3.7/site-packages (from -r requirements.txt (line 7)) (0.12.0)\n",
      "Requirement already satisfied: tqdm==4.63.0 in /root/.local/lib/python3.7/site-packages (from -r requirements.txt (line 8)) (4.63.0)\n",
      "Requirement already satisfied: ipywidgets==7.7.0 in /root/.local/lib/python3.7/site-packages (from -r requirements.txt (line 9)) (7.7.0)\n",
      "Requirement already satisfied: livelossplot==0.5.4 in /root/.local/lib/python3.7/site-packages (from -r requirements.txt (line 10)) (0.5.4)\n",
      "Requirement already satisfied: pytest==7.1.1 in /root/.local/lib/python3.7/site-packages (from -r requirements.txt (line 11)) (7.1.1)\n",
      "Requirement already satisfied: pandas==1.3.5 in /root/.local/lib/python3.7/site-packages (from -r requirements.txt (line 12)) (1.3.5)\n",
      "Requirement already satisfied: seaborn==0.11.2 in /root/.local/lib/python3.7/site-packages (from -r requirements.txt (line 13)) (0.11.2)\n",
      "Requirement already satisfied: jupyter==1.0.0 in /root/.local/lib/python3.7/site-packages (from -r requirements.txt (line 14)) (1.0.0)\n",
      "Requirement already satisfied: ipykernel==4.10.0 in /root/.local/lib/python3.7/site-packages (from -r requirements.txt (line 15)) (4.10.0)\n",
      "Requirement already satisfied: cycler>=0.10 in /opt/conda/lib/python3.7/site-packages (from matplotlib==3.4.3->-r requirements.txt (line 2)) (0.10.0)\n",
      "Requirement already satisfied: python-dateutil>=2.7 in /opt/conda/lib/python3.7/site-packages (from matplotlib==3.4.3->-r requirements.txt (line 2)) (2.8.1)\n",
      "Requirement already satisfied: kiwisolver>=1.0.1 in /opt/conda/lib/python3.7/site-packages (from matplotlib==3.4.3->-r requirements.txt (line 2)) (1.1.0)\n",
      "Requirement already satisfied: pyparsing>=2.2.1 in /opt/conda/lib/python3.7/site-packages (from matplotlib==3.4.3->-r requirements.txt (line 2)) (2.4.6)\n",
      "Requirement already satisfied: PyYAML>=3.10 in /opt/conda/lib/python3.7/site-packages (from bokeh==2.1.1->-r requirements.txt (line 5)) (5.3)\n",
      "Requirement already satisfied: packaging>=16.8 in /opt/conda/lib/python3.7/site-packages (from bokeh==2.1.1->-r requirements.txt (line 5)) (20.1)\n",
      "Requirement already satisfied: tornado>=5.1 in /opt/conda/lib/python3.7/site-packages (from bokeh==2.1.1->-r requirements.txt (line 5)) (5.1.1)\n",
      "Requirement already satisfied: typing-extensions>=3.7.4 in /opt/conda/lib/python3.7/site-packages (from bokeh==2.1.1->-r requirements.txt (line 5)) (3.7.4.1)\n",
      "Requirement already satisfied: Jinja2>=2.7 in /opt/conda/lib/python3.7/site-packages (from bokeh==2.1.1->-r requirements.txt (line 5)) (2.11.1)\n",
      "Requirement already satisfied: requests in /opt/conda/lib/python3.7/site-packages (from torchvision==0.12.0->-r requirements.txt (line 7)) (2.23.0)\n",
      "Requirement already satisfied: nbformat>=4.2.0 in /opt/conda/lib/python3.7/site-packages (from ipywidgets==7.7.0->-r requirements.txt (line 9)) (5.0.4)\n",
      "Requirement already satisfied: traitlets>=4.3.1 in /opt/conda/lib/python3.7/site-packages (from ipywidgets==7.7.0->-r requirements.txt (line 9)) (4.3.3)\n",
      "Requirement already satisfied: widgetsnbextension~=3.6.0 in /root/.local/lib/python3.7/site-packages (from ipywidgets==7.7.0->-r requirements.txt (line 9)) (3.6.6)\n",
      "Requirement already satisfied: jupyterlab-widgets>=1.0.0; python_version >= \"3.6\" in /root/.local/lib/python3.7/site-packages (from ipywidgets==7.7.0->-r requirements.txt (line 9)) (3.0.10)\n",
      "Requirement already satisfied: ipython>=4.0.0; python_version >= \"3.3\" in /opt/conda/lib/python3.7/site-packages (from ipywidgets==7.7.0->-r requirements.txt (line 9)) (7.13.0)\n",
      "Requirement already satisfied: ipython-genutils~=0.2.0 in /opt/conda/lib/python3.7/site-packages (from ipywidgets==7.7.0->-r requirements.txt (line 9)) (0.2.0)\n",
      "Requirement already satisfied: importlib-metadata>=0.12; python_version < \"3.8\" in /opt/conda/lib/python3.7/site-packages (from pytest==7.1.1->-r requirements.txt (line 11)) (1.5.0)\n",
      "Requirement already satisfied: attrs>=19.2.0 in /opt/conda/lib/python3.7/site-packages (from pytest==7.1.1->-r requirements.txt (line 11)) (19.3.0)\n",
      "Requirement already satisfied: pluggy<2.0,>=0.12 in /root/.local/lib/python3.7/site-packages (from pytest==7.1.1->-r requirements.txt (line 11)) (1.2.0)\n",
      "Requirement already satisfied: iniconfig in /root/.local/lib/python3.7/site-packages (from pytest==7.1.1->-r requirements.txt (line 11)) (2.0.0)\n",
      "Requirement already satisfied: tomli>=1.0.0 in /root/.local/lib/python3.7/site-packages (from pytest==7.1.1->-r requirements.txt (line 11)) (2.0.1)\n",
      "Requirement already satisfied: py>=1.8.2 in /root/.local/lib/python3.7/site-packages (from pytest==7.1.1->-r requirements.txt (line 11)) (1.11.0)\n",
      "Requirement already satisfied: pytz>=2017.3 in /opt/conda/lib/python3.7/site-packages (from pandas==1.3.5->-r requirements.txt (line 12)) (2019.3)\n",
      "Requirement already satisfied: scipy>=1.0 in /opt/conda/lib/python3.7/site-packages (from seaborn==0.11.2->-r requirements.txt (line 13)) (1.7.1)\n",
      "Requirement already satisfied: notebook in /opt/conda/lib/python3.7/site-packages (from jupyter==1.0.0->-r requirements.txt (line 14)) (5.7.4)\n",
      "Requirement already satisfied: qtconsole in /root/.local/lib/python3.7/site-packages (from jupyter==1.0.0->-r requirements.txt (line 14)) (5.4.4)\n",
      "Requirement already satisfied: nbconvert in /opt/conda/lib/python3.7/site-packages (from jupyter==1.0.0->-r requirements.txt (line 14)) (5.6.1)\n",
      "Requirement already satisfied: jupyter-console in /root/.local/lib/python3.7/site-packages (from jupyter==1.0.0->-r requirements.txt (line 14)) (6.6.3)\n",
      "Requirement already satisfied: jupyter-client in /opt/conda/lib/python3.7/site-packages (from ipykernel==4.10.0->-r requirements.txt (line 15)) (6.0.0)\n",
      "Requirement already satisfied: six in /opt/conda/lib/python3.7/site-packages (from cycler>=0.10->matplotlib==3.4.3->-r requirements.txt (line 2)) (1.16.0)\n",
      "Requirement already satisfied: setuptools in /opt/conda/lib/python3.7/site-packages (from kiwisolver>=1.0.1->matplotlib==3.4.3->-r requirements.txt (line 2)) (45.2.0.post20200209)\n",
      "Requirement already satisfied: MarkupSafe>=0.23 in /opt/conda/lib/python3.7/site-packages (from Jinja2>=2.7->bokeh==2.1.1->-r requirements.txt (line 5)) (1.1.1)\n",
      "Requirement already satisfied: urllib3!=1.25.0,!=1.25.1,<1.26,>=1.21.1 in /opt/conda/lib/python3.7/site-packages (from requests->torchvision==0.12.0->-r requirements.txt (line 7)) (1.25.7)\n",
      "Requirement already satisfied: idna<3,>=2.5 in /opt/conda/lib/python3.7/site-packages (from requests->torchvision==0.12.0->-r requirements.txt (line 7)) (2.9)\n",
      "Requirement already satisfied: certifi>=2017.4.17 in /opt/conda/lib/python3.7/site-packages (from requests->torchvision==0.12.0->-r requirements.txt (line 7)) (2019.11.28)\n",
      "Requirement already satisfied: chardet<4,>=3.0.2 in /opt/conda/lib/python3.7/site-packages (from requests->torchvision==0.12.0->-r requirements.txt (line 7)) (3.0.4)\n",
      "Requirement already satisfied: jupyter-core in /opt/conda/lib/python3.7/site-packages (from nbformat>=4.2.0->ipywidgets==7.7.0->-r requirements.txt (line 9)) (4.6.3)\n",
      "Requirement already satisfied: jsonschema!=2.5.0,>=2.4 in /opt/conda/lib/python3.7/site-packages (from nbformat>=4.2.0->ipywidgets==7.7.0->-r requirements.txt (line 9)) (3.2.0)\n",
      "Requirement already satisfied: decorator in /opt/conda/lib/python3.7/site-packages (from traitlets>=4.3.1->ipywidgets==7.7.0->-r requirements.txt (line 9)) (4.4.2)\n",
      "Requirement already satisfied: jedi>=0.10 in /opt/conda/lib/python3.7/site-packages (from ipython>=4.0.0; python_version >= \"3.3\"->ipywidgets==7.7.0->-r requirements.txt (line 9)) (0.16.0)\n",
      "Requirement already satisfied: pexpect; sys_platform != \"win32\" in /opt/conda/lib/python3.7/site-packages (from ipython>=4.0.0; python_version >= \"3.3\"->ipywidgets==7.7.0->-r requirements.txt (line 9)) (4.8.0)\n",
      "Requirement already satisfied: pygments in /opt/conda/lib/python3.7/site-packages (from ipython>=4.0.0; python_version >= \"3.3\"->ipywidgets==7.7.0->-r requirements.txt (line 9)) (2.5.2)\n",
      "Requirement already satisfied: prompt-toolkit!=3.0.0,!=3.0.1,<3.1.0,>=2.0.0 in /opt/conda/lib/python3.7/site-packages (from ipython>=4.0.0; python_version >= \"3.3\"->ipywidgets==7.7.0->-r requirements.txt (line 9)) (3.0.3)\n",
      "Requirement already satisfied: backcall in /opt/conda/lib/python3.7/site-packages (from ipython>=4.0.0; python_version >= \"3.3\"->ipywidgets==7.7.0->-r requirements.txt (line 9)) (0.1.0)\n",
      "Requirement already satisfied: pickleshare in /opt/conda/lib/python3.7/site-packages (from ipython>=4.0.0; python_version >= \"3.3\"->ipywidgets==7.7.0->-r requirements.txt (line 9)) (0.7.5)\n",
      "Requirement already satisfied: zipp>=0.5 in /opt/conda/lib/python3.7/site-packages (from importlib-metadata>=0.12; python_version < \"3.8\"->pytest==7.1.1->-r requirements.txt (line 11)) (3.0.0)\n",
      "Requirement already satisfied: pyzmq>=17 in /opt/conda/lib/python3.7/site-packages (from notebook->jupyter==1.0.0->-r requirements.txt (line 14)) (19.0.0)\n",
      "Requirement already satisfied: terminado>=0.8.1 in /opt/conda/lib/python3.7/site-packages (from notebook->jupyter==1.0.0->-r requirements.txt (line 14)) (0.8.3)\n",
      "Requirement already satisfied: prometheus-client in /opt/conda/lib/python3.7/site-packages (from notebook->jupyter==1.0.0->-r requirements.txt (line 14)) (0.7.1)\n",
      "Requirement already satisfied: Send2Trash in /opt/conda/lib/python3.7/site-packages (from notebook->jupyter==1.0.0->-r requirements.txt (line 14)) (1.5.0)\n",
      "Requirement already satisfied: qtpy>=2.4.0 in /root/.local/lib/python3.7/site-packages (from qtconsole->jupyter==1.0.0->-r requirements.txt (line 14)) (2.4.1)\n"
     ]
    },
    {
     "name": "stdout",
     "output_type": "stream",
     "text": [
      "Requirement already satisfied: pandocfilters>=1.4.1 in /opt/conda/lib/python3.7/site-packages (from nbconvert->jupyter==1.0.0->-r requirements.txt (line 14)) (1.4.2)\r\n",
      "Requirement already satisfied: entrypoints>=0.2.2 in /opt/conda/lib/python3.7/site-packages (from nbconvert->jupyter==1.0.0->-r requirements.txt (line 14)) (0.3)\r\n",
      "Requirement already satisfied: bleach in /opt/conda/lib/python3.7/site-packages (from nbconvert->jupyter==1.0.0->-r requirements.txt (line 14)) (3.1.1)\r\n",
      "Requirement already satisfied: testpath in /opt/conda/lib/python3.7/site-packages (from nbconvert->jupyter==1.0.0->-r requirements.txt (line 14)) (0.4.4)\r\n",
      "Requirement already satisfied: mistune<2,>=0.8.1 in /opt/conda/lib/python3.7/site-packages (from nbconvert->jupyter==1.0.0->-r requirements.txt (line 14)) (0.8.4)\r\n",
      "Requirement already satisfied: defusedxml in /opt/conda/lib/python3.7/site-packages (from nbconvert->jupyter==1.0.0->-r requirements.txt (line 14)) (0.6.0)\r\n",
      "Requirement already satisfied: pyrsistent>=0.14.0 in /opt/conda/lib/python3.7/site-packages (from jsonschema!=2.5.0,>=2.4->nbformat>=4.2.0->ipywidgets==7.7.0->-r requirements.txt (line 9)) (0.15.7)\r\n",
      "Requirement already satisfied: parso>=0.5.2 in /opt/conda/lib/python3.7/site-packages (from jedi>=0.10->ipython>=4.0.0; python_version >= \"3.3\"->ipywidgets==7.7.0->-r requirements.txt (line 9)) (0.6.1)\r\n",
      "Requirement already satisfied: ptyprocess>=0.5 in /opt/conda/lib/python3.7/site-packages (from pexpect; sys_platform != \"win32\"->ipython>=4.0.0; python_version >= \"3.3\"->ipywidgets==7.7.0->-r requirements.txt (line 9)) (0.6.0)\r\n",
      "Requirement already satisfied: wcwidth in /opt/conda/lib/python3.7/site-packages (from prompt-toolkit!=3.0.0,!=3.0.1,<3.1.0,>=2.0.0->ipython>=4.0.0; python_version >= \"3.3\"->ipywidgets==7.7.0->-r requirements.txt (line 9)) (0.1.8)\r\n",
      "Requirement already satisfied: webencodings in /opt/conda/lib/python3.7/site-packages (from bleach->nbconvert->jupyter==1.0.0->-r requirements.txt (line 14)) (0.5.1)\r\n"
     ]
    }
   ],
   "source": [
    "# Install requirements\n",
    "!python -m pip install -r requirements.txt"
   ]
  },
  {
   "cell_type": "markdown",
   "metadata": {},
   "source": [
    "## Imports"
   ]
  },
  {
   "cell_type": "code",
   "execution_count": 2,
   "metadata": {},
   "outputs": [],
   "source": [
    "## This cell contains the essential imports you will need – DO NOT CHANGE THE CONTENTS! ##\n",
    "import torch\n",
    "import torch.nn as nn\n",
    "import torch.nn.functional as F\n",
    "import torch.optim as optim\n",
    "import torchvision\n",
    "import torchvision.transforms as transforms\n",
    "import matplotlib.pyplot as plt\n",
    "import numpy as np"
   ]
  },
  {
   "cell_type": "markdown",
   "metadata": {},
   "source": [
    "## Load the Dataset\n",
    "\n",
    "Specify your transforms as a list if you intend to .\n",
    "The transforms module is already loaded as `transforms`.\n",
    "\n",
    "MNIST is fortunately included in the torchvision module.\n",
    "Then, you can create your dataset using the `MNIST` object from `torchvision.datasets` ([the documentation is available here](https://pytorch.org/vision/stable/datasets.html#mnist)).\n",
    "Make sure to specify `download=True`! \n",
    "\n",
    "Once your dataset is created, you'll also need to define a `DataLoader` from the `torch.utils.data` module for both the train and the test set."
   ]
  },
  {
   "cell_type": "code",
   "execution_count": 3,
   "metadata": {},
   "outputs": [
    {
     "name": "stdout",
     "output_type": "stream",
     "text": [
      "Downloading http://yann.lecun.com/exdb/mnist/train-images-idx3-ubyte.gz\n",
      "Failed to download (trying next):\n",
      "HTTP Error 403: Forbidden\n",
      "\n",
      "Downloading https://ossci-datasets.s3.amazonaws.com/mnist/train-images-idx3-ubyte.gz\n",
      "Downloading https://ossci-datasets.s3.amazonaws.com/mnist/train-images-idx3-ubyte.gz to data/MNIST/raw/train-images-idx3-ubyte.gz\n"
     ]
    },
    {
     "data": {
      "application/vnd.jupyter.widget-view+json": {
       "model_id": "b286d26be5f14067a07ff3f7143b0ce2",
       "version_major": 2,
       "version_minor": 0
      },
      "text/plain": [
       "  0%|          | 0/9912422 [00:00<?, ?it/s]"
      ]
     },
     "metadata": {},
     "output_type": "display_data"
    },
    {
     "name": "stdout",
     "output_type": "stream",
     "text": [
      "Extracting data/MNIST/raw/train-images-idx3-ubyte.gz to data/MNIST/raw\n",
      "\n",
      "Downloading http://yann.lecun.com/exdb/mnist/train-labels-idx1-ubyte.gz\n",
      "Failed to download (trying next):\n",
      "HTTP Error 403: Forbidden\n",
      "\n",
      "Downloading https://ossci-datasets.s3.amazonaws.com/mnist/train-labels-idx1-ubyte.gz\n",
      "Downloading https://ossci-datasets.s3.amazonaws.com/mnist/train-labels-idx1-ubyte.gz to data/MNIST/raw/train-labels-idx1-ubyte.gz\n"
     ]
    },
    {
     "data": {
      "application/vnd.jupyter.widget-view+json": {
       "model_id": "720751743f9748608edfba3a927ec55f",
       "version_major": 2,
       "version_minor": 0
      },
      "text/plain": [
       "  0%|          | 0/28881 [00:00<?, ?it/s]"
      ]
     },
     "metadata": {},
     "output_type": "display_data"
    },
    {
     "name": "stdout",
     "output_type": "stream",
     "text": [
      "Extracting data/MNIST/raw/train-labels-idx1-ubyte.gz to data/MNIST/raw\n",
      "\n",
      "Downloading http://yann.lecun.com/exdb/mnist/t10k-images-idx3-ubyte.gz\n",
      "Failed to download (trying next):\n",
      "HTTP Error 403: Forbidden\n",
      "\n",
      "Downloading https://ossci-datasets.s3.amazonaws.com/mnist/t10k-images-idx3-ubyte.gz\n",
      "Downloading https://ossci-datasets.s3.amazonaws.com/mnist/t10k-images-idx3-ubyte.gz to data/MNIST/raw/t10k-images-idx3-ubyte.gz\n"
     ]
    },
    {
     "data": {
      "application/vnd.jupyter.widget-view+json": {
       "model_id": "7c2884e463bb4cd8ad55ae24547b9e7e",
       "version_major": 2,
       "version_minor": 0
      },
      "text/plain": [
       "  0%|          | 0/1648877 [00:00<?, ?it/s]"
      ]
     },
     "metadata": {},
     "output_type": "display_data"
    },
    {
     "name": "stdout",
     "output_type": "stream",
     "text": [
      "Extracting data/MNIST/raw/t10k-images-idx3-ubyte.gz to data/MNIST/raw\n",
      "\n",
      "Downloading http://yann.lecun.com/exdb/mnist/t10k-labels-idx1-ubyte.gz\n",
      "Failed to download (trying next):\n",
      "HTTP Error 403: Forbidden\n",
      "\n",
      "Downloading https://ossci-datasets.s3.amazonaws.com/mnist/t10k-labels-idx1-ubyte.gz\n",
      "Downloading https://ossci-datasets.s3.amazonaws.com/mnist/t10k-labels-idx1-ubyte.gz to data/MNIST/raw/t10k-labels-idx1-ubyte.gz\n"
     ]
    },
    {
     "data": {
      "application/vnd.jupyter.widget-view+json": {
       "model_id": "753c48b824c24a9485c75af4ae9698e4",
       "version_major": 2,
       "version_minor": 0
      },
      "text/plain": [
       "  0%|          | 0/4542 [00:00<?, ?it/s]"
      ]
     },
     "metadata": {},
     "output_type": "display_data"
    },
    {
     "name": "stdout",
     "output_type": "stream",
     "text": [
      "Extracting data/MNIST/raw/t10k-labels-idx1-ubyte.gz to data/MNIST/raw\n",
      "\n"
     ]
    }
   ],
   "source": [
    "from torchvision import datasets\n",
    "from torch.utils.data import DataLoader\n",
    "# Define transforms\n",
    "## YOUR CODE HERE ##\n",
    "transform = transforms.Compose([\n",
    "    transforms.ToTensor(),   \n",
    "    transforms.Normalize((0.5,), (0.5,))\n",
    "])\n",
    "\n",
    "# Create training set and define training dataloader\n",
    "## YOUR CODE HERE ##\n",
    "training_data = datasets.MNIST(root=\"data\", train=True, download=True, transform=transform)\n",
    "train_loader = DataLoader(training_data, batch_size=64, shuffle=True)\n",
    "\n",
    "# Create test set and define test dataloader\n",
    "## YOUR CODE HERE ##\n",
    "test_data = datasets.MNIST(root=\"data\", train=False, download=True, transform=transform)\n",
    "test_loader = DataLoader(test_data, batch_size=64)"
   ]
  },
  {
   "cell_type": "markdown",
   "metadata": {},
   "source": [
    "## Justify your preprocessing\n",
    "\n",
    "In your own words, why did you choose the transforms you chose? If you didn't use any preprocessing steps, why not?"
   ]
  },
  {
   "cell_type": "markdown",
   "metadata": {},
   "source": [
    "**DOUBLE CLICK THIS CELL TO MODIFY**\n",
    "\n",
    "For the following reasons, I have transformed the original dataset using ToTensor() and Normalization:\n",
    "\n",
    "The Python Image Library (PIL) format may be converted to PyTorch tensor format with the aid of ToTensor(). Once the photos are in PyTorch tensor format, we can simply manipulate them and input them into a neural network for the subsequent training or inference phase.\n",
    "By normalizing the data using the mean and standard deviation of the MNIST dataset, normalization can make neural network training more successful and economical.\n",
    "\n",
    "Data splitting: Divide the dataset into sets for testing and training. The testing set is used to assess the model's performance, and the training set is used to train the machine learning model."
   ]
  },
  {
   "cell_type": "markdown",
   "metadata": {},
   "source": [
    "## Explore the Dataset\n",
    "Using matplotlib, numpy, and torch, explore the dimensions of your data.\n",
    "\n",
    "You can view images using the `show5` function defined below – it takes a data loader as an argument.\n",
    "Remember that normalized images will look really weird to you! You may want to try changing your transforms to view images.\n",
    "Typically using no transforms other than `toTensor()` works well for viewing – but not as well for training your network.\n",
    "If `show5` doesn't work, go back and check your code for creating your data loaders and your training/test sets."
   ]
  },
  {
   "cell_type": "code",
   "execution_count": 4,
   "metadata": {},
   "outputs": [],
   "source": [
    "## This cell contains a function for showing 5 images from a dataloader – DO NOT CHANGE THE CONTENTS! ##\n",
    "def show5(img_loader):\n",
    "    dataiter = iter(img_loader)\n",
    "    \n",
    "    batch = next(dataiter)\n",
    "    labels = batch[1][0:5]\n",
    "    images = batch[0][0:5]\n",
    "    for i in range(5):\n",
    "        print(int(labels[i].detach()))\n",
    "    \n",
    "        image = images[i].numpy()\n",
    "        plt.imshow(image.T.squeeze().T)\n",
    "        plt.show()"
   ]
  },
  {
   "cell_type": "code",
   "execution_count": 5,
   "metadata": {},
   "outputs": [
    {
     "name": "stdout",
     "output_type": "stream",
     "text": [
      "4\n"
     ]
    },
    {
     "data": {
      "image/png": "[encoded data removed]",
      "text/plain": [
       "<Figure size 432x288 with 1 Axes>"
      ]
     },
     "metadata": {
      "needs_background": "light"
     },
     "output_type": "display_data"
    },
    {
     "name": "stdout",
     "output_type": "stream",
     "text": [
      "8\n"
     ]
    },
    {
     "data": {
      "image/png": "[encoded data removed]",
      "text/plain": [
       "<Figure size 432x288 with 1 Axes>"
      ]
     },
     "metadata": {
      "needs_background": "light"
     },
     "output_type": "display_data"
    },
    {
     "name": "stdout",
     "output_type": "stream",
     "text": [
      "1\n"
     ]
    },
    {
     "data": {
      "image/png": "[encoded data removed]",
      "text/plain": [
       "<Figure size 432x288 with 1 Axes>"
      ]
     },
     "metadata": {
      "needs_background": "light"
     },
     "output_type": "display_data"
    },
    {
     "name": "stdout",
     "output_type": "stream",
     "text": [
      "2\n"
     ]
    },
    {
     "data": {
      "image/png": "[encoded data removed]",
      "text/plain": [
       "<Figure size 432x288 with 1 Axes>"
      ]
     },
     "metadata": {
      "needs_background": "light"
     },
     "output_type": "display_data"
    },
    {
     "name": "stdout",
     "output_type": "stream",
     "text": [
      "8\n"
     ]
    },
    {
     "data": {
      "image/png": "[encoded data removed]",
      "text/plain": [
       "<Figure size 432x288 with 1 Axes>"
      ]
     },
     "metadata": {
      "needs_background": "light"
     },
     "output_type": "display_data"
    }
   ],
   "source": [
    "# Explore data\n",
    "## YOUR CODE HERE ##\n",
    "show5(train_loader)"
   ]
  },
  {
   "cell_type": "markdown",
   "metadata": {},
   "source": [
    "## Build your Neural Network\n",
    "Using the layers in `torch.nn` (which has been imported as `nn`) and the `torch.nn.functional` module (imported as `F`), construct a neural network based on the parameters of the dataset.\n",
    "Use any architecture you like. \n",
    "\n",
    "*Note*: If you did not flatten your tensors in your transforms or as part of your preprocessing and you are using only `Linear` layers, make sure to use the `Flatten` layer in your network!"
   ]
  },
  {
   "cell_type": "code",
   "execution_count": 7,
   "metadata": {},
   "outputs": [
    {
     "name": "stdout",
     "output_type": "stream",
     "text": [
      "NeuralNetwork(\n",
      "  (fc1): Linear(in_features=784, out_features=128, bias=True)\n",
      "  (relu): ReLU()\n",
      "  (fc2): Linear(in_features=128, out_features=64, bias=True)\n",
      "  (fc3): Linear(in_features=64, out_features=10, bias=True)\n",
      ")\n"
     ]
    },
    {
     "data": {
      "text/plain": [
       "NeuralNetwork(\n",
       "  (fc1): Linear(in_features=784, out_features=128, bias=True)\n",
       "  (relu): ReLU()\n",
       "  (fc2): Linear(in_features=128, out_features=64, bias=True)\n",
       "  (fc3): Linear(in_features=64, out_features=10, bias=True)\n",
       ")"
      ]
     },
     "execution_count": 7,
     "metadata": {},
     "output_type": "execute_result"
    }
   ],
   "source": [
    "# Define the device\n",
    "device = torch.device(\"cuda\" if torch.cuda.is_available() else \"cpu\")\n",
    "\n",
    "class NeuralNetwork(nn.Module):\n",
    "    def __init__(self):\n",
    "        super(NeuralNetwork, self).__init__()\n",
    "        self.fc1 = nn.Linear(784, 128)\n",
    "        self.relu = nn.ReLU()\n",
    "        self.fc2 = nn.Linear(128, 64)\n",
    "        self.fc3 = nn.Linear(64, 10)\n",
    "\n",
    "    def forward(self, x):\n",
    "        x = x.view(x.size(0), -1)\n",
    "        x = self.fc1(x)\n",
    "        x = self.relu(x)\n",
    "        x = self.fc2(x)\n",
    "        x = self.relu(x)\n",
    "        x = self.fc3(x)\n",
    "        return x\n",
    "\n",
    "# Create an instance of the neural network\n",
    "model = NeuralNetwork()\n",
    "\n",
    "# Print the model architecture\n",
    "print(model)\n",
    "\n",
    "# Move the model to the appropriate device\n",
    "model.to(device)"
   ]
  },
  {
   "cell_type": "markdown",
   "metadata": {},
   "source": [
    "Specify a loss function and an optimizer, and instantiate the model.\n",
    "\n",
    "If you use a less common loss function, please note why you chose that loss function in a comment."
   ]
  },
  {
   "cell_type": "code",
   "execution_count": 8,
   "metadata": {},
   "outputs": [],
   "source": [
    "## YOUR CODE HERE ##\n",
    "criterion = nn.CrossEntropyLoss()\n",
    "optimizer= optim.Adam(model.parameters(), lr=0.001)"
   ]
  },
  {
   "cell_type": "markdown",
   "metadata": {},
   "source": [
    "## Running your Neural Network\n",
    "Use whatever method you like to train your neural network, and ensure you record the average loss at each epoch. \n",
    "Don't forget to use `torch.device()` and the `.to()` method for both your model and your data if you are using GPU!\n",
    "\n",
    "If you want to print your loss **during** each epoch, you can use the `enumerate` function and print the loss after a set number of batches. 250 batches works well for most people!"
   ]
  },
  {
   "cell_type": "code",
   "execution_count": 9,
   "metadata": {
    "scrolled": true
   },
   "outputs": [
    {
     "name": "stdout",
     "output_type": "stream",
     "text": [
      "Epoch: 1 / 10, Batch: 250/938,Loss:0.65231, Accuracy:0.80969\n",
      "Epoch: 1 / 10, Batch: 500/938,Loss:0.34615, Accuracy:0.89638\n",
      "Epoch: 1 / 10, Batch: 750/938,Loss:0.28695, Accuracy:0.91406\n",
      "Epoch: 2 / 10, Batch: 250/938,Loss:0.21502, Accuracy:0.93856\n",
      "Epoch: 2 / 10, Batch: 500/938,Loss:0.19119, Accuracy:0.94319\n",
      "Epoch: 2 / 10, Batch: 750/938,Loss:0.17296, Accuracy:0.94738\n",
      "Epoch: 3 / 10, Batch: 250/938,Loss:0.13724, Accuracy:0.95869\n",
      "Epoch: 3 / 10, Batch: 500/938,Loss:0.14476, Accuracy:0.95794\n",
      "Epoch: 3 / 10, Batch: 750/938,Loss:0.13362, Accuracy:0.95863\n",
      "Epoch: 4 / 10, Batch: 250/938,Loss:0.11688, Accuracy:0.96406\n",
      "Epoch: 4 / 10, Batch: 500/938,Loss:0.11396, Accuracy:0.96594\n",
      "Epoch: 4 / 10, Batch: 750/938,Loss:0.10728, Accuracy:0.96731\n",
      "Epoch: 5 / 10, Batch: 250/938,Loss:0.10309, Accuracy:0.96794\n",
      "Epoch: 5 / 10, Batch: 500/938,Loss:0.08537, Accuracy:0.97356\n",
      "Epoch: 5 / 10, Batch: 750/938,Loss:0.09210, Accuracy:0.97219\n",
      "Epoch: 6 / 10, Batch: 250/938,Loss:0.08040, Accuracy:0.97494\n",
      "Epoch: 6 / 10, Batch: 500/938,Loss:0.08520, Accuracy:0.97438\n",
      "Epoch: 6 / 10, Batch: 750/938,Loss:0.08150, Accuracy:0.97513\n",
      "Epoch: 7 / 10, Batch: 250/938,Loss:0.07290, Accuracy:0.97638\n",
      "Epoch: 7 / 10, Batch: 500/938,Loss:0.07828, Accuracy:0.97519\n",
      "Epoch: 7 / 10, Batch: 750/938,Loss:0.06978, Accuracy:0.97750\n",
      "Epoch: 8 / 10, Batch: 250/938,Loss:0.06372, Accuracy:0.97850\n",
      "Epoch: 8 / 10, Batch: 500/938,Loss:0.06776, Accuracy:0.97944\n",
      "Epoch: 8 / 10, Batch: 750/938,Loss:0.06521, Accuracy:0.97875\n",
      "Epoch: 9 / 10, Batch: 250/938,Loss:0.05640, Accuracy:0.98175\n",
      "Epoch: 9 / 10, Batch: 500/938,Loss:0.06124, Accuracy:0.98044\n",
      "Epoch: 9 / 10, Batch: 750/938,Loss:0.06547, Accuracy:0.97825\n",
      "Epoch: 10 / 10, Batch: 250/938,Loss:0.05738, Accuracy:0.98156\n",
      "Epoch: 10 / 10, Batch: 500/938,Loss:0.05723, Accuracy:0.98125\n",
      "Epoch: 10 / 10, Batch: 750/938,Loss:0.05259, Accuracy:0.98269\n"
     ]
    }
   ],
   "source": [
    "## YOUR CODE HERE ##\n",
    "n_epochs = 10\n",
    "model.train()\n",
    "loss_values = []\n",
    "accuracy_values = []\n",
    "for epoch in range(n_epochs):\n",
    "    run_loss = 0\n",
    "    run_corrects = 0\n",
    "    \n",
    "    for batch_i, (images, labels) in enumerate(train_loader):\n",
    "        images, labels = images.to(device), labels.to(device)\n",
    "        \n",
    "        optimizer.zero_grad()\n",
    "        outputs = model(images)\n",
    "        _, preds = torch.max(outputs, 1)\n",
    "        loss = criterion(outputs, labels)\n",
    "        loss.backward()\n",
    "        optimizer.step()\n",
    "        \n",
    "        run_loss += loss.item()\n",
    "        run_corrects += torch.sum(preds == labels.data)\n",
    "        \n",
    "        # Print loss and accuracy for every 250 batchs \n",
    "        if batch_i % 250 == 249:\n",
    "            batch_loss = run_loss /250\n",
    "            batch_accuracy = run_corrects / (250 * train_loader.batch_size)\n",
    "            print(f\"Epoch: {epoch +1 } / {n_epochs}, Batch: {batch_i +1}/{len(train_loader)},Loss:{batch_loss:.5f}, Accuracy:{batch_accuracy:.5f}\")\n",
    "            loss_values.append(batch_loss)\n",
    "            accuracy_values.append(batch_accuracy)\n",
    "            run_loss = 0\n",
    "            run_corrects = 0"
   ]
  },
  {
   "cell_type": "markdown",
   "metadata": {},
   "source": [
    "Plot the training loss (and validation loss/accuracy, if recorded)."
   ]
  },
  {
   "cell_type": "code",
   "execution_count": 14,
   "metadata": {},
   "outputs": [
    {
     "data": {
      "image/png": "[encoded data removed]",
      "text/plain": [
       "<Figure size 432x288 with 2 Axes>"
      ]
     },
     "metadata": {
      "needs_background": "light"
     },
     "output_type": "display_data"
    }
   ],
   "source": [
    "import matplotlib.pyplot as plt\n",
    "\n",
    "# Example loss and accuracy values (replace with your actual recorded data)\n",
    "loss_values = [\n",
    "    0.65231, 0.34615, 0.28695, 0.21502, 0.19119, 0.17296,\n",
    "    0.13724, 0.14476, 0.13362, 0.11688, 0.11396, 0.10728,\n",
    "    0.10309, 0.08537, 0.09210, 0.08040, 0.08520, 0.08150,\n",
    "    0.07290, 0.07828, 0.06978, 0.06372, 0.06776, 0.06521,\n",
    "    0.05640, 0.06124, 0.06547, 0.05738, 0.05723, 0.05259\n",
    "]\n",
    "\n",
    "accuracy_values = [\n",
    "    0.80969, 0.89638, 0.91406, 0.93856, 0.94319, 0.94738,\n",
    "    0.95869, 0.95794, 0.95863, 0.96406, 0.96594, 0.96731,\n",
    "    0.96794, 0.97356, 0.97219, 0.97494, 0.97438, 0.97513,\n",
    "    0.97638, 0.97519, 0.97750, 0.97850, 0.97944, 0.97875,\n",
    "    0.98175, 0.98044, 0.97825, 0.98156, 0.98125, 0.98269\n",
    "]\n",
    "\n",
    "# Plot the training loss and accuracy\n",
    "fig, ax1 = plt.subplots()\n",
    "\n",
    "ax2 = ax1.twinx()\n",
    "ax1.plot(loss_values, 'g-', label=\"Loss\")\n",
    "ax2.plot(accuracy_values, 'b-', label=\"Accuracy\")\n",
    "\n",
    "ax1.set_xlabel('Batch Index')\n",
    "ax1.set_ylabel('Loss', color='g')\n",
    "ax2.set_ylabel('Accuracy', color='b')\n",
    "\n",
    "plt.title('Training Loss and Accuracy Over Batches')\n",
    "fig.legend(loc='upper right')\n",
    "plt.show()\n"
   ]
  },
  {
   "cell_type": "markdown",
   "metadata": {},
   "source": [
    "## Testing your model\n",
    "Using the previously created `DataLoader` for the test set, compute the percentage of correct predictions using the highest probability prediction. \n",
    "\n",
    "If your accuracy is over 90%, great work, but see if you can push a bit further! \n",
    "If your accuracy is under 90%, you'll need to make improvements.\n",
    "Go back and check your model architecture, loss function, and optimizer to make sure they're appropriate for an image classification task."
   ]
  },
  {
   "cell_type": "code",
   "execution_count": 15,
   "metadata": {},
   "outputs": [
    {
     "name": "stdout",
     "output_type": "stream",
     "text": [
      "Test Accuracy:0.96920\n"
     ]
    }
   ],
   "source": [
    "## YOUR CODE HERE ##\n",
    "model.eval()\n",
    "test_corrects = 0\n",
    "total_samples = 0\n",
    "\n",
    "for images, labels in test_loader:\n",
    "    images, labels = images.to(device), labels.to(device)\n",
    "    \n",
    "    outputs = model(images)\n",
    "    _, preds = torch.max(outputs, 1)\n",
    "    \n",
    "    test_corrects += torch.sum(preds == labels.data)\n",
    "    total_samples += len(labels)\n",
    "    \n",
    "test_accuracy = test_corrects / total_samples\n",
    "print(f\"Test Accuracy:{test_accuracy:.5f}\")"
   ]
  },
  {
   "cell_type": "markdown",
   "metadata": {},
   "source": [
    "## Improving your model\n",
    "\n",
    "Once your model is done training, try tweaking your hyperparameters and training again below to improve your accuracy on the test set!"
   ]
  },
  {
   "cell_type": "code",
   "execution_count": 16,
   "metadata": {},
   "outputs": [
    {
     "name": "stdout",
     "output_type": "stream",
     "text": [
      "Epoch: 1 / 20, Batch: 250/938,Loss:1.77322, Accuracy:0.71713\n",
      "Epoch: 1 / 20, Batch: 500/938,Loss:1.67043, Accuracy:0.80056\n",
      "Epoch: 1 / 20, Batch: 750/938,Loss:1.66001, Accuracy:0.80675\n",
      "Epoch: 2 / 20, Batch: 250/938,Loss:1.63958, Accuracy:0.82575\n",
      "Epoch: 2 / 20, Batch: 500/938,Loss:1.63898, Accuracy:0.82481\n",
      "Epoch: 2 / 20, Batch: 750/938,Loss:1.63171, Accuracy:0.83256\n",
      "Epoch: 3 / 20, Batch: 250/938,Loss:1.55463, Accuracy:0.91169\n",
      "Epoch: 3 / 20, Batch: 500/938,Loss:1.52997, Accuracy:0.93681\n",
      "Epoch: 3 / 20, Batch: 750/938,Loss:1.52302, Accuracy:0.94250\n",
      "Epoch: 4 / 20, Batch: 250/938,Loss:1.51770, Accuracy:0.94750\n",
      "Epoch: 4 / 20, Batch: 500/938,Loss:1.51550, Accuracy:0.94888\n",
      "Epoch: 4 / 20, Batch: 750/938,Loss:1.51261, Accuracy:0.95206\n",
      "Epoch: 5 / 20, Batch: 250/938,Loss:1.51208, Accuracy:0.95206\n",
      "Epoch: 5 / 20, Batch: 500/938,Loss:1.50970, Accuracy:0.95381\n",
      "Epoch: 5 / 20, Batch: 750/938,Loss:1.50552, Accuracy:0.95856\n",
      "Epoch: 6 / 20, Batch: 250/938,Loss:1.50379, Accuracy:0.95950\n",
      "Epoch: 6 / 20, Batch: 500/938,Loss:1.50403, Accuracy:0.96031\n",
      "Epoch: 6 / 20, Batch: 750/938,Loss:1.50384, Accuracy:0.96000\n",
      "Epoch: 7 / 20, Batch: 250/938,Loss:1.49929, Accuracy:0.96425\n",
      "Epoch: 7 / 20, Batch: 500/938,Loss:1.50458, Accuracy:0.95856\n",
      "Epoch: 7 / 20, Batch: 750/938,Loss:1.50227, Accuracy:0.96069\n",
      "Epoch: 8 / 20, Batch: 250/938,Loss:1.50310, Accuracy:0.95913\n",
      "Epoch: 8 / 20, Batch: 500/938,Loss:1.49901, Accuracy:0.96325\n",
      "Epoch: 8 / 20, Batch: 750/938,Loss:1.49587, Accuracy:0.96669\n",
      "Epoch: 9 / 20, Batch: 250/938,Loss:1.49697, Accuracy:0.96556\n",
      "Epoch: 9 / 20, Batch: 500/938,Loss:1.49442, Accuracy:0.96838\n",
      "Epoch: 9 / 20, Batch: 750/938,Loss:1.49516, Accuracy:0.96719\n",
      "Epoch: 10 / 20, Batch: 250/938,Loss:1.49389, Accuracy:0.96838\n",
      "Epoch: 10 / 20, Batch: 500/938,Loss:1.49300, Accuracy:0.96925\n",
      "Epoch: 10 / 20, Batch: 750/938,Loss:1.49565, Accuracy:0.96663\n",
      "Epoch: 11 / 20, Batch: 250/938,Loss:1.49366, Accuracy:0.96869\n",
      "Epoch: 11 / 20, Batch: 500/938,Loss:1.49029, Accuracy:0.97288\n",
      "Epoch: 11 / 20, Batch: 750/938,Loss:1.49171, Accuracy:0.97075\n",
      "Epoch: 12 / 20, Batch: 250/938,Loss:1.49018, Accuracy:0.97156\n",
      "Epoch: 12 / 20, Batch: 500/938,Loss:1.49018, Accuracy:0.97213\n",
      "Epoch: 12 / 20, Batch: 750/938,Loss:1.49155, Accuracy:0.97100\n",
      "Epoch: 13 / 20, Batch: 250/938,Loss:1.49558, Accuracy:0.96656\n",
      "Epoch: 13 / 20, Batch: 500/938,Loss:1.49184, Accuracy:0.97044\n",
      "Epoch: 13 / 20, Batch: 750/938,Loss:1.49137, Accuracy:0.97081\n",
      "Epoch: 14 / 20, Batch: 250/938,Loss:1.49253, Accuracy:0.96963\n",
      "Epoch: 14 / 20, Batch: 500/938,Loss:1.48908, Accuracy:0.97313\n",
      "Epoch: 14 / 20, Batch: 750/938,Loss:1.49059, Accuracy:0.97131\n",
      "Epoch: 15 / 20, Batch: 250/938,Loss:1.48907, Accuracy:0.97263\n",
      "Epoch: 15 / 20, Batch: 500/938,Loss:1.48976, Accuracy:0.97206\n",
      "Epoch: 15 / 20, Batch: 750/938,Loss:1.48966, Accuracy:0.97213\n",
      "Epoch: 16 / 20, Batch: 250/938,Loss:1.48786, Accuracy:0.97369\n",
      "Epoch: 16 / 20, Batch: 500/938,Loss:1.48883, Accuracy:0.97325\n",
      "Epoch: 16 / 20, Batch: 750/938,Loss:1.48883, Accuracy:0.97256\n",
      "Epoch: 17 / 20, Batch: 250/938,Loss:1.48895, Accuracy:0.97275\n",
      "Epoch: 17 / 20, Batch: 500/938,Loss:1.48732, Accuracy:0.97488\n",
      "Epoch: 17 / 20, Batch: 750/938,Loss:1.48648, Accuracy:0.97538\n",
      "Epoch: 18 / 20, Batch: 250/938,Loss:1.48503, Accuracy:0.97706\n",
      "Epoch: 18 / 20, Batch: 500/938,Loss:1.48748, Accuracy:0.97413\n",
      "Epoch: 18 / 20, Batch: 750/938,Loss:1.48855, Accuracy:0.97350\n",
      "Epoch: 19 / 20, Batch: 250/938,Loss:1.48663, Accuracy:0.97525\n",
      "Epoch: 19 / 20, Batch: 500/938,Loss:1.48685, Accuracy:0.97494\n",
      "Epoch: 19 / 20, Batch: 750/938,Loss:1.48650, Accuracy:0.97581\n",
      "Epoch: 20 / 20, Batch: 250/938,Loss:1.48372, Accuracy:0.97781\n",
      "Epoch: 20 / 20, Batch: 500/938,Loss:1.48738, Accuracy:0.97394\n",
      "Epoch: 20 / 20, Batch: 750/938,Loss:1.48526, Accuracy:0.97594\n",
      "Test Accuracy:0.96880\n"
     ]
    }
   ],
   "source": [
    "## YOUR CODE HERE ##\n",
    "class NeuralNetwork(nn.Module):\n",
    "    def __init__(self):\n",
    "        super(NeuralNetwork, self).__init__()\n",
    "        self.flatten = nn.Flatten()\n",
    "        self.fc1 = nn.Linear(784, 256)\n",
    "        self.fc2 = nn.Linear(256, 10)\n",
    "        self.dropout = nn.Dropout(0.1)\n",
    "        self.activation = F.relu\n",
    "    #Define the feed forward neural network architecture \n",
    "    def forward(self, x):\n",
    "        x = self.flatten(x)\n",
    "        x = self.activation(self.fc1(x))\n",
    "        x = self.dropout(x)\n",
    "        x = self.fc2(x)\n",
    "        x = F.softmax(x, dim = 1)\n",
    "        return x\n",
    "\n",
    "\n",
    "# create instance of the new neural network model\n",
    "model = NeuralNetwork().to(device)\n",
    "\n",
    "## YOUR CODE HERE ##\n",
    "# Before training the model first we should define loss function and optmizer \n",
    "criterion = nn.CrossEntropyLoss()\n",
    "optimizer = optim.Adam(model.parameters(), lr = 0.001)\n",
    "\n",
    "\n",
    "## YOUR CODE HERE ##\n",
    "# Training the model\n",
    "n_epochs = 20\n",
    "model.train()\n",
    "loss_values = []\n",
    "accuracy_values = []\n",
    "for epoch in range(n_epochs):\n",
    "    run_loss = 0\n",
    "    run_corrects = 0\n",
    "    \n",
    "    for batch_i, (images, labels) in enumerate(train_loader):\n",
    "        images, labels = images.to(device), labels.to(device)\n",
    "        \n",
    "        optimizer.zero_grad()\n",
    "        outputs = model(images)\n",
    "        _, preds = torch.max(outputs, 1)\n",
    "        loss = criterion(outputs, labels)\n",
    "        loss.backward()\n",
    "        optimizer.step()\n",
    "        \n",
    "        run_loss += loss.item()\n",
    "        run_corrects += torch.sum(preds == labels.data)\n",
    "        \n",
    "        # Print loss and accuracy for every 250 batchs \n",
    "        if batch_i % 250 == 249:\n",
    "            batch_loss = run_loss /250\n",
    "            batch_accuracy = run_corrects / (250 * train_loader.batch_size)\n",
    "            print(f\"Epoch: {epoch +1 } / {n_epochs}, Batch: {batch_i +1}/{len(train_loader)},Loss:{batch_loss:.5f}, Accuracy:{batch_accuracy:.5f}\")\n",
    "            loss_values.append(batch_loss)\n",
    "            accuracy_values.append(batch_accuracy)\n",
    "            run_loss = 0\n",
    "            run_corrects = 0\n",
    "            \n",
    "# Testing model accuracy \n",
    "model.eval()\n",
    "test_corrects = 0\n",
    "total_samples = 0\n",
    "\n",
    "for images, labels in test_loader:\n",
    "    images, labels = images.to(device), labels.to(device)\n",
    "    \n",
    "    outputs = model(images)\n",
    "    _, preds = torch.max(outputs, 1)\n",
    "    \n",
    "    test_corrects += torch.sum(preds == labels.data)\n",
    "    total_samples += len(labels)\n",
    "    \n",
    "test_accuracy = test_corrects / total_samples\n",
    "print(f\"Test Accuracy:{test_accuracy:.5f}\")"
   ]
  },
  {
   "cell_type": "code",
   "execution_count": 18,
   "metadata": {},
   "outputs": [
    {
     "data": {
      "image/png": "[encoded data removed]",
      "text/plain": [
       "<Figure size 432x288 with 2 Axes>"
      ]
     },
     "metadata": {
      "needs_background": "light"
     },
     "output_type": "display_data"
    }
   ],
   "source": [
    "import matplotlib.pyplot as plt\n",
    "\n",
    "# Loss and accuracy data (replace with your actual recorded data)\n",
    "epochs = 20\n",
    "\n",
    "# Each value represents loss and accuracy respectively\n",
    "training_data = [\n",
    "    (1.77322, 0.71713), (1.67043, 0.80056), (1.66001, 0.80675),\n",
    "    (1.63958, 0.82575), (1.63898, 0.82481), (1.63171, 0.83256),\n",
    "    (1.55463, 0.91169), (1.52997, 0.93681), (1.52302, 0.94250),\n",
    "    (1.51770, 0.94750), (1.51550, 0.94888), (1.51261, 0.95206),\n",
    "    (1.51208, 0.95206), (1.50970, 0.95381), (1.50552, 0.95856),\n",
    "    (1.50379, 0.95950), (1.50403, 0.96031), (1.50384, 0.96000),\n",
    "    (1.49929, 0.96425), (1.50458, 0.95856), (1.50227, 0.96069),\n",
    "    (1.50310, 0.95913), (1.49901, 0.96325), (1.49587, 0.96669),\n",
    "    (1.49697, 0.96556), (1.49442, 0.96838), (1.49516, 0.96719),\n",
    "    (1.49389, 0.96838), (1.49300, 0.96925), (1.49565, 0.96663),\n",
    "    (1.49366, 0.96869), (1.49029, 0.97288), (1.49171, 0.97075),\n",
    "    (1.49018, 0.97156), (1.49018, 0.97213), (1.49155, 0.97100),\n",
    "    (1.49558, 0.96656), (1.49184, 0.97044), (1.49137, 0.97081),\n",
    "    (1.49253, 0.96963), (1.48908, 0.97313), (1.49059, 0.97131),\n",
    "    (1.48907, 0.97263), (1.48976, 0.97206), (1.48966, 0.97213),\n",
    "    (1.48786, 0.97369), (1.48883, 0.97325), (1.48883, 0.97256),\n",
    "    (1.48895, 0.97275), (1.48732, 0.97488), (1.48648, 0.97538),\n",
    "    (1.48503, 0.97706), (1.48748, 0.97413), (1.48855, 0.97350),\n",
    "    (1.48663, 0.97525), (1.48685, 0.97494), (1.48650, 0.97581),\n",
    "    (1.48372, 0.97781), (1.48738, 0.97394), (1.48526, 0.97594)\n",
    "]\n",
    "\n",
    "# Split into two lists: losses and accuracies\n",
    "loss_values = [data[0] for data in training_data]\n",
    "accuracy_values = [data[1] for data in training_data]\n",
    "\n",
    "# Plot the training loss and accuracy\n",
    "fig, ax1 = plt.subplots()\n",
    "\n",
    "ax2 = ax1.twinx()\n",
    "ax1.plot(loss_values, 'g-', label=\"Loss\")\n",
    "ax2.plot(accuracy_values, 'b-', label=\"Accuracy\")\n",
    "\n",
    "ax1.set_xlabel('Batch Index')\n",
    "ax1.set_ylabel('Loss', color='g')\n",
    "ax2.set_ylabel('Accuracy', color='b')\n",
    "\n",
    "plt.title('Training Loss and Accuracy Over Batches')\n",
    "fig.legend(loc='upper right')\n",
    "plt.show()\n"
   ]
  },
  {
   "cell_type": "markdown",
   "metadata": {},
   "source": [
    "## Saving your model\n",
    "Using `torch.save`, save your model for future loading."
   ]
  },
  {
   "cell_type": "code",
   "execution_count": 20,
   "metadata": {},
   "outputs": [],
   "source": [
    "## YOUR CODE HERE ##\n",
    "torch.save(model,'final_model')"
   ]
  },
  {
   "cell_type": "code",
   "execution_count": null,
   "metadata": {},
   "outputs": [],
   "source": []
  }
 ],
 "metadata": {
  "kernelspec": {
   "display_name": "Python 3",
   "language": "python",
   "name": "python3"
  }
 },
 "nbformat": 4,
 "nbformat_minor": 4
}
