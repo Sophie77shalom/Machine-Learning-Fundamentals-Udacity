{
 "cells": [
  {
   "cell_type": "markdown",
   "metadata": {},
   "source": [
    "# Convolutional Neural Networks\n",
    "\n",
    "## Project: Write an Algorithm for Landmark Classification\n",
    "\n",
    "### A simple app\n",
    "\n",
    "In this notebook we build a very simple app that uses our exported model.\n",
    "\n",
    "> <img src=\"static_images/icons/noun-info-2558213.png\" alt=\"?\" style=\"width:25px\"/> Note how we are not importing anything from our source code (we do not use any module from the ``src`` directory). This is because the exported model, differently from the model weights, is a standalone serialization of our model and therefore it does not need anything else. You can ship that file to anybody, and as long as they can import ``torch``, they will be able to use your model. This is very important for releasing pytorch models to production.\n",
    "\n",
    "### Test your app\n",
    "Go to a search engine for images (like Google Images) and search for images of some of the landmarks, like the Eiffel Tower, the Golden Gate Bridge, Machu Picchu and so on. Save a few examples locally, then upload them to your app to see how your model behaves!\n",
    "\n",
    "The app will show the top 5 classes that the model think are most relevant for the picture you have uploaded"
   ]
  },
  {
   "cell_type": "code",
   "execution_count": 5,
   "metadata": {},
   "outputs": [
    {
     "name": "stdout",
     "output_type": "stream",
     "text": [
      "Defaulting to user installation because normal site-packages is not writeable\n",
      "Requirement already satisfied: ipywidgets in /root/.local/lib/python3.7/site-packages (8.1.2)\n",
      "Requirement already satisfied: widgetsnbextension~=4.0.10 in /root/.local/lib/python3.7/site-packages (from ipywidgets) (4.0.10)\n",
      "Requirement already satisfied: traitlets>=4.3.1 in /opt/conda/lib/python3.7/site-packages (from ipywidgets) (4.3.3)\n",
      "Requirement already satisfied: comm>=0.1.3 in /root/.local/lib/python3.7/site-packages (from ipywidgets) (0.1.4)\n",
      "Requirement already satisfied: ipython>=6.1.0 in /opt/conda/lib/python3.7/site-packages (from ipywidgets) (7.13.0)\n",
      "Requirement already satisfied: jupyterlab-widgets~=3.0.10 in /root/.local/lib/python3.7/site-packages (from ipywidgets) (3.0.10)\n",
      "Requirement already satisfied: six in /opt/conda/lib/python3.7/site-packages (from traitlets>=4.3.1->ipywidgets) (1.16.0)\n",
      "Requirement already satisfied: ipython-genutils in /opt/conda/lib/python3.7/site-packages (from traitlets>=4.3.1->ipywidgets) (0.2.0)\n",
      "Requirement already satisfied: decorator in /opt/conda/lib/python3.7/site-packages (from traitlets>=4.3.1->ipywidgets) (4.4.2)\n",
      "Requirement already satisfied: jedi>=0.10 in /opt/conda/lib/python3.7/site-packages (from ipython>=6.1.0->ipywidgets) (0.16.0)\n",
      "Requirement already satisfied: pygments in /opt/conda/lib/python3.7/site-packages (from ipython>=6.1.0->ipywidgets) (2.5.2)\n",
      "Requirement already satisfied: pickleshare in /opt/conda/lib/python3.7/site-packages (from ipython>=6.1.0->ipywidgets) (0.7.5)\n",
      "Requirement already satisfied: prompt-toolkit!=3.0.0,!=3.0.1,<3.1.0,>=2.0.0 in /opt/conda/lib/python3.7/site-packages (from ipython>=6.1.0->ipywidgets) (3.0.3)\n",
      "Requirement already satisfied: setuptools>=18.5 in /opt/conda/lib/python3.7/site-packages (from ipython>=6.1.0->ipywidgets) (45.2.0.post20200209)\n",
      "Requirement already satisfied: backcall in /opt/conda/lib/python3.7/site-packages (from ipython>=6.1.0->ipywidgets) (0.1.0)\n",
      "Requirement already satisfied: pexpect; sys_platform != \"win32\" in /opt/conda/lib/python3.7/site-packages (from ipython>=6.1.0->ipywidgets) (4.8.0)\n",
      "Requirement already satisfied: parso>=0.5.2 in /opt/conda/lib/python3.7/site-packages (from jedi>=0.10->ipython>=6.1.0->ipywidgets) (0.6.1)\n",
      "Requirement already satisfied: wcwidth in /opt/conda/lib/python3.7/site-packages (from prompt-toolkit!=3.0.0,!=3.0.1,<3.1.0,>=2.0.0->ipython>=6.1.0->ipywidgets) (0.1.8)\n",
      "Requirement already satisfied: ptyprocess>=0.5 in /opt/conda/lib/python3.7/site-packages (from pexpect; sys_platform != \"win32\"->ipython>=6.1.0->ipywidgets) (0.6.0)\n"
     ]
    }
   ],
   "source": [
    "!pip install ipywidgets\n"
   ]
  },
  {
   "cell_type": "code",
   "execution_count": 6,
   "metadata": {},
   "outputs": [
    {
     "name": "stdout",
     "output_type": "stream",
     "text": [
      "Enabling notebook extension jupyter-js-widgets/extension...\n",
      "Traceback (most recent call last):\n",
      "  File \"/opt/conda/bin/jupyter-nbextension\", line 11, in <module>\n",
      "    sys.exit(main())\n",
      "  File \"/opt/conda/lib/python3.7/site-packages/jupyter_core/application.py\", line 270, in launch_instance\n",
      "    return super(JupyterApp, cls).launch_instance(argv=argv, **kwargs)\n",
      "  File \"/opt/conda/lib/python3.7/site-packages/traitlets/config/application.py\", line 664, in launch_instance\n",
      "    app.start()\n",
      "  File \"/opt/conda/lib/python3.7/site-packages/notebook/nbextensions.py\", line 988, in start\n",
      "    super(NBExtensionApp, self).start()\n",
      "  File \"/opt/conda/lib/python3.7/site-packages/jupyter_core/application.py\", line 259, in start\n",
      "    self.subapp.start()\n",
      "  File \"/opt/conda/lib/python3.7/site-packages/notebook/nbextensions.py\", line 896, in start\n",
      "    self.toggle_nbextension_python(self.extra_args[0])\n",
      "  File \"/opt/conda/lib/python3.7/site-packages/notebook/nbextensions.py\", line 872, in toggle_nbextension_python\n",
      "    logger=self.log)\n",
      "  File \"/opt/conda/lib/python3.7/site-packages/notebook/nbextensions.py\", line 483, in enable_nbextension_python\n",
      "    logger=logger)\n",
      "  File \"/opt/conda/lib/python3.7/site-packages/notebook/nbextensions.py\", line 386, in _set_nbextension_state_python\n",
      "    for nbext in nbexts]\n",
      "  File \"/opt/conda/lib/python3.7/site-packages/notebook/nbextensions.py\", line 386, in <listcomp>\n",
      "    for nbext in nbexts]\n",
      "  File \"/opt/conda/lib/python3.7/site-packages/notebook/nbextensions.py\", line 351, in _set_nbextension_state\n",
      "    cm.update(section, {\"load_extensions\": {require: state}})\n",
      "  File \"/opt/conda/lib/python3.7/site-packages/notebook/config_manager.py\", line 136, in update\n",
      "    self.set(section_name, data)\n",
      "  File \"/opt/conda/lib/python3.7/site-packages/notebook/config_manager.py\", line 110, in set\n",
      "    self.ensure_config_dir_exists()\n",
      "  File \"/opt/conda/lib/python3.7/site-packages/notebook/config_manager.py\", line 67, in ensure_config_dir_exists\n",
      "    os.makedirs(self.config_dir, 0o755)\n",
      "  File \"/opt/conda/lib/python3.7/os.py\", line 221, in makedirs\n",
      "    mkdir(name, mode)\n",
      "OSError: [Errno 30] Read-only file system: '/opt/conda/etc/jupyter/nbconfig'\n",
      "Installing /root/.local/lib/python3.7/site-packages/widgetsnbextension/static -> jupyter-js-widgets\n",
      "Traceback (most recent call last):\n",
      "  File \"/opt/conda/bin/jupyter-nbextension\", line 11, in <module>\n",
      "    sys.exit(main())\n",
      "  File \"/opt/conda/lib/python3.7/site-packages/jupyter_core/application.py\", line 270, in launch_instance\n",
      "    return super(JupyterApp, cls).launch_instance(argv=argv, **kwargs)\n",
      "  File \"/opt/conda/lib/python3.7/site-packages/traitlets/config/application.py\", line 664, in launch_instance\n",
      "    app.start()\n",
      "  File \"/opt/conda/lib/python3.7/site-packages/notebook/nbextensions.py\", line 988, in start\n",
      "    super(NBExtensionApp, self).start()\n",
      "  File \"/opt/conda/lib/python3.7/site-packages/jupyter_core/application.py\", line 259, in start\n",
      "    self.subapp.start()\n",
      "  File \"/opt/conda/lib/python3.7/site-packages/notebook/nbextensions.py\", line 716, in start\n",
      "    self.install_extensions()\n",
      "  File \"/opt/conda/lib/python3.7/site-packages/notebook/nbextensions.py\", line 695, in install_extensions\n",
      "    **kwargs\n",
      "  File \"/opt/conda/lib/python3.7/site-packages/notebook/nbextensions.py\", line 225, in install_nbextension_python\n",
      "    destination=dest, logger=logger\n",
      "  File \"/opt/conda/lib/python3.7/site-packages/notebook/nbextensions.py\", line 126, in install_nbextension\n",
      "    ensure_dir_exists(nbext)\n",
      "  File \"/opt/conda/lib/python3.7/site-packages/jupyter_core/utils/__init__.py\", line 13, in ensure_dir_exists\n",
      "    os.makedirs(path, mode=mode)\n",
      "  File \"/opt/conda/lib/python3.7/os.py\", line 221, in makedirs\n",
      "    mkdir(name, mode)\n",
      "OSError: [Errno 30] Read-only file system: '/opt/conda/share/jupyter/nbextensions'\n"
     ]
    }
   ],
   "source": [
    "!jupyter nbextension enable --py widgetsnbextension --sys-prefix\n",
    "!jupyter nbextension install --py widgetsnbextension --sys-prefix\n"
   ]
  },
  {
   "cell_type": "markdown",
   "metadata": {},
   "source": [
    "## (optional) Standalone app or web app\n",
    "\n",
    "You can run this notebook as a standalone app on your computer by following these steps:\n",
    "\n",
    "1. Download this notebook in a directory on your machine\n",
    "2. Download the model export (for example, ``checkpoints/transfer_exported.pt``) in a subdirectory called ``checkpoints`` within the directory where you save the app.ipynb notebook\n",
    "3. Install voila if you don't have it already (``pip install voila``)\n",
    "4. Run your app: ``voila app.ipynb --show_tracebacks=True``\n",
    "5. Customize your notebook to make your app prettier and rerun voila\n",
    "\n",
    "You can also deploy this app as a website using Binder: https://voila.readthedocs.io/en/stable/deploy.html#deployment-on-binder"
   ]
  },
  {
   "cell_type": "code",
   "execution_count": 4,
   "metadata": {},
   "outputs": [
    {
     "data": {
      "application/vnd.jupyter.widget-view+json": {
       "model_id": "97b83e8943cd43d688f3427048d85096",
       "version_major": 2,
       "version_minor": 0
      },
      "text/plain": [
       "VBox(children=(Label(value='Please upload a picture of a landmark'), FileUpload(value=(), accept='image/*', de…"
      ]
     },
     "metadata": {},
     "output_type": "display_data"
    }
   ],
   "source": [
    "from ipywidgets import VBox, Button, FileUpload, Output, Label\n",
    "from PIL import Image\n",
    "from IPython.display import display\n",
    "import io\n",
    "import numpy as np\n",
    "import torch\n",
    "import torchvision.transforms as T\n",
    "from src.model import MyModel  # Ensure this matches your actual module and class name\n",
    "\n",
    "# Load the model\n",
    "model = MyModel(num_classes=5)  # Ensure the number of classes matches your model\n",
    "model_path = \"checkpoints/model.pth\"\n",
    "model.load_state_dict(torch.load(model_path))\n",
    "model.eval()  # Ensure the model is in evaluation mode\n",
    "\n",
    "# Define class names (update with actual class names)\n",
    "class_names = ['Eiffel Tower', 'Golden Gate Bridge', 'Machu Picchu', 'Statue of Liberty', 'Sydney Opera House']\n",
    "model.class_names = class_names\n",
    "\n",
    "def preprocess_image(img):\n",
    "    img = img.resize((256, 256))\n",
    "    img = img.crop((16, 16, 240, 240))  # Center crop to 224x224\n",
    "    preprocess = T.Compose([\n",
    "        T.ToTensor(),\n",
    "        T.Normalize(mean=[0.4638, 0.4725, 0.4687], std=[0.2699, 0.2706, 0.3018])\n",
    "    ])\n",
    "    img = preprocess(img).unsqueeze_(0)\n",
    "    return img\n",
    "\n",
    "def on_click_classify(change):\n",
    "    try:\n",
    "        # Load image that has been uploaded\n",
    "        if not btn_upload.value:\n",
    "            raise ValueError(\"No image uploaded\")\n",
    "        fn = io.BytesIO(list(btn_upload.value.values())[0]['content'])\n",
    "        img = Image.open(fn)\n",
    "        img.load()\n",
    "\n",
    "        # Clear the previous output (if any)\n",
    "        out_pl.clear_output()\n",
    "\n",
    "        # Display the image\n",
    "        with out_pl:\n",
    "            ratio = img.size[0] / img.size[1]\n",
    "            c = img.copy()\n",
    "            c.thumbnail([ratio * 200, 200])\n",
    "            display(c)\n",
    "\n",
    "        # Preprocess the image\n",
    "        timg = preprocess_image(img)\n",
    "\n",
    "        # Calling the model\n",
    "        with torch.no_grad():\n",
    "            outputs = model(timg)\n",
    "            softmax = torch.nn.functional.softmax(outputs, dim=1).cpu().numpy().squeeze()\n",
    "\n",
    "        # Get the indexes of the classes ordered by softmax (larger first)\n",
    "        idxs = np.argsort(softmax)[::-1]\n",
    "\n",
    "        # Loop over the classes with the largest softmax\n",
    "        for i in range(5):\n",
    "            # Get softmax value\n",
    "            p = softmax[idxs[i]]\n",
    "\n",
    "            # Get class name\n",
    "            landmark_name = model.class_names[idxs[i]]\n",
    "\n",
    "            labels[i].value = f\"{landmark_name} (prob: {p:.2f})\"\n",
    "    except Exception as e:\n",
    "        out_pl.clear_output()\n",
    "        with out_pl:\n",
    "            display(f\"Error: {str(e)}\")\n",
    "\n",
    "# Button for file upload\n",
    "btn_upload = FileUpload(accept='image/*', multiple=False)\n",
    "\n",
    "# Button to run the classification\n",
    "btn_run = Button(description=\"Classify\")\n",
    "btn_run.on_click(on_click_classify)\n",
    "\n",
    "# Button to clear output\n",
    "btn_clear = Button(description=\"Clear\")\n",
    "def on_click_clear(change):\n",
    "    out_pl.clear_output()\n",
    "    for label in labels:\n",
    "        label.value = \"\"\n",
    "btn_clear.on_click(on_click_clear)\n",
    "\n",
    "# Labels to display the top 5 predictions\n",
    "labels = [Label() for _ in range(5)]\n",
    "\n",
    "# Output widget for displaying the image\n",
    "out_pl = Output()\n",
    "out_pl.clear_output()\n",
    "\n",
    "# Arrange widgets in a vertical box\n",
    "wgs = [Label(\"Please upload a picture of a landmark\"), btn_upload, btn_run, btn_clear, out_pl] + labels\n",
    "display(VBox(wgs))\n"
   ]
  },
  {
   "cell_type": "markdown",
   "metadata": {},
   "source": [
    "# Create your submission archive\n",
    "\n",
    "Now that you are done with your project, please run the following cell. It will generate a file containing all the code you have written, as well as the notebooks. Please submit that file to complete your project"
   ]
  },
  {
   "cell_type": "code",
   "execution_count": 1,
   "metadata": {},
   "outputs": [
    {
     "name": "stdout",
     "output_type": "stream",
     "text": [
      "executing: jupyter nbconvert --to html cnn_from_scratch.ipynb\n",
      "[NbConvertApp] Converting notebook cnn_from_scratch.ipynb to html\n",
      "[NbConvertApp] Writing 967288 bytes to cnn_from_scratch.html\n",
      "executing: jupyter nbconvert --to html app.ipynb\n",
      "[NbConvertApp] Converting notebook app.ipynb to html\n",
      "[NbConvertApp] Writing 300910 bytes to app.html\n",
      "executing: jupyter nbconvert --to html transfer_learning.ipynb\n",
      "[NbConvertApp] Converting notebook transfer_learning.ipynb to html\n",
      "[NbConvertApp] Writing 413302 bytes to transfer_learning.html\n",
      "Adding files to submission_2024-05-28T18h20m.tar.gz\n",
      "src/predictor.py\n",
      "src/model.py\n",
      "src/__init__.py\n",
      "src/helpers.py\n",
      "src/transfer.py\n",
      "src/train.py\n",
      "src/data.py\n",
      "src/optimization.py\n",
      "src/create_submit_pkg.py\n",
      "cnn_from_scratch.ipynb\n",
      "app.ipynb\n",
      "transfer_learning.ipynb\n",
      "app.html\n",
      "transfer_learning.html\n",
      "cnn_from_scratch.html\n",
      "\n",
      "----------------------------------------------------------------\n",
      "Done. Please submit the file submission_2024-05-28T18h20m.tar.gz\n",
      "----------------------------------------------------------------\n"
     ]
    }
   ],
   "source": [
    "!python src/create_submit_pkg.py"
   ]
  },
  {
   "cell_type": "code",
   "execution_count": null,
   "metadata": {},
   "outputs": [],
   "source": []
  }
 ],
 "metadata": {
  "kernelspec": {
   "display_name": "Python 3",
   "language": "python",
   "name": "python3"
  },
  "language_info": {
   "codemirror_mode": {
    "name": "ipython",
    "version": 3
   },
   "file_extension": ".py",
   "mimetype": "text/x-python",
   "name": "python",
   "nbconvert_exporter": "python",
   "pygments_lexer": "ipython3",
   "version": "3.7.6"
  },
  "widgets": {
   "application/vnd.jupyter.widget-state+json": {
    "state": {},
    "version_major": 2,
    "version_minor": 0
   }
  }
 },
 "nbformat": 4,
 "nbformat_minor": 5
}
